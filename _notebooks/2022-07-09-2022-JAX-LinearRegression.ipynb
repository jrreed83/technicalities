{
 "cells": [
  {
   "cell_type": "markdown",
   "id": "direct-series",
   "metadata": {},
   "source": [
    "# Linear Regression\n",
    "\n",
    "- toc: true \n",
    "- badges: true\n",
    "- comments: true\n",
    "- categories: [jupyter]\n",
    "- image: images/chart-preview.png"
   ]
  },
  {
   "cell_type": "markdown",
   "id": "81017c7b",
   "metadata": {},
   "source": [
    "In this notebook, JAX will be used to solve a basic linear regression problem: given inputs $X$ and targets $y$, find the weights $w$ and bias $b$ \n",
    "that minimizes the loss function.\n",
    "\n",
    "$$\n",
    "    \\ell (w, b) = \\| X w + b - y \\| ^ 2\n",
    "$$\n",
    "\n",
    "In the process of programming, I'll slowly build up a basic neural network library."
   ]
  },
  {
   "cell_type": "code",
   "execution_count": 1,
   "id": "burning-cleaner",
   "metadata": {},
   "outputs": [],
   "source": [
    "import jax \n",
    "import jax.numpy as jnp\n",
    "from jax import grad, random\n",
    "import numpy as np\n",
    "import matplotlib.pyplot as plt"
   ]
  },
  {
   "cell_type": "markdown",
   "id": "female-subscriber",
   "metadata": {},
   "source": [
    "## Generate Data"
   ]
  },
  {
   "cell_type": "code",
   "execution_count": 2,
   "id": "marine-remove",
   "metadata": {},
   "outputs": [
    {
     "name": "stderr",
     "output_type": "stream",
     "text": [
      "WARNING:absl:No GPU/TPU found, falling back to CPU. (Set TF_CPP_MIN_LOG_LEVEL=0 and rerun for more info.)\n"
     ]
    }
   ],
   "source": [
    "seed = 3551\n",
    "key = random.PRNGKey(seed)\n",
    "X = random.normal(key, (10, 3))\n",
    "w = jnp.array([1.0, 2.0, 3.0])\n",
    "b = 4.0 \n",
    "y = jnp.dot(X, w) + b"
   ]
  },
  {
   "cell_type": "markdown",
   "id": "absent-language",
   "metadata": {},
   "source": [
    "## Model Definition\n",
    "\n",
    "We use a simple linear model, with the parameters (weights and biases) stored in a simple python dictionary, named `params`."
   ]
  },
  {
   "cell_type": "code",
   "execution_count": 18,
   "id": "acquired-guinea",
   "metadata": {},
   "outputs": [],
   "source": [
    "def linear_model(params, X):\n",
    "    w = params['w']\n",
    "    b = params['b']\n",
    "    return jnp.dot(X, w) + b"
   ]
  },
  {
   "cell_type": "markdown",
   "id": "advisory-spirit",
   "metadata": {},
   "source": [
    "## Loss Function\n",
    "\n",
    "The loss function takes the current set of parameters, the model, and the data and calculates the distance between the model\n",
    "predictions and the targets."
   ]
  },
  {
   "cell_type": "code",
   "execution_count": 19,
   "id": "instructional-trademark",
   "metadata": {},
   "outputs": [],
   "source": [
    "def mse_loss(params, model, data):\n",
    "    X, y = data\n",
    "    l = model(params, X) \n",
    "    return jnp.mean((l - y)**2) "
   ]
  },
  {
   "cell_type": "markdown",
   "id": "charged-knock",
   "metadata": {},
   "source": [
    "## Training Loop\n",
    "\n",
    "The training loop tunes the model parameters for a specified number of epochs.  "
   ]
  },
  {
   "cell_type": "code",
   "execution_count": 29,
   "id": "breeding-sailing",
   "metadata": {},
   "outputs": [],
   "source": [
    "def train(lr=1e-2, model=linear_model, num_epochs=50, data = (X, y), loss=mse_loss):\n",
    "    \n",
    "    X, y = data\n",
    "    loss_vals = np.zeros(num_epochs)\n",
    "    fn = jax.value_and_grad(loss, argnums=0) # differentiate loss with respect to params\n",
    "    params = {'w': jnp.array([0,0,0], dtype=jnp.float32), 'b': 0.0}\n",
    "    for i in range(num_epochs):\n",
    "        loss_i, grad_params_i = fn(params, model, data)\n",
    "        for key in params:\n",
    "            params[key] -= lr*grad_params_i[key]\n",
    "    \n",
    "        loss_vals[i] = loss_i\n",
    "    return loss_vals, params"
   ]
  },
  {
   "cell_type": "code",
   "execution_count": 30,
   "id": "vital-conference",
   "metadata": {},
   "outputs": [
    {
     "name": "stdout",
     "output_type": "stream",
     "text": [
      "{'w': DeviceArray([1.2412488, 2.0142598, 2.4296365], dtype=float32), 'b': DeviceArray(3.5365684, dtype=float32, weak_type=True)}\n"
     ]
    }
   ],
   "source": [
    "num_epochs, lr = 100, 1e-2\n",
    "loss_values, params = train(lr=lr, num_epochs=num_epochs, model=linear_model)\n",
    "print(params)"
   ]
  },
  {
   "cell_type": "markdown",
   "id": "monthly-finder",
   "metadata": {},
   "source": [
    "## Performance Curve\n",
    "\n",
    "Let's see the trend in the loss function."
   ]
  },
  {
   "cell_type": "code",
   "execution_count": 31,
   "id": "sonic-federal",
   "metadata": {},
   "outputs": [
    {
     "data": {
      "image/png": "[encoded data removed]",
      "text/plain": [
       "<Figure size 1440x360 with 1 Axes>"
      ]
     },
     "metadata": {
      "needs_background": "light"
     },
     "output_type": "display_data"
    }
   ],
   "source": [
    "plt.figure(1, figsize=(20,5))\n",
    "plt.plot(np.arange(num_epochs), loss_values, linewidth=2)\n",
    "plt.grid()\n",
    "plt.xlabel('Epochs')\n",
    "plt.ylabel('Loss')\n",
    "plt.xlim(0, num_epochs)\n",
    "plt.tight_layout()"
   ]
  },
  {
   "cell_type": "code",
   "execution_count": null,
   "id": "alive-hudson",
   "metadata": {},
   "outputs": [],
   "source": []
  }
 ],
 "metadata": {
  "kernelspec": {
   "display_name": "Python 3.8.5 ('base')",
   "language": "python",
   "name": "python3"
  },
  "language_info": {
   "codemirror_mode": {
    "name": "ipython",
    "version": 3
   },
   "file_extension": ".py",
   "mimetype": "text/x-python",
   "name": "python",
   "nbconvert_exporter": "python",
   "pygments_lexer": "ipython3",
   "version": "3.8.5"
  },
  "vscode": {
   "interpreter": {
    "hash": "a9eb3d55570fa83a5d0e75ab0fc9e29d7692aa2022c5c86ae3b4c36003072d28"
   }
  }
 },
 "nbformat": 4,
 "nbformat_minor": 5
}
