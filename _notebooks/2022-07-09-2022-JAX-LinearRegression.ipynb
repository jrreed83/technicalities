{
 "cells": [
  {
   "cell_type": "markdown",
   "id": "direct-series",
   "metadata": {},
   "source": [
    "# Linear Regression\n",
    "\n",
    "- toc: true \n",
    "- badges: true\n",
    "- comments: true\n",
    "- categories: [jupyter]\n",
    "- image: images/chart-preview.png"
   ]
  },
  {
   "cell_type": "markdown",
   "id": "81017c7b",
   "metadata": {},
   "source": [
    "In this notebook, JAX will be used to solve a basic linear regression problem: given inputs $X$ and targets $y$, find the weights $w$ and bias $b$ \n",
    "that minimizes the loss function.\n",
    "\n",
    "$$\n",
    "    \\ell (w, b) = \\| X w + b - y \\| ^ 2\n",
    "$$\n",
    "\n",
    "In the process of solving this problem, I'll slowly build up a basic neural network library."
   ]
  },
  {
   "cell_type": "code",
   "execution_count": 1,
   "id": "burning-cleaner",
   "metadata": {},
   "outputs": [],
   "source": [
    "import jax \n",
    "import jax.numpy as jnp\n",
    "from jax import grad, random\n",
    "import numpy as np\n",
    "import matplotlib.pyplot as plt"
   ]
  },
  {
   "cell_type": "markdown",
   "id": "female-subscriber",
   "metadata": {},
   "source": [
    "## Generate Data\n",
    "\n",
    "The first thing I need to to is generate some mock data.  To do this, I define a fixed three-dimensional weight vector `w` and scalar bias `b`, that describe a hyperplane.  "
   ]
  },
  {
   "cell_type": "code",
   "execution_count": null,
   "id": "74f72e05",
   "metadata": {},
   "outputs": [],
   "source": [
    "w = jnp.array([1.0, 2.0, 3.0])\n",
    "b = 4.0 "
   ]
  },
  {
   "cell_type": "markdown",
   "id": "b3c49748",
   "metadata": {},
   "source": [
    "Next, I'm going to generate a bunch of random points satisfying the equation\n",
    "\n",
    "$$\n",
    "    y = x \\cdot w + b\n",
    "$$\n"
   ]
  },
  {
   "cell_type": "code",
   "execution_count": 44,
   "id": "marine-remove",
   "metadata": {},
   "outputs": [],
   "source": [
    "\n",
    "seed = 3551\n",
    "key = random.PRNGKey(seed)\n",
    "X = random.normal(key, (10, 3))\n",
    "\n",
    "y = jnp.dot(X, w) + b"
   ]
  },
  {
   "cell_type": "markdown",
   "id": "absent-language",
   "metadata": {},
   "source": [
    "## Model Definition\n",
    "\n",
    "We use a simple linear model, with the parameters (weights and biases) stored in a simple python dictionary, named `params`."
   ]
  },
  {
   "cell_type": "code",
   "execution_count": 18,
   "id": "acquired-guinea",
   "metadata": {},
   "outputs": [],
   "source": [
    "def linear_model(params, X):\n",
    "    w = params['w']\n",
    "    b = params['b']\n",
    "    return jnp.dot(X, w) + b"
   ]
  },
  {
   "cell_type": "markdown",
   "id": "advisory-spirit",
   "metadata": {},
   "source": [
    "## Loss Function\n",
    "\n",
    "The loss function takes the current set of parameters, the model, and the data and calculates the distance between the model\n",
    "predictions and the targets.  "
   ]
  },
  {
   "cell_type": "code",
   "execution_count": 19,
   "id": "instructional-trademark",
   "metadata": {},
   "outputs": [],
   "source": [
    "def mse_loss(params, model, data):\n",
    "    X, y = data\n",
    "    l = model(params, X) \n",
    "    return jnp.mean((l - y)**2) "
   ]
  },
  {
   "cell_type": "markdown",
   "id": "a6dbaa42",
   "metadata": {},
   "source": [
    "I don't like the fact that the `params` dictionary and the model are both passed as arguments to the loss function.  Eventually, I'd like to keep the `params` dictionary in some sort of model object, pass the model to the loss, and have the model implementation handle all the parameter specific stuff.  "
   ]
  },
  {
   "cell_type": "markdown",
   "id": "charged-knock",
   "metadata": {},
   "source": [
    "## Training Loop\n",
    "\n",
    "The training loop tunes the model parameters for a specified number of epochs.  For now the parameters are adjusted once per epoch, after the entire dataset is consumed by the model.  "
   ]
  },
  {
   "cell_type": "code",
   "execution_count": 34,
   "id": "breeding-sailing",
   "metadata": {},
   "outputs": [],
   "source": [
    "def train(lr=1e-2, model=linear_model, num_epochs=50, data = (X, y), loss=mse_loss):\n",
    "    \n",
    "    X, y = data\n",
    "    loss_vals = np.zeros(num_epochs)\n",
    "\n",
    "    # differentiate the loss with respect to the params, which is the zeroth argument number\n",
    "    fn = jax.value_and_grad(loss, argnums=0) \n",
    "\n",
    "    # initialize the model parameters\n",
    "    params = {'w': jnp.array([0,0,0], dtype=jnp.float32), 'b': 0.0}\n",
    "\n",
    "    for i in range(num_epochs):\n",
    "        loss_i, grad_params_i = fn(params, model, data)\n",
    "        for key in params:\n",
    "            params[key] -= lr*grad_params_i[key]\n",
    "    \n",
    "        loss_vals[i] = loss_i\n",
    "    return loss_vals, params"
   ]
  },
  {
   "cell_type": "code",
   "execution_count": 40,
   "id": "vital-conference",
   "metadata": {},
   "outputs": [
    {
     "name": "stdout",
     "output_type": "stream",
     "text": [
      "{'w': DeviceArray([1.0605003, 1.952814 , 2.9707012], dtype=float32), 'b': DeviceArray(4.0229278, dtype=float32, weak_type=True)}\n"
     ]
    }
   ],
   "source": [
    "num_epochs, lr = 500, 1e-2\n",
    "loss_values, params = train(lr=lr, num_epochs=num_epochs, model=linear_model)\n"
   ]
  },
  {
   "cell_type": "code",
   "execution_count": 43,
   "id": "61917bb7",
   "metadata": {},
   "outputs": [
    {
     "name": "stdout",
     "output_type": "stream",
     "text": [
      "{'w': DeviceArray([1.0605003, 1.952814 , 2.9707012], dtype=float32), 'b': DeviceArray(4.0229278, dtype=float32, weak_type=True)}\n",
      "w error = 0.04818015173077583 %\n",
      "b error = 0.5731940269470215 %\n"
     ]
    }
   ],
   "source": [
    "print(params)\n",
    "w_error = jnp.sum((params['w'] - w)**2) / jnp.sum(w**2)\n",
    "b_error = jnp.abs((params['b'] - b)) / jnp.abs(b)\n",
    "\n",
    "print(f'w error = {w_error*100} %')\n",
    "print(f'b error = {b_error*100} %')"
   ]
  },
  {
   "cell_type": "markdown",
   "id": "cb44fcdd",
   "metadata": {},
   "source": [
    "It looks like the learned parameters are pretty close to the parameters used to generate the initial dataset.  This means the training loop is working properly."
   ]
  },
  {
   "cell_type": "markdown",
   "id": "monthly-finder",
   "metadata": {},
   "source": [
    "## Performance Curve\n",
    "\n",
    "Let's see the trend in the loss function."
   ]
  },
  {
   "cell_type": "code",
   "execution_count": 39,
   "id": "sonic-federal",
   "metadata": {},
   "outputs": [
    {
     "data": {
      "image/png": "[encoded data removed]",
      "text/plain": [
       "<Figure size 1440x360 with 1 Axes>"
      ]
     },
     "metadata": {
      "needs_background": "light"
     },
     "output_type": "display_data"
    }
   ],
   "source": [
    "plt.rcParams['font.size'] = 20\n",
    "plt.figure(1, figsize=(20,5))\n",
    "plt.plot(np.arange(num_epochs), loss_values, linewidth=2)\n",
    "plt.grid()\n",
    "plt.xlabel('Epochs')\n",
    "plt.ylabel('Loss')\n",
    "plt.xlim(0, num_epochs)\n",
    "plt.tight_layout()"
   ]
  },
  {
   "cell_type": "markdown",
   "id": "alive-hudson",
   "metadata": {},
   "source": [
    "## Conclusion\n",
    "\n",
    "Linear regression is pretty simple, particulary when you have access to an automatic differentiation tool."
   ]
  },
  {
   "cell_type": "markdown",
   "id": "da6e6457",
   "metadata": {},
   "source": []
  }
 ],
 "metadata": {
  "kernelspec": {
   "display_name": "Python 3.8.5 ('base')",
   "language": "python",
   "name": "python3"
  },
  "language_info": {
   "codemirror_mode": {
    "name": "ipython",
    "version": 3
   },
   "file_extension": ".py",
   "mimetype": "text/x-python",
   "name": "python",
   "nbconvert_exporter": "python",
   "pygments_lexer": "ipython3",
   "version": "3.8.5"
  },
  "vscode": {
   "interpreter": {
    "hash": "a9eb3d55570fa83a5d0e75ab0fc9e29d7692aa2022c5c86ae3b4c36003072d28"
   }
  }
 },
 "nbformat": 4,
 "nbformat_minor": 5
}
