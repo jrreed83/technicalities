{
 "cells": [
  {
   "cell_type": "markdown",
   "id": "medieval-warner",
   "metadata": {},
   "source": [
    "# Linear Regression with JAX\n",
    "\n",
    "- toc: true \n",
    "- badges: true\n",
    "- comments: false\n",
    "- categories: [jax]"
   ]
  },
  {
   "cell_type": "markdown",
   "id": "alleged-harvest",
   "metadata": {},
   "source": [
    "In this notebook, JAX will be used to solve a basic linear regression problem: given inputs $X$ and targets $y$, find the weights $w$ and bias $b$ \n",
    "that minimizes the loss function.\n",
    "\n",
    "$$\n",
    "    \\ell (w, b) = \\| X w + b - y \\| ^ 2\n",
    "$$\n",
    "\n",
    "In the process of solving this problem, I'll slowly build up a basic neural network library.  Let me say upfront that I'm new to JAX, but it looks like a very elegant library."
   ]
  },
  {
   "cell_type": "code",
   "execution_count": 1,
   "id": "catholic-parker",
   "metadata": {},
   "outputs": [],
   "source": [
    "import jax \n",
    "import jax.numpy as jnp\n",
    "import numpy as np\n",
    "import matplotlib.pyplot as plt"
   ]
  },
  {
   "cell_type": "markdown",
   "id": "unsigned-bishop",
   "metadata": {},
   "source": [
    "## Generate Data\n",
    "\n",
    "The first thing I need to to is generate some mock data satisfying a linear hyperplane \n",
    "\n",
    "$$\n",
    "    y = x \\cdot w + b\n",
    "$$\n",
    "\n",
    "Here's a little utility function we can use for this purpose."
   ]
  },
  {
   "cell_type": "code",
   "execution_count": 121,
   "id": "diverse-prison",
   "metadata": {},
   "outputs": [],
   "source": [
    "def generate_data(w, b, num_samples = 10):\n",
    "    seed = 3551\n",
    "    key = jax.random.PRNGKey(seed)\n",
    "    X = jax.random.normal(key, (num_samples, 3))\n",
    "\n",
    "    y = jnp.dot(X, w) + b\n",
    "\n",
    "    return X, y"
   ]
  },
  {
   "cell_type": "markdown",
   "id": "greenhouse-dealer",
   "metadata": {},
   "source": [
    "## Model Definition\n",
    "\n",
    "We use a simple linear model, with the parameters (weights and biases) stored in a simple python dictionary, named `params`.  Although it may not be clear in the\n",
    "function definition, the `x` argument should be interpreted as a single input sample, rather than a mini-batch of samples.  Applying the model to a batch of samples\n",
    "will be handled in the loss function below."
   ]
  },
  {
   "cell_type": "code",
   "execution_count": 74,
   "id": "confident-lease",
   "metadata": {},
   "outputs": [],
   "source": [
    "def linear_model(params, x):\n",
    "    w = params['w']\n",
    "    b = params['b']\n",
    "    return jnp.dot(x, w) + b"
   ]
  },
  {
   "cell_type": "markdown",
   "id": "renewable-luxembourg",
   "metadata": {},
   "source": [
    "## Loss Function\n",
    "\n",
    "The loss function takes the current set of parameters, the model, and the data and calculates the distance between the model\n",
    "predictions and the targets.  "
   ]
  },
  {
   "cell_type": "code",
   "execution_count": 102,
   "id": "structured-transcription",
   "metadata": {},
   "outputs": [],
   "source": [
    "@jax.value_and_grad\n",
    "def mse_loss(params, model, X, y):\n",
    "    l = jax.vmap(model, in_axes=(None, 0))(params, X) \n",
    "    return jnp.mean((l - y)**2) "
   ]
  },
  {
   "cell_type": "markdown",
   "id": "cognitive-doctrine",
   "metadata": {},
   "source": [
    "By decorating the loss with `@jax.value_and_grad` annotation, we're telling the JAX system that\n",
    "the value and gradient should be returned.  Note also that the model passed into the loss is transformed into a vectorized model\n",
    "with `jax.vmap`.  The `in_axes` argument is a tuple whose length matches the number of arguments passed into `model` (in this case `2`).  Each tuple element indicates which dimension should be vectorized for the corresponding function argument.  In our case, `X` is an $m \\times 3$ array ($m$ indicating the number of samples in the batch).  Therefore, `in_axes` is set to `(None, 0)` because we don't want to vectorize over `params`, but we do want to vectorize the zeroth dimension of `X`. "
   ]
  },
  {
   "cell_type": "markdown",
   "id": "south-edwards",
   "metadata": {},
   "source": [
    "As an aside, I don't like the fact that `params` and `model` are both passed as arguments to the loss function.  Eventually, I'd like to keep the `params` dictionary in some sort of model object, pass the model to the loss, and have the model implementation handle all the parameter specific stuff.  This is how all of the JAX-based neural libraries (Haiku, Flax, Equinox, etc seem to work.)"
   ]
  },
  {
   "cell_type": "markdown",
   "id": "delayed-vertex",
   "metadata": {},
   "source": [
    "## Training Loop\n",
    "\n",
    "The training loop tunes the model parameters for a specified number of epochs.  For now the parameters are adjusted once per epoch, after the entire dataset is consumed by the model.  "
   ]
  },
  {
   "cell_type": "code",
   "execution_count": 103,
   "id": "further-jerusalem",
   "metadata": {},
   "outputs": [],
   "source": [
    "def train(data, lr=1e-2, model=linear_model, num_epochs=50, loss=mse_loss):\n",
    "    \n",
    "    X, y = data\n",
    "    loss_vals = np.zeros(num_epochs)\n",
    "\n",
    "\n",
    "    # initialize the model parameters\n",
    "    params = {'w': jnp.array([0,0,0], dtype=jnp.float32), 'b': 0.0}\n",
    "\n",
    "    for i in range(num_epochs):\n",
    "        loss_i, grad_params_i = loss(params, model, X, y)\n",
    "        for key in params:\n",
    "            params[key] -= lr*grad_params_i[key]\n",
    "    \n",
    "        loss_vals[i] = loss_i\n",
    "    return loss_vals, params"
   ]
  },
  {
   "cell_type": "code",
   "execution_count": 122,
   "id": "together-bolivia",
   "metadata": {},
   "outputs": [],
   "source": [
    "X, y = generate_data(w = jnp.array([1.0, 2.0, 3.0]), b=4.0, num_samples=100)\n",
    "num_epochs, lr = 500, 1e-2\n",
    "loss_values, params = train(data=(X, y), lr=lr, num_epochs=num_epochs, model=linear_model)\n"
   ]
  },
  {
   "cell_type": "code",
   "execution_count": 123,
   "id": "electric-logic",
   "metadata": {},
   "outputs": [
    {
     "name": "stdout",
     "output_type": "stream",
     "text": [
      "weights = [0.99990535 1.9992862  3.0005229 ], bias = 3.999452590942383\n"
     ]
    }
   ],
   "source": [
    "print(f'weights = {params[\"w\"]}, bias = {params[\"b\"]}')"
   ]
  },
  {
   "cell_type": "markdown",
   "id": "engaging-perth",
   "metadata": {},
   "source": [
    "It looks like the learned parameters are pretty close to the parameters used to generate the initial dataset.  This provides a little assurance that the training loop is \n",
    "working properly."
   ]
  },
  {
   "cell_type": "markdown",
   "id": "communist-logan",
   "metadata": {},
   "source": [
    "## Performance Curve\n",
    "\n",
    "Let's see the trend in the loss function."
   ]
  },
  {
   "cell_type": "code",
   "execution_count": 124,
   "id": "stuck-fault",
   "metadata": {},
   "outputs": [
    {
     "data": {
      "image/png": "[encoded data removed]",
      "text/plain": [
       "<Figure size 1440x360 with 1 Axes>"
      ]
     },
     "metadata": {
      "needs_background": "light"
     },
     "output_type": "display_data"
    }
   ],
   "source": [
    "plt.rcParams['font.size'] = 20\n",
    "plt.figure(1, figsize=(20,5))\n",
    "plt.plot(np.arange(num_epochs), loss_values, linewidth=2)\n",
    "plt.grid()\n",
    "plt.xlabel('Epochs')\n",
    "plt.ylabel('Loss')\n",
    "plt.xlim(0, num_epochs)\n",
    "plt.tight_layout()"
   ]
  },
  {
   "cell_type": "markdown",
   "id": "aging-french",
   "metadata": {},
   "source": [
    "## Conclusion\n",
    "\n",
    "In future JAX-related posts, I'm planning on using it to build more sophisticated systems.  This might include solving concocted toy problems, implementing models from journal articles, or doing something new.  I realize there are plenty of fairly mature libraries out there that can do this sort of thing, but I'd rather implement software that I can customize to meet my needs.  Of course this doesn't mean that I won't read code and borrow ideas from other developers."
   ]
  }
 ],
 "metadata": {
  "kernelspec": {
   "display_name": "Python 3 (ipykernel)",
   "language": "python",
   "name": "python3"
  },
  "language_info": {
   "codemirror_mode": {
    "name": "ipython",
    "version": 3
   },
   "file_extension": ".py",
   "mimetype": "text/x-python",
   "name": "python",
   "nbconvert_exporter": "python",
   "pygments_lexer": "ipython3",
   "version": "3.8.5"
  },
  "vscode": {
   "interpreter": {
    "hash": "a9eb3d55570fa83a5d0e75ab0fc9e29d7692aa2022c5c86ae3b4c36003072d28"
   }
  }
 },
 "nbformat": 4,
 "nbformat_minor": 5
}
