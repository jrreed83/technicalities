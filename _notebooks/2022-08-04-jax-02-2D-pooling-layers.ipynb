{
 "cells": [
  {
   "cell_type": "markdown",
   "id": "assured-things",
   "metadata": {},
   "source": [
    "# Two Dimensional Pooling Layers\n",
    "\n",
    "- toc: true\n",
    "- badges: true\n",
    "- comments: false\n",
    "- categories: [jax, pooling]\n",
    "- hide: false"
   ]
  },
  {
   "cell_type": "markdown",
   "id": "excited-myanmar",
   "metadata": {},
   "source": [
    "## Introduction\n"
   ]
  },
  {
   "cell_type": "markdown",
   "id": "sixth-nowhere",
   "metadata": {},
   "source": [
    "## Purpose of Pooling Layers"
   ]
  },
  {
   "cell_type": "markdown",
   "id": "ready-aggregate",
   "metadata": {},
   "source": [
    "## Import Libraries\n",
    "\n",
    "For now, I only need numpy and tensorflow."
   ]
  },
  {
   "cell_type": "code",
   "execution_count": 4,
   "id": "banned-flower",
   "metadata": {},
   "outputs": [],
   "source": [
    "import numpy as np\n",
    "import tensorflow as tf"
   ]
  },
  {
   "cell_type": "markdown",
   "id": "iraqi-preview",
   "metadata": {},
   "source": [
    "## Implementation from First Principles"
   ]
  },
  {
   "cell_type": "code",
   "execution_count": 101,
   "id": "going-reasoning",
   "metadata": {},
   "outputs": [],
   "source": [
    "def downsample_images(input_batch, pool_size, strides, pool_fn=np.max):\n",
    "    batch_size, xm, xn, num_channels  = input_batch.shape \n",
    "    \n",
    "    pm, pn = pool_size \n",
    "    sm, sn = strides\n",
    "    \n",
    "    ym, yn = 1 + ((xm - pm)//sm), 1 + ((xn - pn)//sn) \n",
    "    y = np.zeros((batch_size, ym, yn, num_channels))\n",
    "\n",
    "    for iy, ix in enumerate(range(0, xm-pm+1, sm)):\n",
    "        for jy, jx in enumerate(range(0, xn-pn+1, sn)):\n",
    "            y[:, iy, jy, :] = pool_fn(\n",
    "                input_batch[:, ix:ix+pm, jx:jx+pn, :],\n",
    "                axis=(1,2)\n",
    "            )         \n",
    "    return y    "
   ]
  },
  {
   "cell_type": "markdown",
   "id": "comic-hunger",
   "metadata": {},
   "source": [
    "## Compare to Keras"
   ]
  },
  {
   "cell_type": "code",
   "execution_count": 102,
   "id": "consecutive-moment",
   "metadata": {},
   "outputs": [],
   "source": [
    "layer_keras = tf.keras.layers.MaxPool2D( \n",
    "    pool_size=(4, 4), \n",
    "    strides=(2,2),\n",
    "    padding='valid'\n",
    ")"
   ]
  },
  {
   "cell_type": "code",
   "execution_count": 103,
   "id": "accessory-choir",
   "metadata": {},
   "outputs": [],
   "source": [
    "input_batch = np.random.randn(32,28,28,3)"
   ]
  },
  {
   "cell_type": "code",
   "execution_count": 104,
   "id": "acoustic-construction",
   "metadata": {},
   "outputs": [],
   "source": [
    "output_batch_keras = layer_keras(input_batch)"
   ]
  },
  {
   "cell_type": "code",
   "execution_count": 107,
   "id": "sexual-content",
   "metadata": {},
   "outputs": [],
   "source": [
    "output_batch_numpy = downsample_images(\n",
    "    input_batch, \n",
    "    pool_size=layer_keras.pool_size,\n",
    "    strides=layer_keras.strides,\n",
    "    pool_fn = np.max\n",
    ")"
   ]
  },
  {
   "cell_type": "markdown",
   "id": "assigned-stations",
   "metadata": {},
   "source": [
    "To check that the Keras output and numpy outputs are approximately equal, I make sure that the absolute error is below a threshold."
   ]
  },
  {
   "cell_type": "code",
   "execution_count": 109,
   "id": "electoral-boating",
   "metadata": {},
   "outputs": [],
   "source": [
    "assert np.max(np.abs(output_batch_keras - output_batch_numpy)) < 1e-16"
   ]
  },
  {
   "cell_type": "markdown",
   "id": "suspected-response",
   "metadata": {},
   "source": [
    "Although the outputs are about the same, the Keras version runs much faster, as the following benchmarks show.    "
   ]
  },
  {
   "cell_type": "code",
   "execution_count": 110,
   "id": "affecting-nudist",
   "metadata": {},
   "outputs": [
    {
     "name": "stdout",
     "output_type": "stream",
     "text": [
      "3.61 ms ± 47.7 µs per loop (mean ± std. dev. of 7 runs, 100 loops each)\n"
     ]
    }
   ],
   "source": [
    "%%timeit -n 100\n",
    "downsample_images(\n",
    "    input_batch, \n",
    "    pool_size=layer_keras.pool_size,\n",
    "    strides=layer_keras.strides,\n",
    ")"
   ]
  },
  {
   "cell_type": "code",
   "execution_count": 111,
   "id": "adolescent-offense",
   "metadata": {},
   "outputs": [
    {
     "name": "stdout",
     "output_type": "stream",
     "text": [
      "666 µs ± 52.7 µs per loop (mean ± std. dev. of 7 runs, 100 loops each)\n"
     ]
    }
   ],
   "source": [
    "%%timeit -n 100\n",
    "layer_keras(input_batch)"
   ]
  },
  {
   "cell_type": "markdown",
   "id": "frozen-halifax",
   "metadata": {},
   "source": [
    "### Pooling Layer in JAX"
   ]
  },
  {
   "cell_type": "code",
   "execution_count": 112,
   "id": "regulated-construction",
   "metadata": {},
   "outputs": [],
   "source": [
    "import jax\n",
    "import jax.numpy as jnp\n",
    "from typing import Tuple, List, Callable\n",
    "from fastcore.basics import patch"
   ]
  },
  {
   "cell_type": "code",
   "execution_count": 161,
   "id": "sexual-device",
   "metadata": {},
   "outputs": [],
   "source": [
    "class MaxPool2D: \n",
    "    pool_shape: Tuple[int,int]\n",
    "    strides: Tuple[int,int]\n",
    "    padding: str"
   ]
  },
  {
   "cell_type": "markdown",
   "id": "frank-cooper",
   "metadata": {},
   "source": [
    "#### Constructor\n"
   ]
  },
  {
   "cell_type": "code",
   "execution_count": 162,
   "id": "intended-competition",
   "metadata": {},
   "outputs": [],
   "source": [
    "@patch\n",
    "def __init__(\n",
    "    self: MaxPool2D, \n",
    "    pool_shape=(2,2), \n",
    "    strides=(1,1), \n",
    "    padding='valid'):\n",
    "    \n",
    "    self.pool_shape = pool_shape\n",
    "    self.strides = strides \n",
    "    self.padding = padding\n",
    "         "
   ]
  },
  {
   "cell_type": "markdown",
   "id": "cleared-cover",
   "metadata": {},
   "source": [
    "#### `__call__` Method"
   ]
  },
  {
   "cell_type": "code",
   "execution_count": 163,
   "id": "statistical-invention",
   "metadata": {},
   "outputs": [],
   "source": [
    "@patch\n",
    "def __call__(self: MaxPool2D, batch: jnp.ndarray):\n",
    "    \n",
    "    pool_shape = (1, ) + self.pool_shape + (1, )\n",
    "    strides = (1, ) + self.strides + (1, ) \n",
    "    outputs = jax.lax.reduce_window(\n",
    "        batch,\n",
    "        -jnp.inf,\n",
    "        jax.lax.max,\n",
    "        window_dimensions=pool_shape,\n",
    "        window_strides=strides,\n",
    "        padding=self.padding\n",
    "    )\n",
    "\n",
    "    return outputs "
   ]
  },
  {
   "cell_type": "markdown",
   "id": "developed-hungarian",
   "metadata": {},
   "source": [
    "#### Adding to pytree Registry\n",
    " "
   ]
  },
  {
   "cell_type": "code",
   "execution_count": 164,
   "id": "minus-cause",
   "metadata": {},
   "outputs": [],
   "source": [
    "@patch\n",
    "def tree_flatten(self: MaxPool2D) -> Tuple[List[jnp.ndarray], dict]:\n",
    "    params = (None,)\n",
    "    metadata = {k: v for k, v in self.__dict__.items()}\n",
    "    return params, metadata"
   ]
  },
  {
   "cell_type": "code",
   "execution_count": 165,
   "id": "extra-filling",
   "metadata": {},
   "outputs": [],
   "source": [
    "@patch(cls_method=True)\n",
    "def tree_unflatten(cls: MaxPool2D, metadata: dict, params:List[jnp.ndarray]):\n",
    "    # This assumes that each key-value pair in the metadata dict corresponds to a constructor argument.\n",
    "    layer = cls(**metadata)\n",
    "    return layer"
   ]
  },
  {
   "cell_type": "code",
   "execution_count": 166,
   "id": "coupled-narrative",
   "metadata": {},
   "outputs": [],
   "source": [
    "_ = jax.tree_util.register_pytree_node_class(MaxPool2D)"
   ]
  },
  {
   "cell_type": "markdown",
   "id": "junior-schema",
   "metadata": {},
   "source": [
    "## Compare JAX and Keras"
   ]
  },
  {
   "cell_type": "code",
   "execution_count": 167,
   "id": "bizarre-manor",
   "metadata": {},
   "outputs": [],
   "source": [
    "layer_jax = MaxPool2D(\n",
    "    pool_shape=layer_keras.pool_size,\n",
    "    strides=layer_keras.strides,\n",
    "    padding=layer_keras.padding\n",
    ")\n",
    "\n",
    "output_batch_jax = layer_jax(input_batch)"
   ]
  },
  {
   "cell_type": "markdown",
   "id": "choice-stroke",
   "metadata": {},
   "source": [
    "Because the following assertion passes, we can be reassured that both layers are calculating the same result."
   ]
  },
  {
   "cell_type": "code",
   "execution_count": 168,
   "id": "usual-factor",
   "metadata": {},
   "outputs": [],
   "source": [
    "assert np.max(np.abs(output_batch_keras - output_batch_jax)) < 1e-6"
   ]
  },
  {
   "cell_type": "markdown",
   "id": "magnetic-working",
   "metadata": {},
   "source": [
    "What about the calculation time?"
   ]
  },
  {
   "cell_type": "code",
   "execution_count": 169,
   "id": "figured-seminar",
   "metadata": {},
   "outputs": [
    {
     "name": "stdout",
     "output_type": "stream",
     "text": [
      "669 µs ± 40 µs per loop (mean ± std. dev. of 7 runs, 100 loops each)\n"
     ]
    }
   ],
   "source": [
    "%%timeit -n 100\n",
    "layer_keras(input_batch)"
   ]
  },
  {
   "cell_type": "code",
   "execution_count": 170,
   "id": "interested-square",
   "metadata": {},
   "outputs": [
    {
     "name": "stdout",
     "output_type": "stream",
     "text": [
      "249 µs ± 21.4 µs per loop (mean ± std. dev. of 7 runs, 100 loops each)\n"
     ]
    }
   ],
   "source": [
    "%%timeit -n 100\n",
    "layer_jax(input_batch)"
   ]
  },
  {
   "cell_type": "markdown",
   "id": "binary-chancellor",
   "metadata": {},
   "source": [
    "## Conclusion"
   ]
  }
 ],
 "metadata": {
  "kernelspec": {
   "display_name": "Python 3 (ipykernel)",
   "language": "python",
   "name": "python3"
  },
  "language_info": {
   "codemirror_mode": {
    "name": "ipython",
    "version": 3
   },
   "file_extension": ".py",
   "mimetype": "text/x-python",
   "name": "python",
   "nbconvert_exporter": "python",
   "pygments_lexer": "ipython3",
   "version": "3.8.5"
  },
  "vscode": {
   "interpreter": {
    "hash": "a9eb3d55570fa83a5d0e75ab0fc9e29d7692aa2022c5c86ae3b4c36003072d28"
   }
  }
 },
 "nbformat": 4,
 "nbformat_minor": 5
}
