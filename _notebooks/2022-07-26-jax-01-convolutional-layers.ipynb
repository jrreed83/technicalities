{
 "cells": [
  {
   "cell_type": "markdown",
   "id": "critical-editor",
   "metadata": {},
   "source": [
    "# Convolutional Layers\n",
    "\n",
    "- toc: true\n",
    "- badges: true\n",
    "- comments: false\n",
    "- categories: [jax, convolution, pooling]\n",
    "- hide: true"
   ]
  },
  {
   "cell_type": "markdown",
   "id": "crazy-holiday",
   "metadata": {},
   "source": [
    "## Introduction\n",
    "\n",
    "In this post, I'll start by implementing a basic convolutional layer using numpy and validate it against Keras.  After this, I'll write a more efficient one using JAX."
   ]
  },
  {
   "cell_type": "markdown",
   "id": "responsible-glucose",
   "metadata": {},
   "source": [
    "## How Convolutional Layers work"
   ]
  },
  {
   "cell_type": "markdown",
   "id": "young-progressive",
   "metadata": {},
   "source": [
    "## Import Libraries\n",
    "\n",
    "For now, I only need numpy and tensorflow."
   ]
  },
  {
   "cell_type": "code",
   "execution_count": 18,
   "id": "million-shepherd",
   "metadata": {},
   "outputs": [],
   "source": [
    "import numpy as np\n",
    "import tensorflow as tf"
   ]
  },
  {
   "cell_type": "markdown",
   "id": "rubber-taiwan",
   "metadata": {},
   "source": [
    "## Implementation from First Principles"
   ]
  },
  {
   "cell_type": "markdown",
   "id": "thick-somerset",
   "metadata": {},
   "source": [
    "This function filters a single image with every output filter and adds the bias term, resulting in a rank 3 array.  The first two levels of the nested loop extract a rank 3 chunk from `image`, while the third level of the nested loop performs the filtering and biasing.  After a chunk is processed and the results placed in the output array `y`, the filter shape and stride is used to calculate the next chunk position.  "
   ]
  },
  {
   "cell_type": "code",
   "execution_count": 331,
   "id": "immune-frederick",
   "metadata": {},
   "outputs": [],
   "source": [
    "def filter_image(image, filters, strides):\n",
    "    \n",
    "    xm, xn, _  = image.shape \n",
    "    \n",
    "    km, kn, ni, no = filters.shape \n",
    "    \n",
    "    \n",
    "    sm, sn = strides\n",
    "    #ym, yn = 1 + ((xm - km + 1)//sm), 1 + ((xn - kn + 1)//sn)\n",
    "    ym, yn = 1 + ((xm - km)//sm), 1 + ((xn - kn)//sn) \n",
    "    y = np.zeros((ym, yn, no))\n",
    "\n",
    "    for iy, ix in enumerate(range(0, xm-km+1, sm)):\n",
    "        for jy, jx in enumerate(range(0, xn-kn+1, sn)):\n",
    "            # Apply each output filter and bias term to this chunk\n",
    "            chunk = image[ix:ix+km,jx:jx+kn,:]\n",
    "            for channel in range(no):\n",
    "                y[iy,jy,channel] = np.sum(filters[:,:,:,channel] * chunk)# + biases[channel]\n",
    "            \n",
    "    return y"
   ]
  },
  {
   "cell_type": "markdown",
   "id": "moving-kelly",
   "metadata": {},
   "source": [
    "Once we have an algorithm to filter a single image, it can easily be extended to a batch of images."
   ]
  },
  {
   "cell_type": "code",
   "execution_count": 332,
   "id": "plastic-charity",
   "metadata": {},
   "outputs": [],
   "source": [
    "def filter_image_batch(batch, filters, biases, strides):\n",
    "    outputs = [filter_image(image, filters, strides) for image in batch]\n",
    "    outputs = np.array(outputs)\n",
    "    outputs = outputs + biases\n",
    "    return outputs"
   ]
  },
  {
   "cell_type": "markdown",
   "id": "placed-jewel",
   "metadata": {},
   "source": [
    "First, a list comprehension applies the `filter_image` function defined above, to each image in the batch.  Next, the list returned by the \n",
    "list comprehension, is converted to a rank 4 array with the `np.array` function.  The line preceding the `return` statement, \n",
    "```python\n",
    "outputs = outputs + biases\n",
    "```\n",
    "seems like it shouldn't work, because the ranks don't match.  Fortunately,  numpy's broadcasting rules come to the rescue and does what we want.\n",
    "    "
   ]
  },
  {
   "cell_type": "markdown",
   "id": "solid-charm",
   "metadata": {},
   "source": [
    "## Compare to Keras"
   ]
  },
  {
   "cell_type": "markdown",
   "id": "cordless-beast",
   "metadata": {},
   "source": [
    "To compare the numpy version to Keras, I'm going to create a `Conv2D` layer:"
   ]
  },
  {
   "cell_type": "code",
   "execution_count": 656,
   "id": "dressed-minute",
   "metadata": {},
   "outputs": [],
   "source": [
    "layer_keras = tf.keras.layers.Conv2D(filters=4, kernel_size=(4, 4), strides=(1,1), bias_initializer='he_uniform', padding='valid')"
   ]
  },
  {
   "cell_type": "markdown",
   "id": "ready-straight",
   "metadata": {},
   "source": [
    "initialize a random batch of fakey images:"
   ]
  },
  {
   "cell_type": "code",
   "execution_count": 657,
   "id": "premier-executive",
   "metadata": {},
   "outputs": [],
   "source": [
    "input_batch = np.random.randn(2,28,28,3)"
   ]
  },
  {
   "cell_type": "markdown",
   "id": "sustainable-money",
   "metadata": {},
   "source": [
    "and filter the batch with the layer:"
   ]
  },
  {
   "cell_type": "code",
   "execution_count": 658,
   "id": "regular-jason",
   "metadata": {},
   "outputs": [],
   "source": [
    "output_batch_keras = layer_keras(input_batch)"
   ]
  },
  {
   "cell_type": "markdown",
   "id": "sixth-yesterday",
   "metadata": {},
   "source": [
    "Next, the filters, biases and strides are extracted from the layer.  Note that `strides` doesn't really need to be accessed from the layer, it's in the `Conv2D` constructor after all.  The way I did it here is just less error-prone."
   ]
  },
  {
   "cell_type": "code",
   "execution_count": 659,
   "id": "geographic-samoa",
   "metadata": {},
   "outputs": [],
   "source": [
    "filters, biases = layer_keras.get_weights()\n",
    "strides = layer_keras.strides"
   ]
  },
  {
   "cell_type": "markdown",
   "id": "french-bookmark",
   "metadata": {},
   "source": [
    "Now all the inputs can be passed to the `filter_image_batch` implemented earlier."
   ]
  },
  {
   "cell_type": "code",
   "execution_count": 660,
   "id": "loving-import",
   "metadata": {},
   "outputs": [],
   "source": [
    "output_batch_numpy = filter_image_batch(input_batch, filters, biases, strides)"
   ]
  },
  {
   "cell_type": "markdown",
   "id": "cathedral-casino",
   "metadata": {},
   "source": [
    "To check that the Keras output is close to the numpy output, ..."
   ]
  },
  {
   "cell_type": "code",
   "execution_count": 661,
   "id": "actual-mexico",
   "metadata": {},
   "outputs": [],
   "source": [
    "assert np.max(np.abs(output_batch_keras - output_batch_numpy)) < 1e-6 "
   ]
  },
  {
   "cell_type": "code",
   "execution_count": 662,
   "id": "protective-heather",
   "metadata": {},
   "outputs": [
    {
     "name": "stdout",
     "output_type": "stream",
     "text": [
      "22.1 ms ± 918 µs per loop (mean ± std. dev. of 7 runs, 10 loops each)\n"
     ]
    }
   ],
   "source": [
    "%%timeit\n",
    "filter_image_batch(input_batch, filters, biases, strides)"
   ]
  },
  {
   "cell_type": "code",
   "execution_count": 663,
   "id": "arabic-freeware",
   "metadata": {},
   "outputs": [
    {
     "name": "stdout",
     "output_type": "stream",
     "text": [
      "263 µs ± 1.94 µs per loop (mean ± std. dev. of 7 runs, 1000 loops each)\n"
     ]
    }
   ],
   "source": [
    "%%timeit\n",
    "layer_keras(input_batch)"
   ]
  },
  {
   "cell_type": "markdown",
   "id": "endangered-brazilian",
   "metadata": {},
   "source": [
    "### Convolutional Layer in JAX\n",
    "In addition to the standard set of imports, I decided to import a function from fast.ai's fastcore library, called `patch`.  "
   ]
  },
  {
   "cell_type": "code",
   "execution_count": 623,
   "id": "stuck-worcester",
   "metadata": {},
   "outputs": [],
   "source": [
    "import jax\n",
    "import jax.numpy as jnp\n",
    "from typing import Tuple, List\n",
    "from fastcore.basics import patch"
   ]
  },
  {
   "cell_type": "code",
   "execution_count": 601,
   "id": "three-billion",
   "metadata": {},
   "outputs": [],
   "source": [
    "class Conv2D: \n",
    "    filters: jnp.ndarray \n",
    "    biases: jnp.ndarray\n",
    "    input_channels: int \n",
    "    output_channels: int \n",
    "    filter_shape: Tuple[int,int]\n",
    "    strides: Tuple[int,int]\n",
    "    padding: str\n",
    "    seed: int"
   ]
  },
  {
   "cell_type": "markdown",
   "id": "greenhouse-buddy",
   "metadata": {},
   "source": [
    "#### Constructor"
   ]
  },
  {
   "cell_type": "code",
   "execution_count": 665,
   "id": "pacific-rotation",
   "metadata": {},
   "outputs": [],
   "source": [
    "@patch\n",
    "def __init__(self: Conv2D, input_channels, output_channels, filter_shape=(2,2), strides=(1,1), padding='valid', seed=1234, build=True):\n",
    "    \n",
    "    self.input_channels = input_channels\n",
    "    self.output_channels = output_channels\n",
    "    self.filter_shape = filter_shape\n",
    "    self.strides = strides \n",
    "    self.padding = padding\n",
    "    self.seed = seed\n",
    "        \n",
    "    if build:\n",
    "        key = jax.random.PRNGKey(seed)\n",
    "        fkey, bkey = jax.random.split(key)\n",
    "            \n",
    "        # kaiming/he uniform, using Pytorch documentation\n",
    "        K = input_channels * filter_shape[0] * filter_shape[1]\n",
    "        sqrtK = jnp.sqrt(K)\n",
    "        self.filters = jax.random.uniform(fkey, (*filter_shape, input_channels, output_channels), minval=-1/sqrtK, maxval=+1/sqrtK)\n",
    "        self.biases = jax.random.uniform(bkey, (output_channels,), minval=-1/sqrtK, maxval=+1/sqrtK)   "
   ]
  },
  {
   "cell_type": "markdown",
   "id": "positive-thumbnail",
   "metadata": {},
   "source": [
    "#### `__call__` Method"
   ]
  },
  {
   "cell_type": "markdown",
   "id": "advisory-cameroon",
   "metadata": {},
   "source": [
    "To implement `__call__` we use the JAX builtin function `conv_general_dilated`.  Except for the `dimension_numbers` argument, it's pretty easy to figure out what it's doing (but I'm still not clear on how it works - maybe save that for another post).  Like the Keras `Conv2D` layer, it has additional input arguments that give you further control over the convolution.  I'm not including these additional arguments here because I'm trying to keep things as simple as possible.  "
   ]
  },
  {
   "cell_type": "code",
   "execution_count": 666,
   "id": "settled-designation",
   "metadata": {},
   "outputs": [],
   "source": [
    "@patch\n",
    "def __call__(self: Conv2D, batch: jnp.ndarray):\n",
    "    outputs = jax.lax.conv_general_dilated(\n",
    "        lhs=batch,\n",
    "        rhs=self.filters,\n",
    "        window_strides=self.strides,\n",
    "        padding=self.padding,\n",
    "        dimension_numbers=('NHWC', 'HWIO', 'NHWC')\n",
    "    )   \n",
    "    \n",
    "    # This uses the broadcasting rules.\n",
    "    outputs +=  biases\n",
    "        \n",
    "    # Need to add biases...\n",
    "    return outputs "
   ]
  },
  {
   "cell_type": "markdown",
   "id": "humanitarian-embassy",
   "metadata": {},
   "source": [
    "The `dimension_numbers` field is a three element tuple that defines the shape layout of the input batch, the filters, and the output batch respectively.  We've adopted the default Keras layout, which means that for an input batch of images, the batch dimension is listed first, the image height second, the image width third, and the number of input channels fourth.  The dimension number for this is represented as `'NHWC'`.  By default, the filters are arranged in a similar way although there is no batch dimension: the filter height comes first, the filter width second, the input channel count third, and the output channel count last.  As you can see, the description number for this is `'HWIO'`.\n",
    "\n",
    "Because `conv_general_dilatated` does not work with the biases, they must be added to the convolution outputs.  Like numpy, JAX has broadcasting rules that make this mixed-rank addition work as expected."
   ]
  },
  {
   "cell_type": "markdown",
   "id": "objective-content",
   "metadata": {},
   "source": [
    "#### Adding to pytree Registry"
   ]
  },
  {
   "cell_type": "code",
   "execution_count": 667,
   "id": "logical-harassment",
   "metadata": {},
   "outputs": [],
   "source": [
    "@patch\n",
    "def tree_flatten(self: Conv2D) -> Tuple[List[jnp.ndarray], dict]:\n",
    "    params = (self.filters, self.biases)\n",
    "    metadata = {k: v for k, v in self.__dict__.items() if k not in {'biases', 'filters'}}\n",
    "    return params, metadata"
   ]
  },
  {
   "cell_type": "code",
   "execution_count": 668,
   "id": "heard-stuart",
   "metadata": {},
   "outputs": [],
   "source": [
    "@patch(cls_method=True)\n",
    "def tree_unflatten(cls: Conv2D, metadata: dict, params:List[jnp.ndarray]):\n",
    "    # This assumes that each key-value pair in the metadata dict corresponds to a constructor argument.\n",
    "    layer = cls(**metadata, build=False)\n",
    "    layer.filters, layer.biases = params\n",
    "    return layer"
   ]
  },
  {
   "cell_type": "markdown",
   "id": "solid-contest",
   "metadata": {},
   "source": [
    "Finally, `Conv2D` can be added the pytree registry with the following line of code: "
   ]
  },
  {
   "cell_type": "code",
   "execution_count": 669,
   "id": "referenced-norman",
   "metadata": {},
   "outputs": [
    {
     "ename": "ValueError",
     "evalue": "Duplicate custom PyTreeDef type registration for <class '__main__.Conv2D'>.",
     "output_type": "error",
     "traceback": [
      "\u001b[0;31m---------------------------------------------------------------------------\u001b[0m",
      "\u001b[0;31mValueError\u001b[0m                                Traceback (most recent call last)",
      "\u001b[0;32m/tmp/ipykernel_280627/2767397717.py\u001b[0m in \u001b[0;36m<module>\u001b[0;34m\u001b[0m\n\u001b[0;32m----> 1\u001b[0;31m \u001b[0m_\u001b[0m \u001b[0;34m=\u001b[0m \u001b[0mjax\u001b[0m\u001b[0;34m.\u001b[0m\u001b[0mtree_util\u001b[0m\u001b[0;34m.\u001b[0m\u001b[0mregister_pytree_node_class\u001b[0m\u001b[0;34m(\u001b[0m\u001b[0mConv2D\u001b[0m\u001b[0;34m)\u001b[0m\u001b[0;34m\u001b[0m\u001b[0;34m\u001b[0m\u001b[0m\n\u001b[0m",
      "\u001b[0;32m~/anaconda3/lib/python3.8/site-packages/jax/_src/tree_util.py\u001b[0m in \u001b[0;36mregister_pytree_node_class\u001b[0;34m(cls)\u001b[0m\n\u001b[1;32m    155\u001b[0m         \u001b[0;32mreturn\u001b[0m \u001b[0mcls\u001b[0m\u001b[0;34m(\u001b[0m\u001b[0;34m*\u001b[0m\u001b[0mchildren\u001b[0m\u001b[0;34m)\u001b[0m\u001b[0;34m\u001b[0m\u001b[0;34m\u001b[0m\u001b[0m\n\u001b[1;32m    156\u001b[0m   \"\"\"\n\u001b[0;32m--> 157\u001b[0;31m   \u001b[0mregister_pytree_node\u001b[0m\u001b[0;34m(\u001b[0m\u001b[0mcls\u001b[0m\u001b[0;34m,\u001b[0m \u001b[0mop\u001b[0m\u001b[0;34m.\u001b[0m\u001b[0mmethodcaller\u001b[0m\u001b[0;34m(\u001b[0m\u001b[0;34m'tree_flatten'\u001b[0m\u001b[0;34m)\u001b[0m\u001b[0;34m,\u001b[0m \u001b[0mcls\u001b[0m\u001b[0;34m.\u001b[0m\u001b[0mtree_unflatten\u001b[0m\u001b[0;34m)\u001b[0m\u001b[0;34m\u001b[0m\u001b[0;34m\u001b[0m\u001b[0m\n\u001b[0m\u001b[1;32m    158\u001b[0m   \u001b[0;32mreturn\u001b[0m \u001b[0mcls\u001b[0m\u001b[0;34m\u001b[0m\u001b[0;34m\u001b[0m\u001b[0m\n\u001b[1;32m    159\u001b[0m \u001b[0;34m\u001b[0m\u001b[0m\n",
      "\u001b[0;32m~/anaconda3/lib/python3.8/site-packages/jax/_src/tree_util.py\u001b[0m in \u001b[0;36mregister_pytree_node\u001b[0;34m(nodetype, flatten_func, unflatten_func)\u001b[0m\n\u001b[1;32m    135\u001b[0m       \u001b[0;31m`\u001b[0m\u001b[0;31m`\u001b[0m\u001b[0mnodetype\u001b[0m\u001b[0;31m`\u001b[0m\u001b[0;31m`\u001b[0m\u001b[0;34m.\u001b[0m\u001b[0;34m\u001b[0m\u001b[0;34m\u001b[0m\u001b[0m\n\u001b[1;32m    136\u001b[0m   \"\"\"\n\u001b[0;32m--> 137\u001b[0;31m   \u001b[0mpytree\u001b[0m\u001b[0;34m.\u001b[0m\u001b[0mregister_node\u001b[0m\u001b[0;34m(\u001b[0m\u001b[0mnodetype\u001b[0m\u001b[0;34m,\u001b[0m \u001b[0mflatten_func\u001b[0m\u001b[0;34m,\u001b[0m \u001b[0munflatten_func\u001b[0m\u001b[0;34m)\u001b[0m\u001b[0;34m\u001b[0m\u001b[0;34m\u001b[0m\u001b[0m\n\u001b[0m\u001b[1;32m    138\u001b[0m   \u001b[0m_registry\u001b[0m\u001b[0;34m[\u001b[0m\u001b[0mnodetype\u001b[0m\u001b[0;34m]\u001b[0m \u001b[0;34m=\u001b[0m \u001b[0m_RegistryEntry\u001b[0m\u001b[0;34m(\u001b[0m\u001b[0mflatten_func\u001b[0m\u001b[0;34m,\u001b[0m \u001b[0munflatten_func\u001b[0m\u001b[0;34m)\u001b[0m\u001b[0;34m\u001b[0m\u001b[0;34m\u001b[0m\u001b[0m\n\u001b[1;32m    139\u001b[0m \u001b[0;34m\u001b[0m\u001b[0m\n",
      "\u001b[0;31mValueError\u001b[0m: Duplicate custom PyTreeDef type registration for <class '__main__.Conv2D'>."
     ]
    }
   ],
   "source": [
    "_ = jax.tree_util.register_pytree_node_class(Conv2D)"
   ]
  },
  {
   "cell_type": "markdown",
   "id": "junior-scottish",
   "metadata": {},
   "source": [
    "You'll get an exception complaining about duplicate registration if you run this cell twice.  Until I figure out how to remove from the pytree registry (if it's even possible), my work around is to re-run the cells (in this order) containing the class declaration, the methods, and finally the class registration.  "
   ]
  },
  {
   "cell_type": "code",
   "execution_count": 625,
   "id": "moving-mortality",
   "metadata": {},
   "outputs": [],
   "source": [
    "a, b = jax.tree_flatten(Conv2D(1,3))"
   ]
  },
  {
   "cell_type": "code",
   "execution_count": 645,
   "id": "powerful-dealer",
   "metadata": {},
   "outputs": [],
   "source": [
    "layer_jax = Conv2D(3,4, filter_shape=(4, 4), strides=(1,1))"
   ]
  },
  {
   "cell_type": "code",
   "execution_count": 652,
   "id": "wrapped-aquatic",
   "metadata": {},
   "outputs": [],
   "source": [
    "output_batch_jax = layer_jax(input_batch)"
   ]
  },
  {
   "cell_type": "code",
   "execution_count": 664,
   "id": "located-dakota",
   "metadata": {},
   "outputs": [
    {
     "name": "stdout",
     "output_type": "stream",
     "text": [
      "342 µs ± 6.64 µs per loop (mean ± std. dev. of 7 runs, 1000 loops each)\n"
     ]
    }
   ],
   "source": [
    "%%timeit\n",
    "layer_jax(input_batch)"
   ]
  },
  {
   "cell_type": "markdown",
   "id": "careful-greeting",
   "metadata": {},
   "source": [
    "## Conclusion"
   ]
  },
  {
   "cell_type": "code",
   "execution_count": 565,
   "id": "false-temple",
   "metadata": {},
   "outputs": [
    {
     "name": "stdout",
     "output_type": "stream",
     "text": [
      "input_channels\n",
      "<class 'str'>\n",
      "output_channels\n",
      "<class 'str'>\n",
      "filter_shape\n",
      "<class 'str'>\n",
      "strides\n",
      "<class 'str'>\n",
      "padding\n",
      "<class 'str'>\n",
      "seed\n",
      "<class 'str'>\n",
      "build\n",
      "<class 'str'>\n"
     ]
    }
   ],
   "source": [
    "import inspect\n",
    "\n",
    "args_name = inspect.signature(Conv2D)\n",
    "for a in args_name.parameters:\n",
    "    print(a), print(type(a))"
   ]
  },
  {
   "cell_type": "code",
   "execution_count": 653,
   "id": "published-passport",
   "metadata": {},
   "outputs": [
    {
     "ename": "AssertionError",
     "evalue": "",
     "output_type": "error",
     "traceback": [
      "\u001b[0;31m---------------------------------------------------------------------------\u001b[0m",
      "\u001b[0;31mAssertionError\u001b[0m                            Traceback (most recent call last)",
      "\u001b[0;32m/tmp/ipykernel_280627/1784344590.py\u001b[0m in \u001b[0;36m<module>\u001b[0;34m\u001b[0m\n\u001b[0;32m----> 1\u001b[0;31m \u001b[0;32massert\u001b[0m \u001b[0mnp\u001b[0m\u001b[0;34m.\u001b[0m\u001b[0mmax\u001b[0m\u001b[0;34m(\u001b[0m\u001b[0mnp\u001b[0m\u001b[0;34m.\u001b[0m\u001b[0mabs\u001b[0m\u001b[0;34m(\u001b[0m\u001b[0moutput_batch_jax\u001b[0m \u001b[0;34m-\u001b[0m \u001b[0moutput_batch_numpy\u001b[0m\u001b[0;34m)\u001b[0m\u001b[0;34m)\u001b[0m \u001b[0;34m<\u001b[0m \u001b[0;36m1e-6\u001b[0m\u001b[0;34m\u001b[0m\u001b[0;34m\u001b[0m\u001b[0m\n\u001b[0m",
      "\u001b[0;31mAssertionError\u001b[0m: "
     ]
    }
   ],
   "source": [
    "assert np.max(np.abs(output_batch_jax - output_batch_numpy)) < 1e-6 "
   ]
  },
  {
   "cell_type": "code",
   "execution_count": 654,
   "id": "dutch-baseball",
   "metadata": {},
   "outputs": [
    {
     "data": {
      "text/plain": [
       "DeviceArray([[[[-11.083669  ,   4.775755  , -24.25849   ,  43.676807  ],\n",
       "               [-11.66498   ,  -5.105278  , -10.812545  ,  -0.31929612],\n",
       "               [-28.05108   , -42.591743  ,  -6.815984  ,  33.295753  ],\n",
       "               ...,\n",
       "               [-42.53928   ,  31.141907  ,  -8.303273  ,  39.463577  ],\n",
       "               [ -8.746554  ,   2.0129733 , -43.941357  ,   1.5363026 ],\n",
       "               [-19.216574  ,  37.44691   ,  31.808496  ,  20.451942  ]],\n",
       "\n",
       "              [[ -9.205572  , -45.786278  , -50.616837  , -16.974272  ],\n",
       "               [ 17.229511  , -26.343597  ,   5.0074816 ,  -7.099638  ],\n",
       "               [  0.87011063, -12.815502  ,   3.844615  ,  -4.751573  ],\n",
       "               ...,\n",
       "               [ 14.0724    ,  25.80702   ,  -5.9859753 ,  13.676397  ],\n",
       "               [ 23.464653  ,   5.357843  ,  57.990147  , -49.157284  ],\n",
       "               [ -0.56029886,  58.08924   ,  47.03026   ,  43.461327  ]],\n",
       "\n",
       "              [[ 10.687968  , -68.15111   ,  14.731062  , -70.252686  ],\n",
       "               [ -3.2556362 , -14.126901  ,  40.33797   ,  32.57667   ],\n",
       "               [ 28.008543  ,   7.923616  , -56.835464  ,  72.629875  ],\n",
       "               ...,\n",
       "               [-24.70549   ,  -2.2446651 , -49.443085  ,  11.166897  ],\n",
       "               [ 43.361843  ,  48.260303  ,  -8.766034  ,  44.93127   ],\n",
       "               [ -8.883721  ,   5.043674  , -55.75122   ,   8.553969  ]],\n",
       "\n",
       "              ...,\n",
       "\n",
       "              [[-24.138351  , -28.53478   ,  20.780308  ,  -2.8226695 ],\n",
       "               [ 14.932166  ,  -0.1662485 ,  36.467224  , -15.363529  ],\n",
       "               [-20.417349  ,   4.844939  ,  -3.2712522 , -10.839663  ],\n",
       "               ...,\n",
       "               [  7.122612  ,  55.605755  , -21.576202  ,  48.777374  ],\n",
       "               [ 24.797491  ,  13.120012  ,  43.276054  ,  13.922338  ],\n",
       "               [-28.601795  , -41.629387  ,  11.961592  ,  24.733212  ]],\n",
       "\n",
       "              [[-33.376423  ,  16.572319  , -15.2587385 ,  24.47241   ],\n",
       "               [-10.426443  ,  40.438965  , -24.56239   ,  40.105568  ],\n",
       "               [ 22.990108  ,  11.59423   , -22.44225   ,  40.228836  ],\n",
       "               ...,\n",
       "               [ 44.51582   ,  26.944061  , -49.554768  ,  42.858364  ],\n",
       "               [-14.913045  , -10.712637  ,  44.893547  , -10.938057  ],\n",
       "               [  2.8662171 ,  -4.763646  ,   8.478805  ,   4.740792  ]],\n",
       "\n",
       "              [[-18.019217  ,  25.211092  , -32.759567  ,  45.647297  ],\n",
       "               [-22.660938  ,  42.114716  , -40.29248   ,  37.186737  ],\n",
       "               [ 21.972387  ,  26.551567  ,   5.4321976 , -28.935955  ],\n",
       "               ...,\n",
       "               [  6.4915905 ,  -7.694663  ,  -2.5652103 ,  -2.6685712 ],\n",
       "               [  7.8653    ,  37.012535  , -15.28538   ,  51.00502   ],\n",
       "               [ -1.8756502 ,  -5.5364857 , -18.94037   , -11.817674  ]]],\n",
       "\n",
       "\n",
       "             [[[  7.825595  , -28.387007  , -12.272964  , -14.509658  ],\n",
       "               [-14.697572  ,  19.122595  , -16.92616   , -11.379279  ],\n",
       "               [ 14.721519  ,  37.64433   , -42.140694  ,  33.63917   ],\n",
       "               ...,\n",
       "               [ 19.24019   ,   4.8882976 ,  -8.2915    ,   2.5894575 ],\n",
       "               [ 10.660831  ,  -2.968543  ,  13.802649  , -13.85127   ],\n",
       "               [-43.917816  ,  -7.4173126 , -17.490961  ,  25.582273  ]],\n",
       "\n",
       "              [[-48.40506   ,  -7.6704607 ,   2.7701807 ,  35.433117  ],\n",
       "               [-23.07843   , -15.627991  ,   6.9599876 ,  16.765972  ],\n",
       "               [-66.05257   , -32.405407  , -43.60701   , -20.370369  ],\n",
       "               ...,\n",
       "               [ 15.023751  ,  20.872639  ,  39.17089   ,  -0.93383116],\n",
       "               [ 20.965029  ,  51.98516   ,  18.752693  , -20.337029  ],\n",
       "               [-34.24803   ,  10.602796  , -16.894012  ,  25.54511   ]],\n",
       "\n",
       "              [[-25.07912   , -33.15504   , -24.472708  , -19.911821  ],\n",
       "               [-27.394207  , -47.315628  ,  36.731365  ,   1.5093007 ],\n",
       "               [ 19.880018  ,   8.054712  ,  13.825106  , -17.971357  ],\n",
       "               ...,\n",
       "               [-68.51784   ,   7.4745984 , -27.336163  ,   5.245964  ],\n",
       "               [-14.69651   ,  63.308315  ,  32.35365   ,   7.2392726 ],\n",
       "               [ 14.741719  ,  -8.8930435 ,  -1.0568004 , -13.883427  ]],\n",
       "\n",
       "              ...,\n",
       "\n",
       "              [[  9.096909  , -13.375384  ,  19.761396  , -42.492832  ],\n",
       "               [ 27.5028    , -45.650673  ,  22.65543   , -29.828629  ],\n",
       "               [-32.75183   , -34.81209   ,  -7.26936   ,   4.000201  ],\n",
       "               ...,\n",
       "               [ 64.266426  , -14.800778  ,   9.110334  ,  13.536157  ],\n",
       "               [-18.473907  ,  -8.724469  ,  -7.0706315 ,  20.15387   ],\n",
       "               [-45.811886  ,  -7.940964  , -43.430634  ,   6.2330194 ]],\n",
       "\n",
       "              [[-44.567844  ,  58.658577  ,  -5.3067994 ,  -7.175235  ],\n",
       "               [ 67.39048   , -10.1929865 ,  17.557854  , -22.752129  ],\n",
       "               [ 20.72938   , -17.057125  ,   1.8019339 ,   3.3075144 ],\n",
       "               ...,\n",
       "               [-25.656939  , -17.686455  ,  -4.0801578 , -30.233994  ],\n",
       "               [  7.699855  ,  51.065517  , -23.640423  ,  36.68081   ],\n",
       "               [ 50.52898   ,  19.388239  , -21.658588  ,  -8.66455   ]],\n",
       "\n",
       "              [[-75.72086   , -28.449821  ,  22.726597  , -19.13648   ],\n",
       "               [ 46.535416  , -62.49044   ,  20.171436  , -11.051995  ],\n",
       "               [ 16.738304  , -39.550873  , -31.251911  ,  33.172794  ],\n",
       "               ...,\n",
       "               [-18.597277  ,  30.615023  ,  -1.4851321 ,  16.325964  ],\n",
       "               [-48.16994   , -11.485183  ,   7.042991  ,  -8.540686  ],\n",
       "               [ 12.547801  ,   1.3462148 ,  32.566505  ,   3.8300085 ]]]],            dtype=float32)"
      ]
     },
     "execution_count": 654,
     "metadata": {},
     "output_type": "execute_result"
    }
   ],
   "source": [
    "output_batch_jax"
   ]
  },
  {
   "cell_type": "code",
   "execution_count": null,
   "id": "speaking-colleague",
   "metadata": {},
   "outputs": [],
   "source": []
  }
 ],
 "metadata": {
  "kernelspec": {
   "display_name": "Python 3 (ipykernel)",
   "language": "python",
   "name": "python3"
  },
  "language_info": {
   "codemirror_mode": {
    "name": "ipython",
    "version": 3
   },
   "file_extension": ".py",
   "mimetype": "text/x-python",
   "name": "python",
   "nbconvert_exporter": "python",
   "pygments_lexer": "ipython3",
   "version": "3.8.5"
  },
  "vscode": {
   "interpreter": {
    "hash": "a9eb3d55570fa83a5d0e75ab0fc9e29d7692aa2022c5c86ae3b4c36003072d28"
   }
  }
 },
 "nbformat": 4,
 "nbformat_minor": 5
}
