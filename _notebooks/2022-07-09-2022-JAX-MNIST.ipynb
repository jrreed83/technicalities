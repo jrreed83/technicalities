{
 "cells": [
  {
   "cell_type": "markdown",
   "id": "direct-series",
   "metadata": {},
   "source": [
    "# Fashion MNIST using Linear Layers with JAX\n",
    "\n",
    "- toc: true\n",
    "- badges: true\n",
    "- comments: true\n",
    "- categories: [jupyter]\n",
    "- image: images/chart-preview.png\n",
    "- hide: true\n",
    "\n"
   ]
  },
  {
   "cell_type": "markdown",
   "id": "3723eea1",
   "metadata": {},
   "source": [
    "My main objective here is to develop a Keras like API for JAX, and use it on the so-called Fashion MNIST dataset.\n",
    "\n",
    "The type of model we're looking to build can be represented in Keras, as follows:\n",
    "\n",
    "```python\n",
    "model = keras.Sequential([\n",
    "  keras.layers.Flatten(input_shape=(28,28)),\n",
    "  keras.layers.Dense(128, activation=keras.activations.relu),\n",
    "  keras.layers.Dense(10, activation=keras.activations.softmax)                          \n",
    "])\n",
    "\n",
    "model.compile(\n",
    "    loss=keras.losses.sparse_categorical_crossentropy, \n",
    "    optimizer=keras.optimizers.Adam(),\n",
    "    metrics=['accuracy'])\n",
    "\n",
    "model.fit(X_train, y_train, epochs=5)\n",
    "```"
   ]
  },
  {
   "cell_type": "code",
   "execution_count": 5,
   "id": "burning-cleaner",
   "metadata": {},
   "outputs": [
    {
     "name": "stderr",
     "output_type": "stream",
     "text": [
      "2022-07-15 09:46:56.288456: W tensorflow/stream_executor/platform/default/dso_loader.cc:64] Could not load dynamic library 'libcudart.so.11.0'; dlerror: libcudart.so.11.0: cannot open shared object file: No such file or directory; LD_LIBRARY_PATH: /usr/local/lib:/usr/local/bin:/usr/local/lib:\n"
     ]
    }
   ],
   "source": [
    "import jax \n",
    "import jax.numpy as jnp\n",
    "import numpy as np\n",
    "import matplotlib.pyplot as plt\n",
    "import tensorflow as tf\n",
    "\n",
    "from typing import Tuple, List, Any, Dict, Callable\n"
   ]
  },
  {
   "cell_type": "markdown",
   "id": "4d8c7223",
   "metadata": {},
   "source": [
    "## PyTorch / fast.ai like Data API"
   ]
  },
  {
   "cell_type": "code",
   "execution_count": 283,
   "id": "7328e877",
   "metadata": {},
   "outputs": [],
   "source": [
    "class Dataset:\n",
    "    def __init__(self, X):\n",
    "        pass \n",
    "    def __len__(self):\n",
    "        pass \n",
    "    def __getitem__(self):\n",
    "        pass"
   ]
  },
  {
   "cell_type": "code",
   "execution_count": 282,
   "id": "8b181c0b",
   "metadata": {},
   "outputs": [
    {
     "data": {
      "text/plain": [
       "{'__name__': 'keras.api._v2.keras.datasets.fashion_mnist',\n",
       " '__doc__': 'Public API for tf.keras.datasets.fashion_mnist namespace.\\n',\n",
       " '__package__': 'keras.api._v2.keras.datasets.fashion_mnist',\n",
       " '__loader__': <_frozen_importlib_external.SourceFileLoader at 0x7fcd389d3220>,\n",
       " '__spec__': ModuleSpec(name='keras.api._v2.keras.datasets.fashion_mnist', loader=<_frozen_importlib_external.SourceFileLoader object at 0x7fcd389d3220>, origin='/home/joeyreed/anaconda3/lib/python3.8/site-packages/keras/api/_v2/keras/datasets/fashion_mnist/__init__.py', submodule_search_locations=['/home/joeyreed/anaconda3/lib/python3.8/site-packages/keras/api/_v2/keras/datasets/fashion_mnist']),\n",
       " '__path__': ['/home/joeyreed/anaconda3/lib/python3.8/site-packages/keras/api/_v2/keras/datasets/fashion_mnist'],\n",
       " '__file__': '/home/joeyreed/anaconda3/lib/python3.8/site-packages/keras/api/_v2/keras/datasets/fashion_mnist/__init__.py',\n",
       " '__cached__': '/home/joeyreed/anaconda3/lib/python3.8/site-packages/keras/api/_v2/keras/datasets/fashion_mnist/__pycache__/__init__.cpython-38.pyc',\n",
       " '__builtins__': {'__name__': 'builtins',\n",
       "  '__doc__': \"Built-in functions, exceptions, and other objects.\\n\\nNoteworthy: None is the `nil' object; Ellipsis represents `...' in slices.\",\n",
       "  '__package__': '',\n",
       "  '__loader__': _frozen_importlib.BuiltinImporter,\n",
       "  '__spec__': ModuleSpec(name='builtins', loader=<class '_frozen_importlib.BuiltinImporter'>),\n",
       "  '__build_class__': <function __build_class__>,\n",
       "  '__import__': <function __import__>,\n",
       "  'abs': <function abs(x, /)>,\n",
       "  'all': <function all(iterable, /)>,\n",
       "  'any': <function any(iterable, /)>,\n",
       "  'ascii': <function ascii(obj, /)>,\n",
       "  'bin': <function bin(number, /)>,\n",
       "  'breakpoint': <function breakpoint>,\n",
       "  'callable': <function callable(obj, /)>,\n",
       "  'chr': <function chr(i, /)>,\n",
       "  'compile': <function compile(source, filename, mode, flags=0, dont_inherit=False, optimize=-1, *, _feature_version=-1)>,\n",
       "  'delattr': <function delattr(obj, name, /)>,\n",
       "  'dir': <function dir>,\n",
       "  'divmod': <function divmod(x, y, /)>,\n",
       "  'eval': <function eval(source, globals=None, locals=None, /)>,\n",
       "  'exec': <function exec(source, globals=None, locals=None, /)>,\n",
       "  'format': <function format(value, format_spec='', /)>,\n",
       "  'getattr': <function getattr>,\n",
       "  'globals': <function globals()>,\n",
       "  'hasattr': <function hasattr(obj, name, /)>,\n",
       "  'hash': <function hash(obj, /)>,\n",
       "  'hex': <function hex(number, /)>,\n",
       "  'id': <function id(obj, /)>,\n",
       "  'input': <bound method Kernel.raw_input of <ipykernel.ipkernel.IPythonKernel object at 0x7fcde4643d30>>,\n",
       "  'isinstance': <function isinstance(obj, class_or_tuple, /)>,\n",
       "  'issubclass': <function issubclass(cls, class_or_tuple, /)>,\n",
       "  'iter': <function iter>,\n",
       "  'len': <function len(obj, /)>,\n",
       "  'locals': <function locals()>,\n",
       "  'max': <function max>,\n",
       "  'min': <function min>,\n",
       "  'next': <function next>,\n",
       "  'oct': <function oct(number, /)>,\n",
       "  'ord': <function ord(c, /)>,\n",
       "  'pow': <function pow(base, exp, mod=None)>,\n",
       "  'print': <function print>,\n",
       "  'repr': <function repr(obj, /)>,\n",
       "  'round': <function round(number, ndigits=None)>,\n",
       "  'setattr': <function setattr(obj, name, value, /)>,\n",
       "  'sorted': <function sorted(iterable, /, *, key=None, reverse=False)>,\n",
       "  'sum': <function sum(iterable, /, start=0)>,\n",
       "  'vars': <function vars>,\n",
       "  'None': None,\n",
       "  'Ellipsis': Ellipsis,\n",
       "  'NotImplemented': NotImplemented,\n",
       "  'False': False,\n",
       "  'True': True,\n",
       "  'bool': bool,\n",
       "  'memoryview': memoryview,\n",
       "  'bytearray': bytearray,\n",
       "  'bytes': bytes,\n",
       "  'classmethod': classmethod,\n",
       "  'complex': complex,\n",
       "  'dict': dict,\n",
       "  'enumerate': enumerate,\n",
       "  'filter': filter,\n",
       "  'float': float,\n",
       "  'frozenset': frozenset,\n",
       "  'property': property,\n",
       "  'int': int,\n",
       "  'list': list,\n",
       "  'map': map,\n",
       "  'object': object,\n",
       "  'range': range,\n",
       "  'reversed': reversed,\n",
       "  'set': set,\n",
       "  'slice': slice,\n",
       "  'staticmethod': staticmethod,\n",
       "  'str': str,\n",
       "  'super': super,\n",
       "  'tuple': tuple,\n",
       "  'type': type,\n",
       "  'zip': zip,\n",
       "  '__debug__': True,\n",
       "  'BaseException': BaseException,\n",
       "  'Exception': Exception,\n",
       "  'TypeError': TypeError,\n",
       "  'StopAsyncIteration': StopAsyncIteration,\n",
       "  'StopIteration': StopIteration,\n",
       "  'GeneratorExit': GeneratorExit,\n",
       "  'SystemExit': SystemExit,\n",
       "  'KeyboardInterrupt': KeyboardInterrupt,\n",
       "  'ImportError': ImportError,\n",
       "  'ModuleNotFoundError': ModuleNotFoundError,\n",
       "  'OSError': OSError,\n",
       "  'EnvironmentError': OSError,\n",
       "  'IOError': OSError,\n",
       "  'EOFError': EOFError,\n",
       "  'RuntimeError': RuntimeError,\n",
       "  'RecursionError': RecursionError,\n",
       "  'NotImplementedError': NotImplementedError,\n",
       "  'NameError': NameError,\n",
       "  'UnboundLocalError': UnboundLocalError,\n",
       "  'AttributeError': AttributeError,\n",
       "  'SyntaxError': SyntaxError,\n",
       "  'IndentationError': IndentationError,\n",
       "  'TabError': TabError,\n",
       "  'LookupError': LookupError,\n",
       "  'IndexError': IndexError,\n",
       "  'KeyError': KeyError,\n",
       "  'ValueError': ValueError,\n",
       "  'UnicodeError': UnicodeError,\n",
       "  'UnicodeEncodeError': UnicodeEncodeError,\n",
       "  'UnicodeDecodeError': UnicodeDecodeError,\n",
       "  'UnicodeTranslateError': UnicodeTranslateError,\n",
       "  'AssertionError': AssertionError,\n",
       "  'ArithmeticError': ArithmeticError,\n",
       "  'FloatingPointError': FloatingPointError,\n",
       "  'OverflowError': OverflowError,\n",
       "  'ZeroDivisionError': ZeroDivisionError,\n",
       "  'SystemError': SystemError,\n",
       "  'ReferenceError': ReferenceError,\n",
       "  'MemoryError': MemoryError,\n",
       "  'BufferError': BufferError,\n",
       "  'Warning': Warning,\n",
       "  'UserWarning': UserWarning,\n",
       "  'DeprecationWarning': DeprecationWarning,\n",
       "  'PendingDeprecationWarning': PendingDeprecationWarning,\n",
       "  'SyntaxWarning': SyntaxWarning,\n",
       "  'RuntimeWarning': RuntimeWarning,\n",
       "  'FutureWarning': FutureWarning,\n",
       "  'ImportWarning': ImportWarning,\n",
       "  'UnicodeWarning': UnicodeWarning,\n",
       "  'BytesWarning': BytesWarning,\n",
       "  'ResourceWarning': ResourceWarning,\n",
       "  'ConnectionError': ConnectionError,\n",
       "  'BlockingIOError': BlockingIOError,\n",
       "  'BrokenPipeError': BrokenPipeError,\n",
       "  'ChildProcessError': ChildProcessError,\n",
       "  'ConnectionAbortedError': ConnectionAbortedError,\n",
       "  'ConnectionRefusedError': ConnectionRefusedError,\n",
       "  'ConnectionResetError': ConnectionResetError,\n",
       "  'FileExistsError': FileExistsError,\n",
       "  'FileNotFoundError': FileNotFoundError,\n",
       "  'IsADirectoryError': IsADirectoryError,\n",
       "  'NotADirectoryError': NotADirectoryError,\n",
       "  'InterruptedError': InterruptedError,\n",
       "  'PermissionError': PermissionError,\n",
       "  'ProcessLookupError': ProcessLookupError,\n",
       "  'TimeoutError': TimeoutError,\n",
       "  'open': <function io.open(file, mode='r', buffering=-1, encoding=None, errors=None, newline=None, closefd=True, opener=None)>,\n",
       "  'copyright': Copyright (c) 2001-2020 Python Software Foundation.\n",
       "  All Rights Reserved.\n",
       "  \n",
       "  Copyright (c) 2000 BeOpen.com.\n",
       "  All Rights Reserved.\n",
       "  \n",
       "  Copyright (c) 1995-2001 Corporation for National Research Initiatives.\n",
       "  All Rights Reserved.\n",
       "  \n",
       "  Copyright (c) 1991-1995 Stichting Mathematisch Centrum, Amsterdam.\n",
       "  All Rights Reserved.,\n",
       "  'credits':     Thanks to CWI, CNRI, BeOpen.com, Zope Corporation and a cast of thousands\n",
       "      for supporting Python development.  See www.python.org for more information.,\n",
       "  'license': Type license() to see the full license text,\n",
       "  'help': Type help() for interactive help, or help(object) for help about object.,\n",
       "  '__IPYTHON__': True,\n",
       "  'display': <function IPython.core.display.display(*objs, include=None, exclude=None, metadata=None, transient=None, display_id=None, **kwargs)>,\n",
       "  '__pybind11_internals_v4_gcc_libstdcpp_cxxabi1002__': <capsule object NULL at 0x7fcd911ec630>,\n",
       "  '__pybind11_internals_v4_gcc_libstdcpp_cxxabi1013__': <capsule object NULL at 0x7fcd893f0480>,\n",
       "  '__pybind11_internals_v4_gcc_libstdcpp_cxxabi1011__': <capsule object NULL at 0x7fcd7b685f90>,\n",
       "  'get_ipython': <bound method InteractiveShell.get_ipython of <ipykernel.zmqshell.ZMQInteractiveShell object at 0x7fcde4643dc0>>},\n",
       " '_sys': <module 'sys' (built-in)>,\n",
       " 'load_data': <function keras.datasets.fashion_mnist.load_data()>}"
      ]
     },
     "execution_count": 282,
     "metadata": {},
     "output_type": "execute_result"
    }
   ],
   "source": [
    "fashion_mnist.__dict__"
   ]
  },
  {
   "cell_type": "code",
   "execution_count": 6,
   "id": "4e6f0c6b",
   "metadata": {},
   "outputs": [],
   "source": [
    "fashion_mnist = tf.keras.datasets.fashion_mnist\n",
    "(X_train, y_train), (X_test, y_test) = fashion_mnist.load_data()"
   ]
  },
  {
   "cell_type": "code",
   "execution_count": 7,
   "id": "4884b475",
   "metadata": {},
   "outputs": [
    {
     "name": "stdout",
     "output_type": "stream",
     "text": [
      "Number of training samples = 60000\n",
      "Number of test samples = 10000\n"
     ]
    }
   ],
   "source": [
    "print(f'Number of training samples = {len(y_train)}') \n",
    "print(f'Number of test samples = {len(y_test)}')"
   ]
  },
  {
   "cell_type": "code",
   "execution_count": 8,
   "id": "905a2971",
   "metadata": {},
   "outputs": [
    {
     "name": "stdout",
     "output_type": "stream",
     "text": [
      "[[  0   0   0   0   0   0   0   0   0   0   0   0   0   0   0   0   0   0   0   0   0   0   0   0   0   0   0   0]\n",
      " [  0   0   0   0   0   0   0   0   0   0   0   0   0   0   0   0   0   0   0   0   0   0   0   0   0   0   0   0]\n",
      " [  0   0   0   0   0   0   0   0   0   0   0   0   0   0   0   0   0   0   0   0   0   0   0   0   0   0   0   0]\n",
      " [  0   0   0   0   0   0   0   0   0   0   0   0   1   0   0  13  73   0   0   1   4   0   0   0   0   1   1   0]\n",
      " [  0   0   0   0   0   0   0   0   0   0   0   0   3   0  36 136 127  62  54   0   0   0   1   3   4   0   0   3]\n",
      " [  0   0   0   0   0   0   0   0   0   0   0   0   6   0 102 204 176 134 144 123  23   0   0   0   0  12  10   0]\n",
      " [  0   0   0   0   0   0   0   0   0   0   0   0   0   0 155 236 207 178 107 156 161 109  64  23  77 130  72  15]\n",
      " [  0   0   0   0   0   0   0   0   0   0   0   1   0  69 207 223 218 216 216 163 127 121 122 146 141  88 172  66]\n",
      " [  0   0   0   0   0   0   0   0   0   1   1   1   0 200 232 232 233 229 223 223 215 213 164 127 123 196 229   0]\n",
      " [  0   0   0   0   0   0   0   0   0   0   0   0   0 183 225 216 223 228 235 227 224 222 224 221 223 245 173   0]\n",
      " [  0   0   0   0   0   0   0   0   0   0   0   0   0 193 228 218 213 198 180 212 210 211 213 223 220 243 202   0]\n",
      " [  0   0   0   0   0   0   0   0   0   1   3   0  12 219 220 212 218 192 169 227 208 218 224 212 226 197 209  52]\n",
      " [  0   0   0   0   0   0   0   0   0   0   6   0  99 244 222 220 218 203 198 221 215 213 222 220 245 119 167  56]\n",
      " [  0   0   0   0   0   0   0   0   0   4   0   0  55 236 228 230 228 240 232 213 218 223 234 217 217 209  92   0]\n",
      " [  0   0   1   4   6   7   2   0   0   0   0   0 237 226 217 223 222 219 222 221 216 223 229 215 218 255  77   0]\n",
      " [  0   3   0   0   0   0   0   0   0  62 145 204 228 207 213 221 218 208 211 218 224 223 219 215 224 244 159   0]\n",
      " [  0   0   0   0  18  44  82 107 189 228 220 222 217 226 200 205 211 230 224 234 176 188 250 248 233 238 215   0]\n",
      " [  0  57 187 208 224 221 224 208 204 214 208 209 200 159 245 193 206 223 255 255 221 234 221 211 220 232 246   0]\n",
      " [  3 202 228 224 221 211 211 214 205 205 205 220 240  80 150 255 229 221 188 154 191 210 204 209 222 228 225   0]\n",
      " [ 98 233 198 210 222 229 229 234 249 220 194 215 217 241  65  73 106 117 168 219 221 215 217 223 223 224 229  29]\n",
      " [ 75 204 212 204 193 205 211 225 216 185 197 206 198 213 240 195 227 245 239 223 218 212 209 222 220 221 230  67]\n",
      " [ 48 203 183 194 213 197 185 190 194 192 202 214 219 221 220 236 225 216 199 206 186 181 177 172 181 205 206 115]\n",
      " [  0 122 219 193 179 171 183 196 204 210 213 207 211 210 200 196 194 191 195 191 198 192 176 156 167 177 210  92]\n",
      " [  0   0  74 189 212 191 175 172 175 181 185 188 189 188 193 198 204 209 210 210 211 188 188 194 192 216 170   0]\n",
      " [  2   0   0   0  66 200 222 237 239 242 246 243 244 221 220 193 191 179 182 182 181 176 166 168  99  58   0   0]\n",
      " [  0   0   0   0   0   0   0  40  61  44  72  41  35   0   0   0   0   0   0   0   0   0   0   0   0   0   0   0]\n",
      " [  0   0   0   0   0   0   0   0   0   0   0   0   0   0   0   0   0   0   0   0   0   0   0   0   0   0   0   0]\n",
      " [  0   0   0   0   0   0   0   0   0   0   0   0   0   0   0   0   0   0   0   0   0   0   0   0   0   0   0   0]]\n"
     ]
    },
    {
     "data": {
      "image/png": "[encoded data removed]",
      "text/plain": [
       "<Figure size 432x288 with 1 Axes>"
      ]
     },
     "metadata": {
      "needs_background": "light"
     },
     "output_type": "display_data"
    }
   ],
   "source": [
    "X = X_train[0]\n",
    "np.set_printoptions(linewidth=200)\n",
    "plt.imshow(X, cmap='gray')\n",
    "print(X)"
   ]
  },
  {
   "cell_type": "code",
   "execution_count": 9,
   "id": "f925bc16",
   "metadata": {},
   "outputs": [],
   "source": [
    "X_train, X_test = X_train / 255.0, X_test / 255.0"
   ]
  },
  {
   "cell_type": "markdown",
   "id": "absent-language",
   "metadata": {},
   "source": [
    "## Model API"
   ]
  },
  {
   "cell_type": "code",
   "execution_count": 10,
   "id": "377559ad",
   "metadata": {},
   "outputs": [],
   "source": [
    "class Module: pass\n"
   ]
  },
  {
   "cell_type": "markdown",
   "id": "f7d8b9d2",
   "metadata": {},
   "source": [
    "### Linear Layer"
   ]
  },
  {
   "cell_type": "code",
   "execution_count": 11,
   "id": "cb0c53ab",
   "metadata": {},
   "outputs": [],
   "source": [
    "class Linear(Module):\n",
    "    w: jnp.ndarray \n",
    "    b: jnp.ndarray\n",
    "    ni: int \n",
    "    no: int \n",
    "\n",
    "    def __init__(self, num_inputs, num_outputs, seed=1234):\n",
    "        self.ni = num_inputs \n",
    "        self.no = num_outputs \n",
    "        key = jax.random.PRNGKey(seed)\n",
    "        self.w = jax.random.normal(key, (num_inputs, num_outputs)) * jnp.sqrt(2.0 / num_inputs)\n",
    "        self.b = jnp.zeros(num_outputs)\n",
    "        \n",
    "    def __call__(self, x):\n",
    "        return jnp.dot(x, self.w) + self.b\n",
    "        \n",
    "    def params(self):\n",
    "        return {'b': self.b, 'w': self.w}\n"
   ]
  },
  {
   "cell_type": "code",
   "execution_count": 12,
   "id": "8143a664",
   "metadata": {},
   "outputs": [
    {
     "name": "stderr",
     "output_type": "stream",
     "text": [
      "WARNING:absl:No GPU/TPU found, falling back to CPU. (Set TF_CPP_MIN_LOG_LEVEL=0 and rerun for more info.)\n"
     ]
    },
    {
     "name": "stdout",
     "output_type": "stream",
     "text": [
      "[0.19420522]\n"
     ]
    }
   ],
   "source": [
    "l = Linear(2, 1)\n",
    "x = np.random.randn(2)\n",
    "y = l(x)\n",
    "\n",
    "print(y)\n"
   ]
  },
  {
   "cell_type": "code",
   "execution_count": 13,
   "id": "af8158d3",
   "metadata": {},
   "outputs": [],
   "source": [
    "def mse(model, X, y):\n",
    "    preds = jax.vmap(model)(X)\n",
    "    return jnp.mean((preds - y)**2)\n"
   ]
  },
  {
   "cell_type": "code",
   "execution_count": 14,
   "id": "c84e6e07",
   "metadata": {},
   "outputs": [
    {
     "name": "stdout",
     "output_type": "stream",
     "text": [
      "3.8357058\n",
      "1.074881\n"
     ]
    }
   ],
   "source": [
    "print(mse(l, x, 2.0))\n",
    "print(mse(l, np.random.randn(10, 2), np.random.randn(10)))"
   ]
  },
  {
   "cell_type": "code",
   "execution_count": 15,
   "id": "e2280d8d",
   "metadata": {},
   "outputs": [
    {
     "ename": "TypeError",
     "evalue": "Argument '<__main__.Linear object at 0x7fcd3349d790>' of type <class '__main__.Linear'> is not a valid JAX type.",
     "output_type": "error",
     "traceback": [
      "\u001b[0;31m---------------------------------------------------------------------------\u001b[0m",
      "\u001b[0;31mTypeError\u001b[0m                                 Traceback (most recent call last)",
      "\u001b[0;32m/tmp/ipykernel_109480/2465860446.py\u001b[0m in \u001b[0;36m<module>\u001b[0;34m\u001b[0m\n\u001b[1;32m      1\u001b[0m \u001b[0mmse_grad\u001b[0m \u001b[0;34m=\u001b[0m \u001b[0mjax\u001b[0m\u001b[0;34m.\u001b[0m\u001b[0mgrad\u001b[0m\u001b[0;34m(\u001b[0m\u001b[0mmse\u001b[0m\u001b[0;34m)\u001b[0m\u001b[0;34m\u001b[0m\u001b[0;34m\u001b[0m\u001b[0m\n\u001b[0;32m----> 2\u001b[0;31m \u001b[0mmse_grad\u001b[0m\u001b[0;34m(\u001b[0m\u001b[0ml\u001b[0m\u001b[0;34m,\u001b[0m \u001b[0mx\u001b[0m\u001b[0;34m,\u001b[0m \u001b[0;36m2.0\u001b[0m\u001b[0;34m)\u001b[0m\u001b[0;34m\u001b[0m\u001b[0;34m\u001b[0m\u001b[0m\n\u001b[0m",
      "    \u001b[0;31m[... skipping hidden 5 frame]\u001b[0m\n",
      "\u001b[0;32m~/anaconda3/lib/python3.8/site-packages/jax/_src/api.py\u001b[0m in \u001b[0;36m_check_arg\u001b[0;34m(arg)\u001b[0m\n\u001b[1;32m   2972\u001b[0m \u001b[0;32mdef\u001b[0m \u001b[0m_check_arg\u001b[0m\u001b[0;34m(\u001b[0m\u001b[0marg\u001b[0m\u001b[0;34m)\u001b[0m\u001b[0;34m:\u001b[0m\u001b[0;34m\u001b[0m\u001b[0;34m\u001b[0m\u001b[0m\n\u001b[1;32m   2973\u001b[0m   \u001b[0;32mif\u001b[0m \u001b[0;32mnot\u001b[0m \u001b[0;34m(\u001b[0m\u001b[0misinstance\u001b[0m\u001b[0;34m(\u001b[0m\u001b[0marg\u001b[0m\u001b[0;34m,\u001b[0m \u001b[0mcore\u001b[0m\u001b[0;34m.\u001b[0m\u001b[0mTracer\u001b[0m\u001b[0;34m)\u001b[0m \u001b[0;32mor\u001b[0m \u001b[0m_valid_jaxtype\u001b[0m\u001b[0;34m(\u001b[0m\u001b[0marg\u001b[0m\u001b[0;34m)\u001b[0m\u001b[0;34m)\u001b[0m\u001b[0;34m:\u001b[0m\u001b[0;34m\u001b[0m\u001b[0;34m\u001b[0m\u001b[0m\n\u001b[0;32m-> 2974\u001b[0;31m     \u001b[0;32mraise\u001b[0m \u001b[0mTypeError\u001b[0m\u001b[0;34m(\u001b[0m\u001b[0;34mf\"Argument '{arg}' of type {type(arg)} is not a valid JAX type.\"\u001b[0m\u001b[0;34m)\u001b[0m\u001b[0;34m\u001b[0m\u001b[0;34m\u001b[0m\u001b[0m\n\u001b[0m\u001b[1;32m   2975\u001b[0m \u001b[0;34m\u001b[0m\u001b[0m\n\u001b[1;32m   2976\u001b[0m \u001b[0;31m# TODO(mattjj,necula): this duplicates code in core.valid_jaxtype, but one\u001b[0m\u001b[0;34m\u001b[0m\u001b[0;34m\u001b[0m\u001b[0;34m\u001b[0m\u001b[0m\n",
      "\u001b[0;31mTypeError\u001b[0m: Argument '<__main__.Linear object at 0x7fcd3349d790>' of type <class '__main__.Linear'> is not a valid JAX type."
     ]
    }
   ],
   "source": [
    "mse_grad = jax.grad(mse)\n",
    "mse_grad(l, x, 2.0)"
   ]
  },
  {
   "cell_type": "markdown",
   "id": "66fce192",
   "metadata": {},
   "source": [
    "To get this to work, the `Linear` class must be registered as a pytree.  "
   ]
  },
  {
   "cell_type": "code",
   "execution_count": 277,
   "id": "b38d3b45",
   "metadata": {},
   "outputs": [],
   "source": [
    "@jax.tree_util.register_pytree_node_class\n",
    "class Linear(Module):\n",
    "    w: jnp.ndarray \n",
    "    b: jnp.ndarray\n",
    "    ni: int \n",
    "    no: int \n",
    "\n",
    "    def __init__(self, num_inputs, num_outputs, build=True, seed=1234):\n",
    "        self.ni = num_inputs \n",
    "        self.no = num_outputs \n",
    "        # want to add seed as internal object\n",
    "        if build:\n",
    "            key = jax.random.PRNGKey(seed)\n",
    "            self.w = jax.random.normal(key, (num_inputs, num_outputs)) * jnp.sqrt(2.0 / num_inputs)\n",
    "            self.b = jnp.zeros(num_outputs)\n",
    "    \n",
    "    def merge(self, params):\n",
    "        self.w, self.b = params\n",
    "\n",
    "    def __repr__(self):\n",
    "        return f'Linear(num_inputs={self.ni}, num_outputs={self.no})'\n",
    "        \n",
    "    def __call__(self, x):\n",
    "        return jnp.dot(x, self.w) + self.b\n",
    "        \n",
    "    def params(self):\n",
    "        return {'b': self.b, 'w': self.w}\n",
    "\n",
    "    def tree_flatten(self):\n",
    "        return [self.w, self.b], [self.ni, self.no]\n",
    "\n",
    "    @classmethod\n",
    "    def tree_unflatten(cls, aux_data, children):\n",
    "        layer = cls(*aux_data, build=False)\n",
    "        layer.merge(params=children)\n",
    "        return layer"
   ]
  },
  {
   "cell_type": "code",
   "execution_count": 23,
   "id": "04e0498b",
   "metadata": {},
   "outputs": [],
   "source": [
    "lin = Linear(2, 1)"
   ]
  },
  {
   "cell_type": "code",
   "execution_count": 24,
   "id": "44dc2926",
   "metadata": {},
   "outputs": [],
   "source": [
    "params, extra_stuff = lin.tree_flatten()"
   ]
  },
  {
   "cell_type": "code",
   "execution_count": 25,
   "id": "1be4bd33",
   "metadata": {},
   "outputs": [],
   "source": [
    "lin2 = Linear.tree_unflatten(extra_stuff, params)"
   ]
  },
  {
   "cell_type": "code",
   "execution_count": 26,
   "id": "4788c16e",
   "metadata": {},
   "outputs": [
    {
     "name": "stdout",
     "output_type": "stream",
     "text": [
      "[[ 0.43957582]\n",
      " [-0.26563603]]\n",
      "[[ 0.43957582]\n",
      " [-0.26563603]]\n"
     ]
    }
   ],
   "source": [
    "print(lin.w)\n",
    "print(lin2.w) "
   ]
  },
  {
   "cell_type": "code",
   "execution_count": 27,
   "id": "4609b59b",
   "metadata": {},
   "outputs": [],
   "source": [
    "@jax.jit\n",
    "@jax.value_and_grad\n",
    "def mse(model, X, y):\n",
    "    preds = jax.vmap(model)(X)\n",
    "    return jnp.mean((preds - y)**2)"
   ]
  },
  {
   "cell_type": "code",
   "execution_count": 28,
   "id": "a924cbe7",
   "metadata": {},
   "outputs": [
    {
     "name": "stdout",
     "output_type": "stream",
     "text": [
      "1.7865258 Linear(num_inputs=2, num_outputs=1)\n"
     ]
    }
   ],
   "source": [
    "X = np.random.randn(10, 2)\n",
    "y = np.random.randn(10)\n",
    "\n",
    "loss, g_loss = mse(lin, X, y)\n",
    "print(loss, g_loss)"
   ]
  },
  {
   "cell_type": "code",
   "execution_count": 29,
   "id": "edcb6098",
   "metadata": {},
   "outputs": [
    {
     "data": {
      "text/plain": [
       "{'ni': 2,\n",
       " 'no': 1,\n",
       " 'w': DeviceArray([[ 1.5520157 ],\n",
       "              [-0.85053116]], dtype=float32),\n",
       " 'b': DeviceArray([0.76165676], dtype=float32)}"
      ]
     },
     "execution_count": 29,
     "metadata": {},
     "output_type": "execute_result"
    }
   ],
   "source": [
    "g_loss.__dict__"
   ]
  },
  {
   "cell_type": "code",
   "execution_count": 30,
   "id": "1cbf1732",
   "metadata": {},
   "outputs": [
    {
     "data": {
      "text/plain": [
       "([DeviceArray([[ 1.5520157 ],\n",
       "               [-0.85053116]], dtype=float32),\n",
       "  DeviceArray([0.76165676], dtype=float32)],\n",
       " PyTreeDef(CustomNode(<class '__main__.Linear'>[[2, 1]], [*, *])))"
      ]
     },
     "execution_count": 30,
     "metadata": {},
     "output_type": "execute_result"
    }
   ],
   "source": [
    "jax.tree_util.tree_flatten(g_loss)"
   ]
  },
  {
   "cell_type": "code",
   "execution_count": 31,
   "id": "acecd62e",
   "metadata": {},
   "outputs": [
    {
     "data": {
      "text/plain": [
       "type"
      ]
     },
     "execution_count": 31,
     "metadata": {},
     "output_type": "execute_result"
    }
   ],
   "source": [
    "locals()['Linear'].__class__"
   ]
  },
  {
   "cell_type": "markdown",
   "id": "55dadd9d",
   "metadata": {},
   "source": [
    "### Helper Functions"
   ]
  },
  {
   "cell_type": "code",
   "execution_count": 32,
   "id": "e036946a",
   "metadata": {},
   "outputs": [],
   "source": [
    "def flatten(x: jnp.ndarray): \n",
    "    return jnp.reshape(x, -1) \n"
   ]
  },
  {
   "cell_type": "code",
   "execution_count": 59,
   "id": "9c5c167b",
   "metadata": {},
   "outputs": [],
   "source": [
    "def relu(x: jnp.ndarray): \n",
    "    return jnp.clip(x, a_min=0)\n",
    "\n",
    "   "
   ]
  },
  {
   "cell_type": "code",
   "execution_count": 67,
   "id": "6f3a1ca8",
   "metadata": {},
   "outputs": [],
   "source": [
    "x = np.random.randn(10,10)\n",
    "assert jnp.all(jnp.isclose(relu(x), jax.nn.relu(x))), 'test failed'"
   ]
  },
  {
   "cell_type": "code",
   "execution_count": 68,
   "id": "0e231d2a",
   "metadata": {},
   "outputs": [],
   "source": [
    "def softmax(x: jnp.ndarray):\n",
    "    ex = jnp.exp(x)\n",
    "    return ex / jnp.sum(ex)"
   ]
  },
  {
   "cell_type": "code",
   "execution_count": 71,
   "id": "352fe9da",
   "metadata": {},
   "outputs": [],
   "source": [
    "x = np.random.randn(10)\n",
    "assert jnp.all(jnp.isclose(softmax(x), jax.nn.softmax(x))), 'test failed'"
   ]
  },
  {
   "cell_type": "code",
   "execution_count": 220,
   "id": "81d624ee",
   "metadata": {},
   "outputs": [],
   "source": [
    "_registry = {\n",
    "    flatten.__name__: flatten,\n",
    "    softmax.__name__: softmax,\n",
    "    relu.__name__: relu\n",
    "}"
   ]
  },
  {
   "cell_type": "markdown",
   "id": "48bb3daa",
   "metadata": {},
   "source": [
    "### Sequential Module"
   ]
  },
  {
   "cell_type": "code",
   "execution_count": 263,
   "id": "8490f775",
   "metadata": {},
   "outputs": [],
   "source": [
    "@jax.tree_util.register_pytree_node_class\n",
    "class Sequential(Module):\n",
    "    layers: List\n",
    "    def __init__(self, *layers):\n",
    "        self.layers = layers\n",
    "    def __call__(self, x):\n",
    "        for layer in self.layers:\n",
    "            x = layer(x)\n",
    "        return x\n",
    "    def tree_flatten(self):\n",
    "        aux_data, children = [], []\n",
    "        for layer in self.layers:\n",
    "            if isinstance(layer, Module):\n",
    "                params, extra_stuff = layer.tree_flatten()\n",
    "                aux_data.append([layer.__class__.__name__] + extra_stuff)\n",
    "                children.append(params) \n",
    "            elif callable(layer):\n",
    "                # a layer function that doesn't have any paramerers ...\n",
    "                aux_data.append(layer.__name__)\n",
    "                children.append(None)    \n",
    "        return children, aux_data\n",
    "    @classmethod\n",
    "    def tree_unflatten(cls, aux_data, children):\n",
    "        layers = []\n",
    "        # Need a bettern way to unflatten a sequential structure, more flexible at least...\n",
    "        for params, spec in zip(children, aux_data):\n",
    "            if isinstance(spec, list):\n",
    "                layer_name, *args = spec\n",
    "                if layer_name == 'Linear':\n",
    "                    layers.append(Linear.tree_unflatten(args, params))   \n",
    "            elif isinstance(spec, str) and spec in _registry:\n",
    "                layers.append(_registry[spec])\n",
    "        return Sequential(*layers)\n",
    "    "
   ]
  },
  {
   "cell_type": "code",
   "execution_count": 264,
   "id": "e871ccc1",
   "metadata": {},
   "outputs": [
    {
     "name": "stdout",
     "output_type": "stream",
     "text": [
      "['flatten', ['Linear', 784, 128], 'relu', ['Linear', 128, 10], 'softmax']\n",
      "[None, [DeviceArray([[-0.00503162, -0.11710759,  0.05479915, ..., -0.07662067, -0.03762808,  0.037621  ],\n",
      "             [-0.02311066,  0.00427538,  0.06703123, ...,  0.05820996, -0.03371886, -0.0653995 ],\n",
      "             [-0.03936624,  0.08184296, -0.00103856, ..., -0.02543773,  0.00404367,  0.10533019],\n",
      "             ...,\n",
      "             [-0.05674443,  0.01220774, -0.04277196, ...,  0.00793091, -0.03246848,  0.05214054],\n",
      "             [-0.10229313, -0.04473471, -0.05902693, ..., -0.026743  ,  0.01399903, -0.02305236],\n",
      "             [ 0.02624378, -0.040582  ,  0.04346804, ..., -0.0069246 ,  0.04329436,  0.07048796]], dtype=float32), DeviceArray([0., 0., 0., 0., 0., 0., 0., 0., 0., 0., 0., 0., 0., 0., 0., 0., 0., 0., 0., 0., 0., 0., 0., 0., 0., 0., 0., 0., 0., 0., 0., 0., 0., 0., 0., 0., 0., 0., 0., 0., 0., 0., 0., 0., 0., 0.,\n",
      "             0., 0., 0., 0., 0., 0., 0., 0., 0., 0., 0., 0., 0., 0., 0., 0., 0., 0., 0., 0., 0., 0., 0., 0., 0., 0., 0., 0., 0., 0., 0., 0., 0., 0., 0., 0., 0., 0., 0., 0., 0., 0., 0., 0., 0., 0.,\n",
      "             0., 0., 0., 0., 0., 0., 0., 0., 0., 0., 0., 0., 0., 0., 0., 0., 0., 0., 0., 0., 0., 0., 0., 0., 0., 0., 0., 0., 0., 0., 0., 0., 0., 0., 0., 0.], dtype=float32)], None, [DeviceArray([[-0.01355871,  0.03681665, -0.03254633, ...,  0.08429167, -0.23054102, -0.17765395],\n",
      "             [ 0.10870937, -0.09912576, -0.15005781, ..., -0.02846045, -0.17202236,  0.05921352],\n",
      "             [-0.04855632, -0.1232295 , -0.08703142, ..., -0.01804219, -0.05857573, -0.05169024],\n",
      "             ...,\n",
      "             [-0.04422821,  0.02535993, -0.09997344, ..., -0.15334168, -0.07498863, -0.08412767],\n",
      "             [-0.10158557,  0.035592  , -0.01597822, ..., -0.17800951,  0.01484985, -0.03984371],\n",
      "             [ 0.10285417, -0.07429263, -0.03157486, ..., -0.09978219,  0.09220438, -0.01050255]], dtype=float32), DeviceArray([0., 0., 0., 0., 0., 0., 0., 0., 0., 0.], dtype=float32)], None]\n"
     ]
    }
   ],
   "source": [
    "\n",
    "\n",
    "model = Sequential(\n",
    "    flatten,\n",
    "    Linear(784, 128),\n",
    "    relu,\n",
    "    Linear(128, 10),\n",
    "    softmax   \n",
    ")\n",
    "\n",
    "params, extra_stuff = model.tree_flatten()\n",
    "print(extra_stuff)\n",
    "print(params)"
   ]
  },
  {
   "cell_type": "code",
   "execution_count": 265,
   "id": "60cf94f6",
   "metadata": {},
   "outputs": [
    {
     "data": {
      "text/plain": [
       "DeviceArray([0.14889514, 0.01421295, 0.01874719, 0.02007225, 0.0114122 , 0.20546633, 0.05456736, 0.02481872, 0.46937987, 0.03242803], dtype=float32)"
      ]
     },
     "execution_count": 265,
     "metadata": {},
     "output_type": "execute_result"
    }
   ],
   "source": [
    "model(np.random.randn(28, 28))"
   ]
  },
  {
   "cell_type": "code",
   "execution_count": 266,
   "id": "78befb13",
   "metadata": {},
   "outputs": [
    {
     "name": "stdout",
     "output_type": "stream",
     "text": [
      "[784, 128]\n",
      "[128, 10]\n"
     ]
    }
   ],
   "source": [
    "model2 = Sequential.tree_unflatten(extra_stuff, params)"
   ]
  },
  {
   "cell_type": "code",
   "execution_count": 278,
   "id": "92e513c4",
   "metadata": {},
   "outputs": [
    {
     "data": {
      "text/plain": [
       "([None,\n",
       "  [DeviceArray([[-0.00503162, -0.11710759,  0.05479915, ..., -0.07662067, -0.03762808,  0.037621  ],\n",
       "                [-0.02311066,  0.00427538,  0.06703123, ...,  0.05820996, -0.03371886, -0.0653995 ],\n",
       "                [-0.03936624,  0.08184296, -0.00103856, ..., -0.02543773,  0.00404367,  0.10533019],\n",
       "                ...,\n",
       "                [-0.05674443,  0.01220774, -0.04277196, ...,  0.00793091, -0.03246848,  0.05214054],\n",
       "                [-0.10229313, -0.04473471, -0.05902693, ..., -0.026743  ,  0.01399903, -0.02305236],\n",
       "                [ 0.02624378, -0.040582  ,  0.04346804, ..., -0.0069246 ,  0.04329436,  0.07048796]], dtype=float32),\n",
       "   DeviceArray([0., 0., 0., 0., 0., 0., 0., 0., 0., 0., 0., 0., 0., 0., 0., 0., 0., 0., 0., 0., 0., 0., 0., 0., 0., 0., 0., 0., 0., 0., 0., 0., 0., 0., 0., 0., 0., 0., 0., 0., 0., 0., 0., 0., 0., 0.,\n",
       "                0., 0., 0., 0., 0., 0., 0., 0., 0., 0., 0., 0., 0., 0., 0., 0., 0., 0., 0., 0., 0., 0., 0., 0., 0., 0., 0., 0., 0., 0., 0., 0., 0., 0., 0., 0., 0., 0., 0., 0., 0., 0., 0., 0., 0., 0.,\n",
       "                0., 0., 0., 0., 0., 0., 0., 0., 0., 0., 0., 0., 0., 0., 0., 0., 0., 0., 0., 0., 0., 0., 0., 0., 0., 0., 0., 0., 0., 0., 0., 0., 0., 0., 0., 0.], dtype=float32)],\n",
       "  None,\n",
       "  [DeviceArray([[-0.01355871,  0.03681665, -0.03254633, ...,  0.08429167, -0.23054102, -0.17765395],\n",
       "                [ 0.10870937, -0.09912576, -0.15005781, ..., -0.02846045, -0.17202236,  0.05921352],\n",
       "                [-0.04855632, -0.1232295 , -0.08703142, ..., -0.01804219, -0.05857573, -0.05169024],\n",
       "                ...,\n",
       "                [-0.04422821,  0.02535993, -0.09997344, ..., -0.15334168, -0.07498863, -0.08412767],\n",
       "                [-0.10158557,  0.035592  , -0.01597822, ..., -0.17800951,  0.01484985, -0.03984371],\n",
       "                [ 0.10285417, -0.07429263, -0.03157486, ..., -0.09978219,  0.09220438, -0.01050255]], dtype=float32),\n",
       "   DeviceArray([0., 0., 0., 0., 0., 0., 0., 0., 0., 0.], dtype=float32)],\n",
       "  None],\n",
       " ['flatten', ['Linear', 784, 128], 'relu', ['Linear', 128, 10], 'softmax'])"
      ]
     },
     "execution_count": 278,
     "metadata": {},
     "output_type": "execute_result"
    }
   ],
   "source": [
    "model2.tree_flatten()"
   ]
  },
  {
   "cell_type": "code",
   "execution_count": 268,
   "id": "6d7f2c8d",
   "metadata": {},
   "outputs": [
    {
     "name": "stdout",
     "output_type": "stream",
     "text": [
      "[[0.30642563 0.06852321 0.01382588 0.04456307 0.19540003 0.1262225  0.1206013  0.03649835 0.04551946 0.04242058]\n",
      " [0.04557865 0.02461748 0.00112088 0.05712241 0.02430723 0.09497115 0.14840554 0.00978658 0.24429356 0.34979653]\n",
      " [0.10919429 0.0364046  0.05233027 0.1362792  0.03409844 0.09159252 0.35578114 0.00284809 0.12351377 0.05795773]\n",
      " [0.18764256 0.03278085 0.00566682 0.08923203 0.00582936 0.16747414 0.02575605 0.01455623 0.03993697 0.431125  ]\n",
      " [0.03966064 0.0189909  0.04581957 0.02357866 0.00892301 0.01286883 0.38936347 0.02252842 0.27315056 0.1651159 ]\n",
      " [0.01710477 0.00120931 0.00660053 0.00656715 0.00650341 0.04018362 0.0522454  0.01581913 0.07741896 0.7763477 ]\n",
      " [0.02462117 0.15329106 0.03579183 0.24294148 0.00338985 0.12530422 0.04032468 0.00982568 0.0816436  0.28286648]\n",
      " [0.0741462  0.06528968 0.02959587 0.02509318 0.0290505  0.0346982  0.1782756  0.03572662 0.4739645  0.0541596 ]\n",
      " [0.09671047 0.01535423 0.00856252 0.00809333 0.00871737 0.08039293 0.208681   0.00733759 0.34957805 0.21657248]\n",
      " [0.07419889 0.02071405 0.04218319 0.02478138 0.02259833 0.05070879 0.07078283 0.03585098 0.51945263 0.13872887]]\n"
     ]
    }
   ],
   "source": [
    "X = np.random.randn(10, 28, 28)\n",
    "y = jax.vmap(model)(X)\n",
    "print(y)"
   ]
  },
  {
   "cell_type": "markdown",
   "id": "advisory-spirit",
   "metadata": {},
   "source": [
    "## Cross-entropy Loss"
   ]
  },
  {
   "cell_type": "code",
   "execution_count": 269,
   "id": "ce685cba",
   "metadata": {},
   "outputs": [
    {
     "data": {
      "text/plain": [
       "DeviceArray(2.3025851, dtype=float32, weak_type=True)"
      ]
     },
     "execution_count": 269,
     "metadata": {},
     "output_type": "execute_result"
    }
   ],
   "source": [
    "jnp.log(10)"
   ]
  },
  {
   "cell_type": "code",
   "execution_count": 279,
   "id": "83a6e920",
   "metadata": {},
   "outputs": [],
   "source": [
    "@jax.value_and_grad\n",
    "def cross_entropy(model, X, y):\n",
    "    y_one_hot = jax.nn.one_hot(y, 10)\n",
    "    log_softmax = jnp.log(jax.vmap(model)(X))\n",
    "    return -jnp.mean(log_softmax * y_one_hot)\n",
    "    "
   ]
  },
  {
   "cell_type": "code",
   "execution_count": 280,
   "id": "bf096acd",
   "metadata": {},
   "outputs": [
    {
     "name": "stdout",
     "output_type": "stream",
     "text": [
      "[784, 128]\n",
      "[128, 10]\n",
      "[784, 128]\n",
      "[128, 10]\n",
      "0.30198798\n"
     ]
    }
   ],
   "source": [
    "\n",
    "value, grads = cross_entropy(model, np.random.randn(5, 28, 28), [1,0,2,3,5])\n",
    "print(value)"
   ]
  },
  {
   "cell_type": "code",
   "execution_count": 304,
   "id": "7c59f633",
   "metadata": {},
   "outputs": [
    {
     "name": "stdout",
     "output_type": "stream",
     "text": [
      "[784, 128]\n",
      "[128, 10]\n"
     ]
    },
    {
     "data": {
      "text/plain": [
       "<__main__.Sequential at 0x7fcd37e16f10>"
      ]
     },
     "execution_count": 304,
     "metadata": {},
     "output_type": "execute_result"
    }
   ],
   "source": [
    "jax.tree_util.tree_map(lambda x: x.shape, grads)"
   ]
  },
  {
   "cell_type": "code",
   "execution_count": 305,
   "id": "ae5c4f72",
   "metadata": {},
   "outputs": [
    {
     "name": "stdout",
     "output_type": "stream",
     "text": [
      "[784, 128]\n",
      "[128, 10]\n"
     ]
    }
   ],
   "source": [
    "updated_model = jax.tree_util.tree_map(lambda p, g: p - 1e-3*g, model, grads)"
   ]
  },
  {
   "cell_type": "code",
   "execution_count": 314,
   "id": "e2e382c9",
   "metadata": {},
   "outputs": [],
   "source": [
    "assert jnp.all(jnp.isclose(updated_model.layers[1].w, model.layers[1].w - 1e-3*grads.layers[1].w))"
   ]
  },
  {
   "cell_type": "markdown",
   "id": "37be35ef",
   "metadata": {},
   "source": [
    "## Optimizer "
   ]
  },
  {
   "cell_type": "code",
   "execution_count": null,
   "id": "db693299",
   "metadata": {},
   "outputs": [],
   "source": [
    "class SGD:\n",
    "    def __init__(self, learning_rate=1e-3):\n",
    "        self.learning_rate"
   ]
  },
  {
   "cell_type": "code",
   "execution_count": 300,
   "id": "5040c572",
   "metadata": {},
   "outputs": [],
   "source": [
    "l1 = Linear(1,1)\n",
    "l2 = jax.tree_util.tree_map(lambda a, b: a+b, l1, l1)"
   ]
  },
  {
   "cell_type": "code",
   "execution_count": 301,
   "id": "3b587685",
   "metadata": {},
   "outputs": [
    {
     "name": "stdout",
     "output_type": "stream",
     "text": [
      "[[-0.7639557]] [[-1.5279114]]\n"
     ]
    }
   ],
   "source": [
    "print(l1.w, l2.w)"
   ]
  },
  {
   "cell_type": "markdown",
   "id": "charged-knock",
   "metadata": {},
   "source": [
    "## Training Loop  "
   ]
  },
  {
   "cell_type": "code",
   "execution_count": null,
   "id": "5867fd6a",
   "metadata": {},
   "outputs": [],
   "source": []
  },
  {
   "cell_type": "code",
   "execution_count": null,
   "id": "89dc3d9f",
   "metadata": {},
   "outputs": [],
   "source": [
    "num_epochs = 10\n",
    "learning_rate = 1e-3\n",
    "for i in range(num_epochs):\n",
    "    accuracy = 0.0\n",
    "    for X, y in mini_batch:\n",
    "        loss, grad = cross_entropy(model, X, y)\n",
    "        \n",
    "        # stochastic gradient descent\n",
    "        model = jax.tree_util.tree_map(lambda p, g: p - learning_rate*g, model, grad)\n",
    "\n",
    "        # accumulate accuracy, or some other metric\n",
    "        y_preds = jnp.argmax(jax.vmap(model)(X), axis=1)\n",
    "        accuracy = jnp.sum(y_preds == y)"
   ]
  },
  {
   "cell_type": "code",
   "execution_count": 334,
   "id": "a1624455",
   "metadata": {},
   "outputs": [
    {
     "name": "stdout",
     "output_type": "stream",
     "text": [
      "[[0.01349435 0.050846   0.00470727 0.0737321  0.01404345 0.08124171 0.32983273 0.09614405 0.11126529 0.22469307]\n",
      " [0.00822283 0.01901213 0.01239796 0.01414352 0.01985135 0.07420428 0.08907535 0.00788129 0.6057198  0.14949153]]\n",
      "[6 8]\n",
      "0\n"
     ]
    }
   ],
   "source": [
    "X = np.random.randn(2, 28, 28)\n",
    "y = np.array([0, 1])\n",
    "o = jax.vmap(model)(X)\n",
    "print(o)\n",
    "y_preds = jnp.argmax(o, axis=1)\n",
    "print(y_preds)\n",
    "accuracy = jnp.sum(y_preds == y)\n",
    "print(accuracy)"
   ]
  },
  {
   "cell_type": "markdown",
   "id": "monthly-finder",
   "metadata": {},
   "source": [
    "## Performance Curve\n",
    "\n",
    "Let's see the trend in the loss function."
   ]
  },
  {
   "cell_type": "markdown",
   "id": "alive-hudson",
   "metadata": {},
   "source": [
    "## Conclusion\n",
    "\n"
   ]
  },
  {
   "cell_type": "code",
   "execution_count": 41,
   "id": "66e6e4b9",
   "metadata": {},
   "outputs": [],
   "source": [
    "X = np.random.randn(10, 3)\n",
    "w = np.random.randn(5, 3)"
   ]
  },
  {
   "cell_type": "code",
   "execution_count": 42,
   "id": "e5f2b063",
   "metadata": {},
   "outputs": [
    {
     "data": {
      "text/plain": [
       "array([[ 0.95615652, -0.60910943,  0.47719404,  0.50628421, -0.57886369],\n",
       "       [ 3.09498684,  1.70024379, -1.01957485,  2.25813896, -0.37952626],\n",
       "       [-3.67871561, -0.1351104 ,  0.04294664, -1.84479421,  0.98852387],\n",
       "       [-1.00596024,  0.46315551,  0.67104569,  3.13116358, -1.09329311],\n",
       "       [ 2.07878921,  1.88358723, -1.42939824,  0.84352964,  0.39912581],\n",
       "       [ 2.91327168, -1.07647233,  0.73089571,  1.0445742 , -1.1687821 ],\n",
       "       [ 1.03321149,  0.51671102,  0.70734573,  4.30933842, -1.72017219],\n",
       "       [-2.73799462, -1.54710401,  1.83484434,  1.17423297, -1.08464385],\n",
       "       [-1.6715637 , -2.74092988,  1.91974295, -1.18807747, -0.68628707],\n",
       "       [ 1.21170605,  0.15311168, -0.1815407 ,  0.30359954, -0.13915325]])"
      ]
     },
     "execution_count": 42,
     "metadata": {},
     "output_type": "execute_result"
    }
   ],
   "source": [
    "np.dot(X, np.transpose(w))"
   ]
  },
  {
   "cell_type": "code",
   "execution_count": 44,
   "id": "b9b25ff0",
   "metadata": {},
   "outputs": [
    {
     "name": "stdout",
     "output_type": "stream",
     "text": [
      "[[ 0.9561565  -0.6091094   0.47719404  0.50628424 -0.5788637 ]\n",
      " [ 3.0949867   1.7002438  -1.0195749   2.258139   -0.37952614]\n",
      " [-3.6787155  -0.13511032  0.04294658 -1.8447943   0.9885239 ]\n",
      " [-1.0059603   0.46315545  0.67104566  3.1311636  -1.093293  ]\n",
      " [ 2.0787892   1.8835871  -1.4293982   0.8435297   0.39912578]\n",
      " [ 2.9132717  -1.0764723   0.7308957   1.044574   -1.1687821 ]\n",
      " [ 1.0332114   0.516711    0.7073457   4.309338   -1.7201722 ]\n",
      " [-2.7379947  -1.547104    1.8348444   1.174233   -1.0846438 ]\n",
      " [-1.6715636  -2.7409298   1.919743   -1.1880776  -0.686287  ]\n",
      " [ 1.2117062   0.15311167 -0.1815407   0.3035995  -0.13915324]]\n"
     ]
    }
   ],
   "source": [
    "def lin(x): return jnp.dot(w, x)\n",
    "\n",
    "yy = jax.vmap(lin)(X)\n",
    "print(yy)"
   ]
  },
  {
   "cell_type": "code",
   "execution_count": null,
   "id": "1adb8757",
   "metadata": {},
   "outputs": [],
   "source": []
  }
 ],
 "metadata": {
  "kernelspec": {
   "display_name": "Python 3.8.5 ('base')",
   "language": "python",
   "name": "python3"
  },
  "language_info": {
   "codemirror_mode": {
    "name": "ipython",
    "version": 3
   },
   "file_extension": ".py",
   "mimetype": "text/x-python",
   "name": "python",
   "nbconvert_exporter": "python",
   "pygments_lexer": "ipython3",
   "version": "3.8.5"
  },
  "vscode": {
   "interpreter": {
    "hash": "a9eb3d55570fa83a5d0e75ab0fc9e29d7692aa2022c5c86ae3b4c36003072d28"
   }
  }
 },
 "nbformat": 4,
 "nbformat_minor": 5
}
