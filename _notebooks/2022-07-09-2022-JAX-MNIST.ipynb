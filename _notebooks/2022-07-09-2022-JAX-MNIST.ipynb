{
 "cells": [
  {
   "cell_type": "markdown",
   "id": "direct-series",
   "metadata": {},
   "source": [
    "# MNIST using Linear Layers with JAX\n",
    "\n",
    "- toc: true \n",
    "- badges: true\n",
    "- comments: true\n",
    "- categories: [jupyter]\n",
    "- image: images/chart-preview.png"
   ]
  },
  {
   "cell_type": "code",
   "execution_count": 23,
   "id": "burning-cleaner",
   "metadata": {},
   "outputs": [],
   "source": [
    "import jax \n",
    "import jax.numpy as jnp\n",
    "import numpy as np\n",
    "import matplotlib.pyplot as plt\n",
    "\n",
    "from typing import Callable, List"
   ]
  },
  {
   "cell_type": "code",
   "execution_count": null,
   "id": "8cfed880",
   "metadata": {},
   "outputs": [],
   "source": []
  },
  {
   "cell_type": "markdown",
   "id": "absent-language",
   "metadata": {},
   "source": [
    "## Linear Layer API\n"
   ]
  },
  {
   "cell_type": "code",
   "execution_count": 28,
   "id": "acquired-guinea",
   "metadata": {},
   "outputs": [],
   "source": [
    "class Linear(object):\n",
    "    def __init__(self, input_dim: int, output_dim: int):\n",
    "\n",
    "        self.output_dim, self.input_dim = output_dim, input_dim\n",
    "        key = jax.random.PRNGKey(1234)\n",
    "        key_w, key_b = jax.random.split(key, 2)\n",
    "        \n",
    "        # better initialization like xavier or kaiming\n",
    "        self.w = jax.random.normal(key_w, (output_dim, input_dim))\n",
    "        self.b = jax.random.normal(key_b, (output_dim,))\n",
    "\n",
    "        # want to adopt fastAI's approach of registering parameters into some collection structure\n",
    "    def __call__(self, x):\n",
    "        return jnp.dot(self.w, x) + self.b\n",
    "\n",
    "    def __repr__(self):\n",
    "        return f'Linear({self.output_dim}, {self.input_dim})'\n",
    "\n",
    "    @property\n",
    "    def params(self):\n",
    "        return {'weights': self.w, 'bias': self.b}\n"
   ]
  },
  {
   "cell_type": "code",
   "execution_count": 30,
   "id": "d7fca7b8",
   "metadata": {},
   "outputs": [
    {
     "data": {
      "text/plain": [
       "{'weights': DeviceArray([[ 5.2179140e-01,  1.4660535e-03,  3.2984921e-01],\n",
       "              [-3.9343223e-01, -1.9224546e+00, -1.3630803e-01]],            dtype=float32),\n",
       " 'bias': DeviceArray([-1.7366334, -1.7102827], dtype=float32)}"
      ]
     },
     "execution_count": 30,
     "metadata": {},
     "output_type": "execute_result"
    }
   ],
   "source": [
    "layer = Linear(3,2)\n",
    "\n",
    "layer.params"
   ]
  },
  {
   "cell_type": "code",
   "execution_count": 18,
   "id": "49bb6d5f",
   "metadata": {},
   "outputs": [
    {
     "data": {
      "text/plain": [
       "DeviceArray([[-2.3366485 , -2.3083436 ],\n",
       "             [-1.4197106 , -1.2063366 ],\n",
       "             [-1.7308872 ,  2.254344  ],\n",
       "             [-0.02429783, -5.9196377 ],\n",
       "             [-1.9397157 , -4.931116  ],\n",
       "             [-1.9212854 , -0.96998787],\n",
       "             [-1.9635744 ,  0.27272022],\n",
       "             [-0.00939989, -4.705719  ],\n",
       "             [-2.6962264 , -1.90379   ],\n",
       "             [-2.1112676 , -1.3299353 ]], dtype=float32)"
      ]
     },
     "execution_count": 18,
     "metadata": {},
     "output_type": "execute_result"
    }
   ],
   "source": [
    "result = jax.vmap(Linear(3, 2), in_axes=0)(np.random.randn(10, 3))\n",
    "result"
   ]
  },
  {
   "cell_type": "code",
   "execution_count": 25,
   "id": "e89106a0",
   "metadata": {},
   "outputs": [],
   "source": [
    "class Sequential(object):\n",
    "    def __init__(self, layers: List[Callable]):\n",
    "        self.layers = layers\n",
    "        # want to get all the parameters in a list\n",
    "    def __call__(self, x):\n",
    "        pass \n",
    "    "
   ]
  },
  {
   "cell_type": "markdown",
   "id": "advisory-spirit",
   "metadata": {},
   "source": [
    "## Loss Function\n",
    "\n",
    "The loss function takes the current set of parameters, the model, and the data and calculates the distance between the model\n",
    "predictions and the targets.  "
   ]
  },
  {
   "cell_type": "code",
   "execution_count": 102,
   "id": "instructional-trademark",
   "metadata": {},
   "outputs": [],
   "source": [
    "@jax.value_and_grad\n",
    "def mse_loss(params, model, X, y):\n",
    "    l = jax.vmap(model, in_axes=(None, 0))(params, X) \n",
    "    return jnp.mean((l - y)**2) "
   ]
  },
  {
   "cell_type": "markdown",
   "id": "charged-knock",
   "metadata": {},
   "source": [
    "## Training Loop\n",
    "\n",
    "The training loop tunes the model parameters for a specified number of epochs.  For now the parameters are adjusted once per epoch, after the entire dataset is consumed by the model.  "
   ]
  },
  {
   "cell_type": "code",
   "execution_count": 103,
   "id": "breeding-sailing",
   "metadata": {},
   "outputs": [],
   "source": [
    "def train(data, model, lr=1e-2, num_epochs=50, loss=mse_loss):\n",
    "    \n",
    "    X, y = data\n",
    "    loss_vals = np.zeros(num_epochs)\n",
    "\n",
    "\n",
    "    # initialize the model parameters\n",
    "    params = {'w': jnp.array([0,0,0], dtype=jnp.float32), 'b': 0.0}\n",
    "\n",
    "    for i in range(num_epochs):\n",
    "        loss_i, grad_params_i = loss(params, model, X, y)\n",
    "        for key in params:\n",
    "            params[key] -= lr*grad_params_i[key]\n",
    "    \n",
    "        loss_vals[i] = loss_i\n",
    "    return loss_vals, params"
   ]
  },
  {
   "cell_type": "markdown",
   "id": "monthly-finder",
   "metadata": {},
   "source": [
    "## Performance Curve\n",
    "\n",
    "Let's see the trend in the loss function."
   ]
  },
  {
   "cell_type": "markdown",
   "id": "alive-hudson",
   "metadata": {},
   "source": [
    "## Conclusion\n",
    "\n"
   ]
  }
 ],
 "metadata": {
  "kernelspec": {
   "display_name": "Python 3.8.5 ('base')",
   "language": "python",
   "name": "python3"
  },
  "language_info": {
   "codemirror_mode": {
    "name": "ipython",
    "version": 3
   },
   "file_extension": ".py",
   "mimetype": "text/x-python",
   "name": "python",
   "nbconvert_exporter": "python",
   "pygments_lexer": "ipython3",
   "version": "3.8.5"
  },
  "vscode": {
   "interpreter": {
    "hash": "a9eb3d55570fa83a5d0e75ab0fc9e29d7692aa2022c5c86ae3b4c36003072d28"
   }
  }
 },
 "nbformat": 4,
 "nbformat_minor": 5
}
