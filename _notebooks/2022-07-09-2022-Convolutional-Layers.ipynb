{
 "cells": [
  {
   "cell_type": "markdown",
   "id": "decreased-selling",
   "metadata": {},
   "source": [
    "# Convolutional Layer\n",
    "\n",
    "- toc: true\n",
    "- badges: true\n",
    "- comments: true\n",
    "- categories: [jupyter]\n",
    "- image: images/chart-preview.png\n",
    "- hide: true"
   ]
  },
  {
   "cell_type": "markdown",
   "id": "turned-episode",
   "metadata": {},
   "source": [
    "## Introduction\n"
   ]
  },
  {
   "cell_type": "markdown",
   "id": "dimensional-nature",
   "metadata": {},
   "source": [
    "## Let's Start"
   ]
  },
  {
   "cell_type": "code",
   "execution_count": 154,
   "id": "accomplished-acrylic",
   "metadata": {},
   "outputs": [],
   "source": [
    "import jax \n",
    "import jax.numpy as jnp\n",
    "import numpy as np\n",
    "import matplotlib.pyplot as plt\n",
    "import tensorflow as tf\n",
    "import time \n",
    "\n",
    "from typing import Tuple, List, Any, Dict, Callable"
   ]
  },
  {
   "cell_type": "markdown",
   "id": "oriented-arrangement",
   "metadata": {},
   "source": [
    "### Convolutional Layers in Keras\n",
    "\n",
    "The first function argument is the number of filters and the second argument is the shape of the kernel. "
   ]
  },
  {
   "cell_type": "code",
   "execution_count": 155,
   "id": "clear-segment",
   "metadata": {},
   "outputs": [],
   "source": [
    "layer = tf.keras.layers.Conv2D(2, (2, 2), use_bias=False)"
   ]
  },
  {
   "cell_type": "markdown",
   "id": "billion-candy",
   "metadata": {},
   "source": [
    "Arrays fed to `layer` must be a 4D tensor where the first axis is the batch size, the second axis is the width, the third axis is the height, and thr fourth axis is \n",
    "the number of channels."
   ]
  },
  {
   "cell_type": "code",
   "execution_count": 90,
   "id": "improved-classification",
   "metadata": {},
   "outputs": [],
   "source": [
    "input_image = np.random.randn(4,4,3)"
   ]
  },
  {
   "cell_type": "markdown",
   "id": "extensive-affiliation",
   "metadata": {},
   "source": [
    "Because Keras layers operate on batches of data, and not individual examples, a batch dimension must be addes to `input_image`.  To do this in numpy, take `input_image` and add a `None` in the axis you want to add:"
   ]
  },
  {
   "cell_type": "code",
   "execution_count": 140,
   "id": "outdoor-sucking",
   "metadata": {},
   "outputs": [],
   "source": [
    "input_batch = input_image[None,:,:,:]"
   ]
  },
  {
   "cell_type": "code",
   "execution_count": 141,
   "id": "greek-regard",
   "metadata": {},
   "outputs": [],
   "source": [
    "feature_maps = layer(input_batch)"
   ]
  },
  {
   "cell_type": "code",
   "execution_count": 142,
   "id": "growing-muslim",
   "metadata": {},
   "outputs": [
    {
     "data": {
      "text/plain": [
       "TensorShape([1, 3, 3, 2])"
      ]
     },
     "execution_count": 142,
     "metadata": {},
     "output_type": "execute_result"
    }
   ],
   "source": [
    "feature_maps.shape"
   ]
  },
  {
   "cell_type": "code",
   "execution_count": 143,
   "id": "fifteen-collins",
   "metadata": {},
   "outputs": [],
   "source": [
    "kernels = layer.get_weights()[0]"
   ]
  },
  {
   "cell_type": "code",
   "execution_count": 144,
   "id": "sound-qatar",
   "metadata": {},
   "outputs": [
    {
     "name": "stdout",
     "output_type": "stream",
     "text": [
      "w shape = (2, 2, 3, 2)\n"
     ]
    }
   ],
   "source": [
    "print(f'w shape = {kernels.shape}')"
   ]
  },
  {
   "cell_type": "markdown",
   "id": "pretty-rating",
   "metadata": {},
   "source": []
  },
  {
   "cell_type": "code",
   "execution_count": 150,
   "id": "accredited-retailer",
   "metadata": {},
   "outputs": [],
   "source": [
    "def convolve(input_image, kernels, output_channel):\n",
    "    output_0 = np.zeros((3,3))\n",
    "    output_1 = np.zeros((3,3))\n",
    "    output_2 = np.zeros((3,3))\n",
    "    \n",
    "    input_0 = input_image[:,:,0]\n",
    "    input_1 = input_image[:,:,1]\n",
    "    input_2 = input_image[:,:,2]\n",
    "    \n",
    "    # Different filters for each input channel\n",
    "    w0 = kernels[:,:, 0, output_channel]\n",
    "    w1 = kernels[:,:, 1, output_channel]\n",
    "    w2 = kernels[:,:, 2, output_channel]\n",
    "    \n",
    "    # Apply filter to channel 0\n",
    "    output_0[0,0] = np.sum(w0 * input_0[0:2,0:2])\n",
    "    output_0[0,1] = np.sum(w0 * input_0[0:2,1:3])\n",
    "    output_0[0,2] = np.sum(w0 * input_0[0:2,2:4])\n",
    "    output_0[1,0] = np.sum(w0 * input_0[1:3,0:2])\n",
    "    output_0[1,1] = np.sum(w0 * input_0[1:3,1:3])\n",
    "    output_0[1,2] = np.sum(w0 * input_0[1:3,2:4])\n",
    "    output_0[2,0] = np.sum(w0 * input_0[2:4,0:2])\n",
    "    output_0[2,1] = np.sum(w0 * input_0[2:4,1:3])\n",
    "    output_0[2,2] = np.sum(w0 * input_0[2:4,2:4])\n",
    "     \n",
    "    # Apply filter to channel 1\n",
    "    output_1[0,0] = np.sum(w1 * input_1[0:2,0:2])\n",
    "    output_1[0,1] = np.sum(w1 * input_1[0:2,1:3])\n",
    "    output_1[0,2] = np.sum(w1 * input_1[0:2,2:4])\n",
    "    output_1[1,0] = np.sum(w1 * input_1[1:3,0:2])\n",
    "    output_1[1,1] = np.sum(w1 * input_1[1:3,1:3])\n",
    "    output_1[1,2] = np.sum(w1 * input_1[1:3,2:4])\n",
    "    output_1[2,0] = np.sum(w1 * input_1[2:4,0:2])\n",
    "    output_1[2,1] = np.sum(w1 * input_1[2:4,1:3])\n",
    "    output_1[2,2] = np.sum(w1 * input_1[2:4,2:4])\n",
    "    \n",
    "    # Apply filter to channel 2\n",
    "    output_2[0,0] = np.sum(w2 * input_2[0:2,0:2])\n",
    "    output_2[0,1] = np.sum(w2 * input_2[0:2,1:3])\n",
    "    output_2[0,2] = np.sum(w2 * input_2[0:2,2:4])\n",
    "    output_2[1,0] = np.sum(w2 * input_2[1:3,0:2])\n",
    "    output_2[1,1] = np.sum(w2 * input_2[1:3,1:3])\n",
    "    output_2[1,2] = np.sum(w2 * input_2[1:3,2:4])\n",
    "    output_2[2,0] = np.sum(w2 * input_2[2:4,0:2])\n",
    "    output_2[2,1] = np.sum(w2 * input_2[2:4,1:3])\n",
    "    output_2[2,2] = np.sum(w2 * input_2[2:4,2:4])\n",
    "    \n",
    "    # Add the filtered outputs from each channel\n",
    "    return output_0 + output_1 + output_2"
   ]
  },
  {
   "cell_type": "code",
   "execution_count": 151,
   "id": "differential-material",
   "metadata": {},
   "outputs": [],
   "source": [
    "y = np.zeros((3, 3, 2))\n",
    "\n",
    "y[:,:,0] = convolve(input_image, kernels, 0)\n",
    "y[:,:,1] = convolve(input_image, kernels, 1)"
   ]
  },
  {
   "cell_type": "code",
   "execution_count": 152,
   "id": "infrared-russia",
   "metadata": {},
   "outputs": [],
   "source": [
    "y = y[None, :, :, :]"
   ]
  },
  {
   "cell_type": "code",
   "execution_count": 153,
   "id": "least-asian",
   "metadata": {},
   "outputs": [],
   "source": [
    "assert np.all(np.isclose(feature_maps, y))"
   ]
  },
  {
   "cell_type": "code",
   "execution_count": null,
   "id": "breeding-wyoming",
   "metadata": {},
   "outputs": [],
   "source": []
  }
 ],
 "metadata": {
  "kernelspec": {
   "display_name": "Python 3 (ipykernel)",
   "language": "python",
   "name": "python3"
  },
  "language_info": {
   "codemirror_mode": {
    "name": "ipython",
    "version": 3
   },
   "file_extension": ".py",
   "mimetype": "text/x-python",
   "name": "python",
   "nbconvert_exporter": "python",
   "pygments_lexer": "ipython3",
   "version": "3.8.5"
  },
  "vscode": {
   "interpreter": {
    "hash": "a9eb3d55570fa83a5d0e75ab0fc9e29d7692aa2022c5c86ae3b4c36003072d28"
   }
  }
 },
 "nbformat": 4,
 "nbformat_minor": 5
}
