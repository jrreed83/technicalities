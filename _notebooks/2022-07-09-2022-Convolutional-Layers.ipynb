{
 "cells": [
  {
   "cell_type": "markdown",
   "id": "threaded-theta",
   "metadata": {},
   "source": [
    "# Convolutional Layer\n",
    "\n",
    "- toc: true\n",
    "- badges: true\n",
    "- comments: true\n",
    "- categories: [jupyter]\n",
    "- image: images/chart-preview.png\n",
    "- hide: true"
   ]
  },
  {
   "cell_type": "markdown",
   "id": "interstate-pizza",
   "metadata": {},
   "source": [
    "## Introduction\n"
   ]
  },
  {
   "cell_type": "markdown",
   "id": "stone-burke",
   "metadata": {},
   "source": [
    "## Let's Start"
   ]
  },
  {
   "cell_type": "code",
   "execution_count": 154,
   "id": "assigned-ultimate",
   "metadata": {},
   "outputs": [],
   "source": [
    "import jax \n",
    "import jax.numpy as jnp\n",
    "import numpy as np\n",
    "import matplotlib.pyplot as plt\n",
    "import tensorflow as tf\n",
    "import time \n",
    "\n",
    "from typing import Tuple, List, Any, Dict, Callable"
   ]
  },
  {
   "cell_type": "markdown",
   "id": "previous-midwest",
   "metadata": {},
   "source": [
    "### Convolutional Layers in Keras\n",
    "\n",
    "The first function argument is the number of filters and the second argument is the shape of the kernel. "
   ]
  },
  {
   "cell_type": "code",
   "execution_count": 155,
   "id": "piano-correction",
   "metadata": {},
   "outputs": [],
   "source": [
    "layer = tf.keras.layers.Conv2D(2, (2, 2), use_bias=False)"
   ]
  },
  {
   "cell_type": "markdown",
   "id": "roman-international",
   "metadata": {},
   "source": [
    "Arrays fed to `layer` must be a 4D tensor where the first axis is the batch size, the second axis is the width, the third axis is the height, and thr fourth axis is \n",
    "the number of input channels."
   ]
  },
  {
   "cell_type": "code",
   "execution_count": 90,
   "id": "boring-consultancy",
   "metadata": {},
   "outputs": [],
   "source": [
    "input_image = np.random.randn(4,4,3)"
   ]
  },
  {
   "cell_type": "markdown",
   "id": "portuguese-visibility",
   "metadata": {},
   "source": [
    "Because Keras layers operate on batches of data, and not individual examples, a batch dimension must be addes to `input_image`.  To do this in numpy, take `input_image` and add a `None` in the axis you want to add:"
   ]
  },
  {
   "cell_type": "code",
   "execution_count": 140,
   "id": "hearing-olympus",
   "metadata": {},
   "outputs": [],
   "source": [
    "input_batch = input_image[None,:,:,:]"
   ]
  },
  {
   "cell_type": "code",
   "execution_count": 141,
   "id": "alone-services",
   "metadata": {},
   "outputs": [],
   "source": [
    "feature_maps = layer(input_batch)"
   ]
  },
  {
   "cell_type": "code",
   "execution_count": 142,
   "id": "economic-cover",
   "metadata": {},
   "outputs": [
    {
     "data": {
      "text/plain": [
       "TensorShape([1, 3, 3, 2])"
      ]
     },
     "execution_count": 142,
     "metadata": {},
     "output_type": "execute_result"
    }
   ],
   "source": [
    "feature_maps.shape"
   ]
  },
  {
   "cell_type": "code",
   "execution_count": 143,
   "id": "effective-protection",
   "metadata": {},
   "outputs": [],
   "source": [
    "kernels = layer.get_weights()[0]"
   ]
  },
  {
   "cell_type": "code",
   "execution_count": 144,
   "id": "prospective-stand",
   "metadata": {},
   "outputs": [
    {
     "name": "stdout",
     "output_type": "stream",
     "text": [
      "w shape = (2, 2, 3, 2)\n"
     ]
    }
   ],
   "source": [
    "print(f'w shape = {kernels.shape}')"
   ]
  },
  {
   "cell_type": "markdown",
   "id": "historical-glance",
   "metadata": {},
   "source": []
  },
  {
   "cell_type": "code",
   "execution_count": 157,
   "id": "female-bonus",
   "metadata": {},
   "outputs": [],
   "source": [
    "def conv2d(kernel, x):\n",
    "    y = np.zeros((3,3))\n",
    "    \n",
    "    y[0,0] = np.sum(kernel * x[0:2,0:2])\n",
    "    y[0,1] = np.sum(kernel * x[0:2,1:3])\n",
    "    y[0,2] = np.sum(kernel * x[0:2,2:4])\n",
    "    y[1,0] = np.sum(kernel * x[1:3,0:2])\n",
    "    y[1,1] = np.sum(kernel * x[1:3,1:3])\n",
    "    y[1,2] = np.sum(kernel * x[1:3,2:4])\n",
    "    y[2,0] = np.sum(kernel * x[2:4,0:2])\n",
    "    y[2,1] = np.sum(kernel * x[2:4,1:3])\n",
    "    y[2,2] = np.sum(kernel * x[2:4,2:4])    \n",
    "    \n",
    "    return y"
   ]
  },
  {
   "cell_type": "code",
   "execution_count": 196,
   "id": "micro-lambda",
   "metadata": {},
   "outputs": [],
   "source": [
    "def convolve(input_image, kernels):\n",
    "    \n",
    "    output = np.zeros((1,3,3,2))\n",
    "    \n",
    "    input_0 = input_image[:,:,0]\n",
    "    input_1 = input_image[:,:,1]\n",
    "    input_2 = input_image[:,:,2]\n",
    "    \n",
    "    # Different filters for each input channel\n",
    "    w0 = kernels[:,:, 0, 0] \n",
    "    w1 = kernels[:,:, 1, 0]\n",
    "    w2 = kernels[:,:, 2, 0]\n",
    "    \n",
    "    output_00 = conv2d(w0, input_0) # Apply filter to channel 0\n",
    "    output_10 = conv2d(w1, input_1) # Apply filter to channel 1\n",
    "    output_20 = conv2d(w2, input_2) # Apply filter to channel 2\n",
    "    \n",
    "    output[0,:,:,0] = output_00 + output_10 + output_20\n",
    "    \n",
    "    # Different filters for each input channel\n",
    "    w0 = kernels[:,:, 0, 1] \n",
    "    w1 = kernels[:,:, 1, 1]\n",
    "    w2 = kernels[:,:, 2, 1]\n",
    "    \n",
    "    output_01 = conv2d(w0, input_0) # Apply filter to channel 0\n",
    "    output_11 = conv2d(w1, input_1) # Apply filter to channel 1\n",
    "    output_21 = conv2d(w2, input_2) # Apply filter to channel 2\n",
    "    \n",
    "    output[0,:,:,1] = output_01 + output_11 + output_21\n",
    "    \n",
    "    \n",
    "\n",
    "    # Add the filtered outputs from each channel\n",
    "    return output"
   ]
  },
  {
   "cell_type": "code",
   "execution_count": 197,
   "id": "reflected-closure",
   "metadata": {},
   "outputs": [],
   "source": [
    "\n",
    "y = convolve(input_image, kernels)"
   ]
  },
  {
   "cell_type": "code",
   "execution_count": 198,
   "id": "rubber-unemployment",
   "metadata": {},
   "outputs": [],
   "source": [
    "assert np.all(np.isclose(feature_maps, y))"
   ]
  },
  {
   "cell_type": "code",
   "execution_count": null,
   "id": "identified-clerk",
   "metadata": {},
   "outputs": [],
   "source": []
  }
 ],
 "metadata": {
  "kernelspec": {
   "display_name": "Python 3 (ipykernel)",
   "language": "python",
   "name": "python3"
  },
  "language_info": {
   "codemirror_mode": {
    "name": "ipython",
    "version": 3
   },
   "file_extension": ".py",
   "mimetype": "text/x-python",
   "name": "python",
   "nbconvert_exporter": "python",
   "pygments_lexer": "ipython3",
   "version": "3.8.5"
  },
  "vscode": {
   "interpreter": {
    "hash": "a9eb3d55570fa83a5d0e75ab0fc9e29d7692aa2022c5c86ae3b4c36003072d28"
   }
  }
 },
 "nbformat": 4,
 "nbformat_minor": 5
}
