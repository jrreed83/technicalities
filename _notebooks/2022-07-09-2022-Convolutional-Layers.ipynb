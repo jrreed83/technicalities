{
 "cells": [
  {
   "cell_type": "markdown",
   "id": "criminal-victorian",
   "metadata": {},
   "source": [
    "# Convolutional Layer\n",
    "\n",
    "- toc: true\n",
    "- badges: true\n",
    "- comments: true\n",
    "- categories: [jupyter]\n",
    "- image: images/chart-preview.png"
   ]
  },
  {
   "cell_type": "markdown",
   "id": "defined-alignment",
   "metadata": {},
   "source": [
    "## Introduction\n",
    "\n",
    "The purpose of this post is to check my understanding of 2D convolutional and pooling layers.  I'll use Keras to create small `Conv2D` and `MaxPool2D` layers, apply them to a randomly "
   ]
  },
  {
   "cell_type": "markdown",
   "id": "authorized-house",
   "metadata": {},
   "source": [
    "## Let's Start"
   ]
  },
  {
   "cell_type": "code",
   "execution_count": null,
   "id": "unique-positive",
   "metadata": {},
   "outputs": [],
   "source": []
  },
  {
   "cell_type": "code",
   "execution_count": 154,
   "id": "british-lightning",
   "metadata": {},
   "outputs": [],
   "source": [
    "import numpy as np\n",
    "import tensorflow as tf"
   ]
  },
  {
   "cell_type": "code",
   "execution_count": 608,
   "id": "modern-plastic",
   "metadata": {},
   "outputs": [],
   "source": [
    "model = tf.keras.models.Sequential([\n",
    "    tf.keras.layers.Conv2D(filters=2, kernel_size=(2, 2)),    \n",
    "    tf.keras.layers.MaxPool2D(pool_size=(2,2), strides=(2,2))\n",
    "])"
   ]
  },
  {
   "cell_type": "code",
   "execution_count": 633,
   "id": "representative-niagara",
   "metadata": {},
   "outputs": [
    {
     "name": "stdout",
     "output_type": "stream",
     "text": [
      "Feature Mapping:  (1, 4, 4, 3) -> (1, 1, 1, 2)\n"
     ]
    }
   ],
   "source": [
    "input_image = np.random.randn(4,4,3)\n",
    "input_batch = input_image[None,:,:,:]\n",
    "features = model(input_batch)\n",
    "print(f'Feature Mapping:  {input_batch.shape} -> {features.shape}')"
   ]
  },
  {
   "cell_type": "markdown",
   "id": "artistic-bottle",
   "metadata": {},
   "source": [
    "According to the Keras documentation, "
   ]
  },
  {
   "cell_type": "code",
   "execution_count": 647,
   "id": "favorite-arena",
   "metadata": {},
   "outputs": [],
   "source": [
    "def get_layer_outputs(model, x):\n",
    "    outputs = []\n",
    "    model_input = model.input\n",
    "    for layer in model.layers:\n",
    "        layer_model = tf.keras.Model(inputs=model_input, outputs=layer.output)\n",
    "        y = layer_model(x)\n",
    "        outputs.append(y.numpy())\n",
    "    return outputs"
   ]
  },
  {
   "cell_type": "code",
   "execution_count": 649,
   "id": "simplified-porter",
   "metadata": {},
   "outputs": [
    {
     "data": {
      "text/plain": [
       "[array([[[[ 0.5709658 , -0.9792538 ],\n",
       "          [-1.0654193 , -0.06757978],\n",
       "          [ 0.5732696 , -0.03206941]],\n",
       " \n",
       "         [[ 1.7229191 , -0.01773215],\n",
       "          [-1.194443  ,  1.0171514 ],\n",
       "          [ 0.42115533,  0.18736929]],\n",
       " \n",
       "         [[ 1.0003719 ,  0.9343733 ],\n",
       "          [-0.83191144, -0.82429725],\n",
       "          [ 1.4794707 ,  0.18596372]]]], dtype=float32),\n",
       " array([[[[1.7229191, 1.0171514]]]], dtype=float32)]"
      ]
     },
     "execution_count": 649,
     "metadata": {},
     "output_type": "execute_result"
    }
   ],
   "source": [
    "get_layer_outputs(model, input_batch)"
   ]
  },
  {
   "cell_type": "markdown",
   "id": "reduced-hacker",
   "metadata": {},
   "source": [
    "### Convolutional Layer\n",
    "\n",
    "The first function argument is the number of filters and the second argument is the shape of the kernel.  "
   ]
  },
  {
   "cell_type": "code",
   "execution_count": 571,
   "id": "chief-heaven",
   "metadata": {},
   "outputs": [],
   "source": [
    "conv_layer = tf.keras.layers.Conv2D(filters=2, kernel_size=(2, 2))"
   ]
  },
  {
   "cell_type": "markdown",
   "id": "impressed-drove",
   "metadata": {},
   "source": [
    "Arrays fed to `layer` must be a 4D tensor where the first axis is the batch size, the second axis is the width, the third axis is the height, and the fourth axis is \n",
    "the number of input channels.  Here we generate a batch containing a single $4\\times4$ array with 3-channels, pass it to `conv_layer` and look at the shape of output features."
   ]
  },
  {
   "cell_type": "code",
   "execution_count": 607,
   "id": "beneficial-laugh",
   "metadata": {},
   "outputs": [
    {
     "name": "stdout",
     "output_type": "stream",
     "text": [
      "Feature Mapping:  (1, 4, 4, 3) -> (1, 3, 3, 2)\n"
     ]
    }
   ],
   "source": [
    "input_image = np.random.randn(1,4,4,3)\n",
    "features = conv_layer(input_batch)\n",
    "print(f'Feature Mapping:  {input_image.shape} -> {features.shape}')"
   ]
  },
  {
   "cell_type": "markdown",
   "id": "western-presentation",
   "metadata": {},
   "source": [
    "This means that there's still one image in the batch, but it shrunk from $4\\times4$ to $3\\times3$.  This resizing effect occurred because unless the input is padded, convolution always reduces the input by a function of it's kernel (or filter size). Also notice that the number of channels went from 3 to 2.  In general, the number of output channels will match the `filters` argument passed in to the `Conv2D` constructor.   "
   ]
  },
  {
   "cell_type": "code",
   "execution_count": 576,
   "id": "maritime-vermont",
   "metadata": {},
   "outputs": [],
   "source": [
    "kernels, biases = conv_layer.get_weights()"
   ]
  },
  {
   "cell_type": "code",
   "execution_count": 640,
   "id": "handed-cause",
   "metadata": {},
   "outputs": [],
   "source": [
    "kernels, biases = model.layers[0].get_weights()"
   ]
  },
  {
   "cell_type": "code",
   "execution_count": 641,
   "id": "coastal-senegal",
   "metadata": {},
   "outputs": [
    {
     "name": "stdout",
     "output_type": "stream",
     "text": [
      "kernels shape = (2, 2, 3, 2), biases shape =(2,)\n"
     ]
    }
   ],
   "source": [
    "print(f'kernels shape = {kernels.shape}, biases shape ={biases.shape}')"
   ]
  },
  {
   "cell_type": "code",
   "execution_count": 585,
   "id": "driven-velvet",
   "metadata": {},
   "outputs": [],
   "source": [
    "def conv2d(x, kernel):\n",
    "    xm, xn = x.shape \n",
    "    km, kn = kernel.shape \n",
    "    \n",
    "    y = np.zeros((xm - km + 1, xn - kn + 1))\n",
    "    \n",
    "    ym, yn = y.shape\n",
    "    for i in range(ym):\n",
    "        for j in range(yn):\n",
    "            y[i, j] = np.sum(kernel * x[i:i+km, j:j+kn]) \n",
    "    \n",
    "    return y"
   ]
  },
  {
   "cell_type": "markdown",
   "id": "seasonal-thermal",
   "metadata": {},
   "source": [
    "Here's a faily inefficient way to duplicate the evaluation of the `conv_layer` defined in above.  "
   ]
  },
  {
   "cell_type": "code",
   "execution_count": 637,
   "id": "virtual-domain",
   "metadata": {},
   "outputs": [],
   "source": [
    "def convolve(input_image, kernels, biases):\n",
    "    \n",
    "    width, height, input_chans = input_image.shape \n",
    "    km, kn, _, output_chans = kernels.shape\n",
    "    \n",
    "    w = width - km + 1\n",
    "    h = height - kn + 1 \n",
    "    \n",
    "    features = np.zeros((w, h, output_chans))\n",
    "\n",
    "    for out_chan in range(output_chans):\n",
    "        y = np.zeros((w, h))\n",
    "        for in_chan in range(input_chans):\n",
    "            y += conv2d(\n",
    "                input_image[:,:,in_chan],\n",
    "                kernels[:,:,in_chan, out_chan], \n",
    "            )\n",
    "        \n",
    "        # one bias per output feature\n",
    "        features[:,:,out_chan] = y + biases[out_chan]\n",
    "    \n",
    "    return features"
   ]
  },
  {
   "cell_type": "code",
   "execution_count": 642,
   "id": "textile-russian",
   "metadata": {},
   "outputs": [],
   "source": [
    "features_ = convolve(input_image, kernels, biases)[None,:,:,:]"
   ]
  },
  {
   "cell_type": "code",
   "execution_count": 643,
   "id": "hairy-telephone",
   "metadata": {},
   "outputs": [
    {
     "data": {
      "text/plain": [
       "array([[[[ 0.57096572, -0.97925384],\n",
       "         [-1.06541922, -0.0675798 ],\n",
       "         [ 0.57326961, -0.03206957]],\n",
       "\n",
       "        [[ 1.72291908, -0.01773216],\n",
       "         [-1.19444309,  1.01715131],\n",
       "         [ 0.42115538,  0.18736924]],\n",
       "\n",
       "        [[ 1.00037184,  0.93437332],\n",
       "         [-0.83191143, -0.82429726],\n",
       "         [ 1.47947074,  0.18596377]]]])"
      ]
     },
     "execution_count": 643,
     "metadata": {},
     "output_type": "execute_result"
    }
   ],
   "source": [
    "features_"
   ]
  },
  {
   "cell_type": "code",
   "execution_count": 592,
   "id": "positive-prague",
   "metadata": {},
   "outputs": [],
   "source": [
    "assert np.all(np.isclose(feature_maps, features_))"
   ]
  },
  {
   "cell_type": "markdown",
   "id": "insured-premiere",
   "metadata": {},
   "source": [
    "## Max Pooling"
   ]
  },
  {
   "cell_type": "code",
   "execution_count": 593,
   "id": "pressed-gentleman",
   "metadata": {},
   "outputs": [],
   "source": [
    "pooling_layer = tf.keras.layers.MaxPool2D(pool_size=(2,2), strides=(2,2))"
   ]
  },
  {
   "cell_type": "code",
   "execution_count": 594,
   "id": "impaired-updating",
   "metadata": {},
   "outputs": [
    {
     "name": "stdout",
     "output_type": "stream",
     "text": [
      "(1, 3, 3, 2) -> (1, 1, 1, 2)\n"
     ]
    }
   ],
   "source": [
    "yy = pooling_layer(feature_maps)\n",
    "print(f'{feature_maps.shape} -> {yy.shape}')"
   ]
  },
  {
   "cell_type": "code",
   "execution_count": 540,
   "id": "cosmetic-theorem",
   "metadata": {},
   "outputs": [
    {
     "data": {
      "text/plain": [
       "<tf.Tensor: shape=(1, 1, 1, 2), dtype=float32, numpy=array([[[[0.9654248, 1.2988867]]]], dtype=float32)>"
      ]
     },
     "execution_count": 540,
     "metadata": {},
     "output_type": "execute_result"
    }
   ],
   "source": [
    "yy"
   ]
  },
  {
   "cell_type": "code",
   "execution_count": 274,
   "id": "surprising-siemens",
   "metadata": {},
   "outputs": [
    {
     "name": "stdout",
     "output_type": "stream",
     "text": [
      "tf.Tensor(\n",
      "[[[[ 0.89900464 -1.0616233 ]\n",
      "   [-0.10247962  1.2988867 ]\n",
      "   [-0.8515937   0.6712394 ]]\n",
      "\n",
      "  [[ 0.9654248   0.23607667]\n",
      "   [-0.43404913  0.27193436]\n",
      "   [-0.5712364  -0.73882663]]\n",
      "\n",
      "  [[ 0.6847748  -0.8419535 ]\n",
      "   [ 0.46285468  0.7197448 ]\n",
      "   [-1.3353215   0.47066653]]]], shape=(1, 3, 3, 2), dtype=float32)\n"
     ]
    }
   ],
   "source": [
    "print(feature_maps)"
   ]
  },
  {
   "cell_type": "code",
   "execution_count": 275,
   "id": "animal-gambling",
   "metadata": {},
   "outputs": [
    {
     "name": "stdout",
     "output_type": "stream",
     "text": [
      "tf.Tensor(\n",
      "[[[[ 0.9654248   1.2988867 ]\n",
      "   [-0.10247962  1.2988867 ]]\n",
      "\n",
      "  [[ 0.9654248   0.7197448 ]\n",
      "   [ 0.46285468  0.7197448 ]]]], shape=(1, 2, 2, 2), dtype=float32)\n"
     ]
    }
   ],
   "source": [
    "print(yy)"
   ]
  },
  {
   "cell_type": "code",
   "execution_count": 279,
   "id": "under-platform",
   "metadata": {},
   "outputs": [
    {
     "name": "stdout",
     "output_type": "stream",
     "text": [
      "tf.Tensor(\n",
      "[[-1.0616233   1.2988867   0.6712394 ]\n",
      " [ 0.23607667  0.27193436 -0.73882663]\n",
      " [-0.8419535   0.7197448   0.47066653]], shape=(3, 3), dtype=float32)\n"
     ]
    }
   ],
   "source": [
    "print(feature_maps[0,:,:,1])"
   ]
  },
  {
   "cell_type": "code",
   "execution_count": 280,
   "id": "black-starter",
   "metadata": {},
   "outputs": [
    {
     "data": {
      "text/plain": [
       "<tf.Tensor: shape=(2, 2), dtype=float32, numpy=\n",
       "array([[1.2988867, 1.2988867],\n",
       "       [0.7197448, 0.7197448]], dtype=float32)>"
      ]
     },
     "execution_count": 280,
     "metadata": {},
     "output_type": "execute_result"
    }
   ],
   "source": [
    "yy[0,:,:,1]"
   ]
  },
  {
   "cell_type": "code",
   "execution_count": 304,
   "id": "photographic-airfare",
   "metadata": {},
   "outputs": [
    {
     "data": {
      "text/plain": [
       "(1, 4, 4, 3)"
      ]
     },
     "execution_count": 304,
     "metadata": {},
     "output_type": "execute_result"
    }
   ],
   "source": [
    "input_batch.shape"
   ]
  },
  {
   "cell_type": "code",
   "execution_count": 365,
   "id": "attempted-processor",
   "metadata": {},
   "outputs": [
    {
     "data": {
      "text/plain": [
       "[0, 2, 4, 6, 8]"
      ]
     },
     "execution_count": 365,
     "metadata": {},
     "output_type": "execute_result"
    }
   ],
   "source": [
    "list(range(0,10,2))"
   ]
  },
  {
   "cell_type": "code",
   "execution_count": 563,
   "id": "hollywood-sister",
   "metadata": {},
   "outputs": [],
   "source": [
    "def pool2D(x, pool_size=(2,2), strides=(1,1), fn=np.max):\n",
    "    xm, xn = x.shape \n",
    "    pm, pn = pool_size \n",
    "    sm, sn = strides\n",
    "    \n",
    "    ym, yn = (xm-pm+1) // sm, (xn-pn+1) // sn\n",
    "\n",
    "    y = np.zeros((ym, yn))\n",
    "    \n",
    "    ii = 0\n",
    "    for i in range(0, xm-pm+1, sm):\n",
    "        jj = 0\n",
    "        for j in range(0, xn-pn+1, sn):\n",
    "            y[ii,jj] = fn(x[i:i+pm,j:j+pn])\n",
    "            jj += 1\n",
    "        ii += 1\n",
    "    return y"
   ]
  },
  {
   "cell_type": "code",
   "execution_count": 595,
   "id": "laden-speech",
   "metadata": {},
   "outputs": [],
   "source": [
    "#def pool2D_(x, pool_size=(2,2), strides=(1,1)):\n",
    "##    xm, xn = x.shape \n",
    "#    pm, pn = pool_size \n",
    "#    sm, sn = strides\n",
    "#    \n",
    "#    y = np.zeros((xm - pm + 1, xn - pn + 1))\n",
    "#    \n",
    "#    ym, yn = y.shape\n",
    "#    \n",
    "#    for i in range(0, ym):\n",
    "#        for j in range(0, yn):\n",
    "#            y[i,j] = np.max(x[i:i+pm,j:j+pn])\n",
    "#    \n",
    "#    return y"
   ]
  },
  {
   "cell_type": "code",
   "execution_count": 596,
   "id": "sexual-democracy",
   "metadata": {},
   "outputs": [
    {
     "name": "stdout",
     "output_type": "stream",
     "text": [
      "[[-0.36715236  0.09317793]\n",
      " [-0.36715236 -0.06301992]]\n",
      "[[0.98810509]]\n",
      "[[-0.92430295 -0.55469247 -0.59627284]\n",
      " [ 0.98810509 -0.64934654  0.29590853]\n",
      " [ 1.21270553  0.98248372 -0.38071894]]\n"
     ]
    }
   ],
   "source": [
    "x = np.random.randn(3,3)\n",
    "b = pool2D(x, strides=(2,2))\n",
    "print(a)\n",
    "print(b)\n",
    "print(x)"
   ]
  },
  {
   "cell_type": "code",
   "execution_count": 597,
   "id": "weighted-ozone",
   "metadata": {},
   "outputs": [],
   "source": [
    "def pooling(features, pool_size=(2,2), strides=(2,2)):\n",
    "    \n",
    "    px, py = pool_size\n",
    "    sm, sn = strides\n",
    "    width, height, chans = features.shape \n",
    "    \n",
    "    m, n = (width - px + 1) // sm, (height - py + 1) // sn\n",
    "    \n",
    "    features_ = np.zeros((m, n, chans))\n",
    "\n",
    "    # Note that we're not changing the number of features\n",
    "    for chan in range(chans):\n",
    "        features_[:,:,chan] = pool2D(features[:,:,chan], pool_size, strides)\n",
    "    \n",
    "    return features_"
   ]
  },
  {
   "cell_type": "code",
   "execution_count": 598,
   "id": "boxed-reach",
   "metadata": {},
   "outputs": [
    {
     "data": {
      "text/plain": [
       "array([[[ 1.3011235 , -0.24245605]]])"
      ]
     },
     "execution_count": 598,
     "metadata": {},
     "output_type": "execute_result"
    }
   ],
   "source": [
    "pooling(feature_maps[0,:,:,:])"
   ]
  },
  {
   "cell_type": "code",
   "execution_count": null,
   "id": "eight-muslim",
   "metadata": {},
   "outputs": [],
   "source": []
  },
  {
   "cell_type": "code",
   "execution_count": null,
   "id": "collective-dressing",
   "metadata": {},
   "outputs": [],
   "source": []
  }
 ],
 "metadata": {
  "kernelspec": {
   "display_name": "Python 3 (ipykernel)",
   "language": "python",
   "name": "python3"
  },
  "language_info": {
   "codemirror_mode": {
    "name": "ipython",
    "version": 3
   },
   "file_extension": ".py",
   "mimetype": "text/x-python",
   "name": "python",
   "nbconvert_exporter": "python",
   "pygments_lexer": "ipython3",
   "version": "3.8.5"
  },
  "vscode": {
   "interpreter": {
    "hash": "a9eb3d55570fa83a5d0e75ab0fc9e29d7692aa2022c5c86ae3b4c36003072d28"
   }
  }
 },
 "nbformat": 4,
 "nbformat_minor": 5
}
