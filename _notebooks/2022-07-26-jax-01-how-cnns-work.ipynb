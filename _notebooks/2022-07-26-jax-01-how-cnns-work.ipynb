{
 "cells": [
  {
   "cell_type": "markdown",
   "id": "vocational-locking",
   "metadata": {},
   "source": [
    "# Checking Understanding of Convolutional and Pooling Layers\n",
    "\n",
    "- toc: true\n",
    "- badges: true\n",
    "- comments: false\n",
    "- categories: [jax, convolution, pooling]\n",
    "- hide: true"
   ]
  },
  {
   "cell_type": "markdown",
   "id": "noted-incidence",
   "metadata": {},
   "source": [
    "## Introduction\n",
    "\n",
    "The purpose of this post is to make sure I understand how convolutional and pooling layers work.  Once again, I'll use Keras to double check all my work. "
   ]
  },
  {
   "cell_type": "markdown",
   "id": "wanted-dispute",
   "metadata": {},
   "source": [
    "## Import Libraries"
   ]
  },
  {
   "cell_type": "code",
   "execution_count": 23,
   "id": "electoral-chapter",
   "metadata": {},
   "outputs": [],
   "source": [
    "import jax.numpy as jnp\n",
    "import numpy as np\n",
    "import tensorflow as tf\n",
    "import pandas as pd"
   ]
  },
  {
   "cell_type": "markdown",
   "id": "induced-class",
   "metadata": {},
   "source": [
    "Here's a small sequential model consisting of a convolutional layer and max-pooling layer."
   ]
  },
  {
   "cell_type": "code",
   "execution_count": 73,
   "id": "motivated-studio",
   "metadata": {},
   "outputs": [],
   "source": [
    "model = tf.keras.models.Sequential([\n",
    "    tf.keras.layers.Conv2D(filters=4, kernel_size=(2, 2), strides=(2,2)),    \n",
    "    tf.keras.layers.MaxPool2D(pool_size=(2,2), strides=(2,2))\n",
    "])"
   ]
  },
  {
   "cell_type": "markdown",
   "id": "plain-exhaust",
   "metadata": {},
   "source": [
    "For this experiment, I don't care what the model input is.  So I'll apply `model` to a 1-element batch consisting of a random 28-by-28 array with 3 channels.  As you can see, `outputs` is a 1-element batch consisting of a 7-by-7 array with 4 channels.  We definitely don't want `model` to change the number of items in the batch, so the fact that the first-dimension (which is the batch dimension) for `inputs` and `outputs` is 1 make sense."
   ]
  },
  {
   "cell_type": "code",
   "execution_count": 84,
   "id": "recreational-exhibition",
   "metadata": {},
   "outputs": [
    {
     "name": "stdout",
     "output_type": "stream",
     "text": [
      "Feature Mapping:  (1, 28, 28, 3) -> (1, 7, 7, 4)\n"
     ]
    }
   ],
   "source": [
    "inputs = np.random.randn(1,28,28,3)\n",
    "outputs = model(inputs)\n",
    "print(f'Feature Mapping:  {inputs.shape} -> {outputs.shape}')"
   ]
  },
  {
   "cell_type": "markdown",
   "id": "numerous-carter",
   "metadata": {},
   "source": [
    "We definitely don't want `model` to change the number of items in the batch, so the fact that the first-dimension (which is the batch dimension) for `inputs` and `outputs` is 1 make sense.  It also makes sense that the number of channels in `outputs` should be 4.  The `filters=4` argument in `Conv2D` means that no matter how large or small the input is, `Conv2D` will generate a feature map with 4 channels.  We'll see how this works in more detail later on.  "
   ]
  },
  {
   "cell_type": "markdown",
   "id": "smooth-block",
   "metadata": {},
   "source": [
    "The `inputs` array consists of a single 28-by-28 3-channel array, with an additional axis to make it a batch.  We have to do this because models in Keras operate over batches and not single examples.  Because `Conv2D` uses 4 filters, and `MaxPool2D` preserves the number of channels, the `outputs` also has 4 channels.  "
   ]
  },
  {
   "cell_type": "markdown",
   "id": "steady-minister",
   "metadata": {},
   "source": [
    "This is the recommended way to get the features from all layers in the model: basically use Keras' functional API to build a model that returns the outputs from each layer, given an input batch.  "
   ]
  },
  {
   "cell_type": "code",
   "execution_count": 26,
   "id": "critical-amplifier",
   "metadata": {},
   "outputs": [],
   "source": [
    "outputs = [layer.output for layer in model.layers]\n",
    "layer_output_model = tf.keras.Model(inputs=model.input, outputs=outputs)\n",
    "keras_features = layer_output_model(inputs)"
   ]
  },
  {
   "cell_type": "markdown",
   "id": "constitutional-invitation",
   "metadata": {},
   "source": [
    "Because `model` has two layers, the `keras_features` array has two elements.  Here are the shapes of each:"
   ]
  },
  {
   "cell_type": "code",
   "execution_count": 27,
   "id": "internal-values",
   "metadata": {},
   "outputs": [
    {
     "name": "stdout",
     "output_type": "stream",
     "text": [
      "Conv2D output shape = (1, 14, 14, 4)\n",
      "MaxPool2D output shape = (1, 7, 7, 4)\n"
     ]
    }
   ],
   "source": [
    "print(f'Conv2D output shape = {keras_features[0].shape}')\n",
    "print(f'MaxPool2D output shape = {keras_features[1].shape}')"
   ]
  },
  {
   "cell_type": "code",
   "execution_count": 75,
   "id": "egyptian-pharmaceutical",
   "metadata": {},
   "outputs": [
    {
     "name": "stdout",
     "output_type": "stream",
     "text": [
      "kernels shape = (2, 2, 3, 4), biases shape = (4,)\n"
     ]
    }
   ],
   "source": [
    "kernels, biases = model.layers[0].get_weights()\n",
    "print(f'kernels shape = {kernels.shape}, biases shape = {biases.shape}')"
   ]
  },
  {
   "cell_type": "markdown",
   "id": "generous-values",
   "metadata": {},
   "source": [
    "Here's a faily inefficient way to duplicate the evaluation of the `conv_layer` defined in above.  "
   ]
  },
  {
   "cell_type": "code",
   "execution_count": 29,
   "id": "passive-royal",
   "metadata": {},
   "outputs": [],
   "source": [
    "def conv2d(x, kernel, strides):\n",
    "    xm, xn, _ = x.shape \n",
    "    km, kn, _ = kernel.shape \n",
    "    \n",
    "    sm, sn = strides\n",
    "    ym, yn = 1 + ((xm - km + 1)//sm), 1 + ((xn - kn + 1)//sn)\n",
    "    \n",
    "    y = np.zeros(ym*yn)\n",
    "    k = 0\n",
    "    for i in range(0, xm-km+1, sm):\n",
    "        for j in range(0, xn-kn+1, sn):\n",
    "            y[k] = np.sum(kernel * x[i:i+km,j:j+kn,:])\n",
    "            k += 1\n",
    "            \n",
    "    return np.reshape(y, (ym, yn))"
   ]
  },
  {
   "cell_type": "code",
   "execution_count": 69,
   "id": "final-sweet",
   "metadata": {},
   "outputs": [],
   "source": [
    "class MyConv2D:\n",
    "    def __init__(self, w, b, strides):\n",
    "        self.w = w\n",
    "        self.b = b \n",
    "        self.strides = strides \n",
    "        \n",
    "    def __call__(self, inputs):\n",
    "        biases, kernels, strides = self.b, self.w, self.strides\n",
    "        \n",
    "        num_output_channels = len(biases)\n",
    "        \n",
    "        # only convolving a single output...\n",
    "        inputs = inputs[0,...]\n",
    "        \n",
    "        # Get the list of output feature maps\n",
    "        outputs = [conv2d(inputs, kernels[...,i], strides) + biases[i] for i in range(num_output_channels)]\n",
    "        \n",
    "        # horizontally stacking the 2D images\n",
    "        outputs = np.stack(outputs, axis=-1) \n",
    "        \n",
    "        # Add the batch dimension to match keras \n",
    "        outputs = outputs[np.newaxis,...]\n",
    "         \n",
    "        return outputs\n",
    "        "
   ]
  },
  {
   "cell_type": "code",
   "execution_count": 79,
   "id": "favorite-peripheral",
   "metadata": {},
   "outputs": [
    {
     "data": {
      "text/plain": [
       "2"
      ]
     },
     "execution_count": 79,
     "metadata": {},
     "output_type": "execute_result"
    }
   ],
   "source": [
    "len(model.layers[0].get_weights())"
   ]
  },
  {
   "cell_type": "code",
   "execution_count": 66,
   "id": "thirty-seven",
   "metadata": {},
   "outputs": [],
   "source": [
    "my_layer = MyConv2D(kernels, biases, strides=model.layers[0].strides)\n",
    "my_conv_features = my_layer(inputs)"
   ]
  },
  {
   "cell_type": "code",
   "execution_count": 67,
   "id": "rational-pleasure",
   "metadata": {},
   "outputs": [],
   "source": [
    "assert np.all(np.isclose(keras_features[0], my_conv_features, atol=1e-6))"
   ]
  },
  {
   "cell_type": "markdown",
   "id": "hearing-hawaii",
   "metadata": {},
   "source": [
    "## Pooling"
   ]
  },
  {
   "cell_type": "code",
   "execution_count": 593,
   "id": "appreciated-windows",
   "metadata": {},
   "outputs": [],
   "source": [
    "pooling_layer = tf.keras.layers.MaxPool2D(pool_size=(2,2), strides=(2,2))"
   ]
  },
  {
   "cell_type": "code",
   "execution_count": 594,
   "id": "romance-cheat",
   "metadata": {},
   "outputs": [
    {
     "name": "stdout",
     "output_type": "stream",
     "text": [
      "(1, 3, 3, 2) -> (1, 1, 1, 2)\n"
     ]
    }
   ],
   "source": [
    "yy = pooling_layer(feature_maps)\n",
    "print(f'{feature_maps.shape} -> {yy.shape}')"
   ]
  },
  {
   "cell_type": "code",
   "execution_count": 540,
   "id": "maritime-situation",
   "metadata": {},
   "outputs": [
    {
     "data": {
      "text/plain": [
       "<tf.Tensor: shape=(1, 1, 1, 2), dtype=float32, numpy=array([[[[0.9654248, 1.2988867]]]], dtype=float32)>"
      ]
     },
     "execution_count": 540,
     "metadata": {},
     "output_type": "execute_result"
    }
   ],
   "source": [
    "yy"
   ]
  },
  {
   "cell_type": "code",
   "execution_count": 274,
   "id": "labeled-preserve",
   "metadata": {},
   "outputs": [
    {
     "name": "stdout",
     "output_type": "stream",
     "text": [
      "tf.Tensor(\n",
      "[[[[ 0.89900464 -1.0616233 ]\n",
      "   [-0.10247962  1.2988867 ]\n",
      "   [-0.8515937   0.6712394 ]]\n",
      "\n",
      "  [[ 0.9654248   0.23607667]\n",
      "   [-0.43404913  0.27193436]\n",
      "   [-0.5712364  -0.73882663]]\n",
      "\n",
      "  [[ 0.6847748  -0.8419535 ]\n",
      "   [ 0.46285468  0.7197448 ]\n",
      "   [-1.3353215   0.47066653]]]], shape=(1, 3, 3, 2), dtype=float32)\n"
     ]
    }
   ],
   "source": [
    "print(feature_maps)"
   ]
  },
  {
   "cell_type": "code",
   "execution_count": 275,
   "id": "indoor-senior",
   "metadata": {},
   "outputs": [
    {
     "name": "stdout",
     "output_type": "stream",
     "text": [
      "tf.Tensor(\n",
      "[[[[ 0.9654248   1.2988867 ]\n",
      "   [-0.10247962  1.2988867 ]]\n",
      "\n",
      "  [[ 0.9654248   0.7197448 ]\n",
      "   [ 0.46285468  0.7197448 ]]]], shape=(1, 2, 2, 2), dtype=float32)\n"
     ]
    }
   ],
   "source": [
    "print(yy)"
   ]
  },
  {
   "cell_type": "code",
   "execution_count": 279,
   "id": "super-missouri",
   "metadata": {},
   "outputs": [
    {
     "name": "stdout",
     "output_type": "stream",
     "text": [
      "tf.Tensor(\n",
      "[[-1.0616233   1.2988867   0.6712394 ]\n",
      " [ 0.23607667  0.27193436 -0.73882663]\n",
      " [-0.8419535   0.7197448   0.47066653]], shape=(3, 3), dtype=float32)\n"
     ]
    }
   ],
   "source": [
    "print(feature_maps[0,:,:,1])"
   ]
  },
  {
   "cell_type": "code",
   "execution_count": 280,
   "id": "disciplinary-friendly",
   "metadata": {},
   "outputs": [
    {
     "data": {
      "text/plain": [
       "<tf.Tensor: shape=(2, 2), dtype=float32, numpy=\n",
       "array([[1.2988867, 1.2988867],\n",
       "       [0.7197448, 0.7197448]], dtype=float32)>"
      ]
     },
     "execution_count": 280,
     "metadata": {},
     "output_type": "execute_result"
    }
   ],
   "source": [
    "yy[0,:,:,1]"
   ]
  },
  {
   "cell_type": "code",
   "execution_count": 304,
   "id": "naughty-peninsula",
   "metadata": {},
   "outputs": [
    {
     "data": {
      "text/plain": [
       "(1, 4, 4, 3)"
      ]
     },
     "execution_count": 304,
     "metadata": {},
     "output_type": "execute_result"
    }
   ],
   "source": [
    "input_batch.shape"
   ]
  },
  {
   "cell_type": "code",
   "execution_count": 365,
   "id": "pregnant-python",
   "metadata": {},
   "outputs": [
    {
     "data": {
      "text/plain": [
       "[0, 2, 4, 6, 8]"
      ]
     },
     "execution_count": 365,
     "metadata": {},
     "output_type": "execute_result"
    }
   ],
   "source": [
    "list(range(0,10,2))"
   ]
  },
  {
   "cell_type": "code",
   "execution_count": 684,
   "id": "ecological-activity",
   "metadata": {},
   "outputs": [
    {
     "data": {
      "text/plain": [
       "array([0., 0., 0.])"
      ]
     },
     "execution_count": 684,
     "metadata": {},
     "output_type": "execute_result"
    }
   ],
   "source": [
    "v = np.zeros((3,3))\n",
    "v[0]"
   ]
  },
  {
   "cell_type": "code",
   "execution_count": 80,
   "id": "boolean-report",
   "metadata": {},
   "outputs": [],
   "source": [
    "def pool2D(x, pool_size=(2,2), strides=(1,1), fn=np.max):\n",
    "    xm, xn = x.shape \n",
    "    pm, pn = pool_size \n",
    "    sm, sn = strides\n",
    "    \n",
    "    ym, yn = 1 + (xm-pm+1) // sm, 1 + (xn-pn+1) // sn\n",
    "\n",
    "    y = np.zeros((ym, yn))\n",
    "    \n",
    "    ii = 0\n",
    "    for i in range(0, xm-pm+1, sm):\n",
    "        jj = 0\n",
    "        for j in range(0, xn-pn+1, sn):\n",
    "            y[ii,jj] = fn(x[i:i+pm,j:j+pn])\n",
    "            jj += 1\n",
    "        ii += 1\n",
    "    return y"
   ]
  },
  {
   "cell_type": "code",
   "execution_count": 81,
   "id": "martial-quantity",
   "metadata": {},
   "outputs": [
    {
     "ename": "NameError",
     "evalue": "name 'a' is not defined",
     "output_type": "error",
     "traceback": [
      "\u001b[0;31m---------------------------------------------------------------------------\u001b[0m",
      "\u001b[0;31mNameError\u001b[0m                                 Traceback (most recent call last)",
      "\u001b[0;32m/tmp/ipykernel_243202/2927589611.py\u001b[0m in \u001b[0;36m<module>\u001b[0;34m\u001b[0m\n\u001b[1;32m      1\u001b[0m \u001b[0mx\u001b[0m \u001b[0;34m=\u001b[0m \u001b[0mnp\u001b[0m\u001b[0;34m.\u001b[0m\u001b[0mrandom\u001b[0m\u001b[0;34m.\u001b[0m\u001b[0mrandn\u001b[0m\u001b[0;34m(\u001b[0m\u001b[0;36m3\u001b[0m\u001b[0;34m,\u001b[0m\u001b[0;36m3\u001b[0m\u001b[0;34m)\u001b[0m\u001b[0;34m\u001b[0m\u001b[0;34m\u001b[0m\u001b[0m\n\u001b[1;32m      2\u001b[0m \u001b[0mb\u001b[0m \u001b[0;34m=\u001b[0m \u001b[0mpool2D\u001b[0m\u001b[0;34m(\u001b[0m\u001b[0mx\u001b[0m\u001b[0;34m,\u001b[0m \u001b[0mstrides\u001b[0m\u001b[0;34m=\u001b[0m\u001b[0;34m(\u001b[0m\u001b[0;36m2\u001b[0m\u001b[0;34m,\u001b[0m\u001b[0;36m2\u001b[0m\u001b[0;34m)\u001b[0m\u001b[0;34m)\u001b[0m\u001b[0;34m\u001b[0m\u001b[0;34m\u001b[0m\u001b[0m\n\u001b[0;32m----> 3\u001b[0;31m \u001b[0mprint\u001b[0m\u001b[0;34m(\u001b[0m\u001b[0ma\u001b[0m\u001b[0;34m)\u001b[0m\u001b[0;34m\u001b[0m\u001b[0;34m\u001b[0m\u001b[0m\n\u001b[0m\u001b[1;32m      4\u001b[0m \u001b[0mprint\u001b[0m\u001b[0;34m(\u001b[0m\u001b[0mb\u001b[0m\u001b[0;34m)\u001b[0m\u001b[0;34m\u001b[0m\u001b[0;34m\u001b[0m\u001b[0m\n\u001b[1;32m      5\u001b[0m \u001b[0mprint\u001b[0m\u001b[0;34m(\u001b[0m\u001b[0mx\u001b[0m\u001b[0;34m)\u001b[0m\u001b[0;34m\u001b[0m\u001b[0;34m\u001b[0m\u001b[0m\n",
      "\u001b[0;31mNameError\u001b[0m: name 'a' is not defined"
     ]
    }
   ],
   "source": [
    "x = np.random.randn(3,3)\n",
    "b = pool2D(x, strides=(2,2))\n",
    "print(a)\n",
    "print(b)\n",
    "print(x)"
   ]
  },
  {
   "cell_type": "code",
   "execution_count": 82,
   "id": "chinese-upper",
   "metadata": {},
   "outputs": [],
   "source": [
    "def pooling(features, pool_size=(2,2), strides=(2,2)):\n",
    "    \n",
    "    px, py = pool_size\n",
    "    sm, sn = strides\n",
    "    width, height, chans = features.shape \n",
    "    \n",
    "    m, n = (width - px + 1) // sm, (height - py + 1) // sn\n",
    "    \n",
    "    features_ = np.zeros((m, n, chans))\n",
    "\n",
    "    # Note that we're not changing the number of features\n",
    "    for chan in range(chans):\n",
    "        features_[:,:,chan] = pool2D(features[:,:,chan], pool_size, strides)\n",
    "    \n",
    "    return features_"
   ]
  },
  {
   "cell_type": "code",
   "execution_count": 598,
   "id": "exceptional-dubai",
   "metadata": {},
   "outputs": [
    {
     "data": {
      "text/plain": [
       "array([[[ 1.3011235 , -0.24245605]]])"
      ]
     },
     "execution_count": 598,
     "metadata": {},
     "output_type": "execute_result"
    }
   ],
   "source": [
    "pooling(feature_maps[0,:,:,:])"
   ]
  },
  {
   "cell_type": "code",
   "execution_count": 249,
   "id": "spare-influence",
   "metadata": {},
   "outputs": [
    {
     "data": {
      "text/plain": [
       "(10, 10, 2)"
      ]
     },
     "execution_count": 249,
     "metadata": {},
     "output_type": "execute_result"
    }
   ],
   "source": [
    "np.stack([np.random.randn(10,10), np.random.randn(10,10)], axis=-1).shape"
   ]
  },
  {
   "cell_type": "code",
   "execution_count": null,
   "id": "bronze-stevens",
   "metadata": {},
   "outputs": [],
   "source": []
  }
 ],
 "metadata": {
  "kernelspec": {
   "display_name": "Python 3 (ipykernel)",
   "language": "python",
   "name": "python3"
  },
  "language_info": {
   "codemirror_mode": {
    "name": "ipython",
    "version": 3
   },
   "file_extension": ".py",
   "mimetype": "text/x-python",
   "name": "python",
   "nbconvert_exporter": "python",
   "pygments_lexer": "ipython3",
   "version": "3.8.5"
  },
  "vscode": {
   "interpreter": {
    "hash": "a9eb3d55570fa83a5d0e75ab0fc9e29d7692aa2022c5c86ae3b4c36003072d28"
   }
  }
 },
 "nbformat": 4,
 "nbformat_minor": 5
}
