{
 "cells": [
  {
   "cell_type": "markdown",
   "id": "talented-money",
   "metadata": {},
   "source": [
    "# Checking Understanding of Convolutional and Pooling Layers\n",
    "\n",
    "- toc: true\n",
    "- badges: true\n",
    "- comments: false\n",
    "- categories: [jax, convolution, pooling]\n",
    "- hide: true"
   ]
  },
  {
   "cell_type": "markdown",
   "id": "charged-magic",
   "metadata": {},
   "source": [
    "## Introduction\n",
    "\n",
    "The purpose of this post is to make sure I understand how convolutional and pooling layers work.  Once again, I'll use Keras to double check all my work. "
   ]
  },
  {
   "cell_type": "markdown",
   "id": "fallen-medicare",
   "metadata": {},
   "source": [
    "## Import Libraries"
   ]
  },
  {
   "cell_type": "code",
   "execution_count": 264,
   "id": "limiting-hypothetical",
   "metadata": {},
   "outputs": [],
   "source": [
    "import jax\n",
    "import jax.numpy as jnp\n",
    "import numpy as np\n",
    "import tensorflow as tf\n",
    "import pandas as pd"
   ]
  },
  {
   "cell_type": "markdown",
   "id": "cubic-crown",
   "metadata": {},
   "source": [
    "Here's a small sequential model consisting of a convolutional layer and max-pooling layer."
   ]
  },
  {
   "cell_type": "code",
   "execution_count": 265,
   "id": "front-warren",
   "metadata": {},
   "outputs": [],
   "source": [
    "model = tf.keras.models.Sequential([\n",
    "    tf.keras.layers.Conv2D(filters=4, kernel_size=(2, 2), strides=(2,2), padding='VALID'),    \n",
    "    tf.keras.layers.MaxPool2D(pool_size=(2,2), strides=(2,2))\n",
    "])"
   ]
  },
  {
   "cell_type": "markdown",
   "id": "national-english",
   "metadata": {},
   "source": [
    "For this experiment, I don't care what the model input is.  So I'll apply `model` to a 1-element batch consisting of a random 28-by-28 array with 3 channels.  As you can see, `outputs` is a 1-element batch consisting of a 7-by-7 array with 4 channels. Here's a little table comparing the shape of `inputs` and `outputs`."
   ]
  },
  {
   "cell_type": "code",
   "execution_count": 266,
   "id": "adjustable-intro",
   "metadata": {},
   "outputs": [
    {
     "name": "stdout",
     "output_type": "stream",
     "text": [
      "Feature Mapping:  (1, 28, 28, 3) -> (1, 7, 7, 4)\n"
     ]
    }
   ],
   "source": [
    "inputs = np.random.randn(1,28,28,3)\n",
    "outputs = model(inputs)\n",
    "\n",
    "print(f'Feature Mapping:  {inputs.shape} -> {outputs.shape}')"
   ]
  },
  {
   "cell_type": "markdown",
   "id": "underlying-breathing",
   "metadata": {},
   "source": [
    "Getting the pooling layer output is easy; it's the same as `outputs`.  However, it's not immediately obvious how to get the intermediate convolution output. The recommended way to extract the outputs from all the layers in your model is to use the so-called *Functional* API.  "
   ]
  },
  {
   "cell_type": "code",
   "execution_count": 214,
   "id": "actual-funeral",
   "metadata": {},
   "outputs": [],
   "source": [
    "outputs = [layer.output for layer in model.layers]\n",
    "layer_output_model = tf.keras.Model(inputs=model.input, outputs=outputs)\n",
    "keras_features = layer_output_model(inputs)"
   ]
  },
  {
   "cell_type": "code",
   "execution_count": 215,
   "id": "auburn-stopping",
   "metadata": {},
   "outputs": [
    {
     "name": "stdout",
     "output_type": "stream",
     "text": [
      "kernels shape = (2, 2, 3, 4), biases shape = (4,)\n"
     ]
    }
   ],
   "source": [
    "kernels, biases = model.layers[0].get_weights()\n",
    "print(f'kernels shape = {kernels.shape}, biases shape = {biases.shape}')"
   ]
  },
  {
   "cell_type": "markdown",
   "id": "alpine-chess",
   "metadata": {},
   "source": [
    "Here's a faily inefficient way to duplicate the evaluation of the `conv_layer` defined in above.  "
   ]
  },
  {
   "cell_type": "markdown",
   "id": "annual-development",
   "metadata": {},
   "source": [
    "## Convolutional Layer\n",
    "\n",
    "Convolution is essentially a rolling dot-product, and this is exactly how the implementation below works.  For now, `conv2d` is a function of a single, multi-channel image `x`, `kernel` is one of the output filters, and `strides` is a pair of integers defining the number of vertical and horizontal positions   \n",
    "\n",
    "I don't have a good technical reason for making the output array `y` one dimensional and reshaping at the end; it just looks cleaner than the alternatives."
   ]
  },
  {
   "cell_type": "code",
   "execution_count": 216,
   "id": "worldwide-democrat",
   "metadata": {},
   "outputs": [],
   "source": [
    "def conv2d(x, kernel, strides):\n",
    "    xm, xn, _ = x.shape \n",
    "    km, kn, _ = kernel.shape \n",
    "    \n",
    "    sm, sn = strides\n",
    "    ym, yn = 1 + ((xm - km + 1)//sm), 1 + ((xn - kn + 1)//sn)\n",
    "    \n",
    "    y = np.zeros(ym*yn)\n",
    "    k = 0\n",
    "    for i in range(0, xm-km+1, sm):\n",
    "        for j in range(0, xn-kn+1, sn):\n",
    "            y[k] = np.sum(kernel * x[i:i+km,j:j+kn,:])\n",
    "            k += 1\n",
    "            \n",
    "    return np.reshape(y, (ym, yn))"
   ]
  },
  {
   "cell_type": "code",
   "execution_count": 217,
   "id": "level-pleasure",
   "metadata": {},
   "outputs": [],
   "source": [
    "class MyConv2D:\n",
    "    def __init__(self, w, b, strides):\n",
    "        self.w = w\n",
    "        self.b = b \n",
    "        self.strides = strides \n",
    "        \n",
    "    def __call__(self, inputs):\n",
    "        biases, kernels, strides = self.b, self.w, self.strides\n",
    "        \n",
    "        num_output_channels = len(biases)\n",
    "        \n",
    "        # get the first image\n",
    "        inputs = inputs[0,...]\n",
    "        \n",
    "        # get the list of output feature maps\n",
    "        outputs = [conv2d(inputs, kernels[...,i], strides) + biases[i] for i in range(num_output_channels)]\n",
    "        \n",
    "        # horizontally stacking the 2D images\n",
    "        outputs = np.stack(outputs, axis=-1) \n",
    "        \n",
    "        # Add the batch dimension\n",
    "        outputs = outputs[np.newaxis,...]\n",
    "         \n",
    "        return outputs\n",
    "        "
   ]
  },
  {
   "cell_type": "markdown",
   "id": "transparent-revelation",
   "metadata": {},
   "source": [
    "### Check"
   ]
  },
  {
   "cell_type": "code",
   "execution_count": 269,
   "id": "curious-mandate",
   "metadata": {},
   "outputs": [],
   "source": [
    "kernels, biases = model.layers[0].get_weights()\n",
    "strides = model.layers[0].strides\n",
    "keras_conv_features = keras_features[0]"
   ]
  },
  {
   "cell_type": "code",
   "execution_count": 270,
   "id": "alike-steam",
   "metadata": {},
   "outputs": [],
   "source": [
    "my_layer = MyConv2D(kernels, biases, strides=strides)\n",
    "my_conv_features = my_layer(inputs)"
   ]
  },
  {
   "cell_type": "code",
   "execution_count": 220,
   "id": "documentary-hampton",
   "metadata": {},
   "outputs": [],
   "source": [
    "jax_result = jax.lax.conv_general_dilated(\n",
    "    lhs=inputs,\n",
    "    rhs=kernels,\n",
    "    window_strides=strides,\n",
    "    padding='valid',\n",
    "    dimension_numbers=('NHWC', 'HWIO', 'NHWC')\n",
    ")\n",
    "\n"
   ]
  },
  {
   "cell_type": "code",
   "execution_count": 227,
   "id": "false-butler",
   "metadata": {},
   "outputs": [],
   "source": [
    "assert np.all(np.isclose(keras_conv_features, my_conv_features, atol=1e-6))\n",
    "assert np.all(np.isclose(jax_result, my_conv_features, atol=1e-6))"
   ]
  },
  {
   "cell_type": "markdown",
   "id": "informative-metadata",
   "metadata": {},
   "source": [
    "### Convolution in JAX"
   ]
  },
  {
   "cell_type": "code",
   "execution_count": 117,
   "id": "enhanced-accuracy",
   "metadata": {},
   "outputs": [
    {
     "data": {
      "text/plain": [
       "array([[0., 0., 0.],\n",
       "       [0., 0., 0.]], dtype=float32)"
      ]
     },
     "execution_count": 117,
     "metadata": {},
     "output_type": "execute_result"
    }
   ],
   "source": [
    "a = jnp.zeros((2,3))\n",
    "np.array(a)"
   ]
  },
  {
   "cell_type": "code",
   "execution_count": 162,
   "id": "integrated-malpractice",
   "metadata": {},
   "outputs": [],
   "source": []
  },
  {
   "cell_type": "code",
   "execution_count": 145,
   "id": "editorial-detection",
   "metadata": {},
   "outputs": [
    {
     "data": {
      "text/plain": [
       "(1, 14, 14, 4)"
      ]
     },
     "execution_count": 145,
     "metadata": {},
     "output_type": "execute_result"
    }
   ],
   "source": [
    "jax_result.shape"
   ]
  },
  {
   "cell_type": "markdown",
   "id": "electrical-calculation",
   "metadata": {},
   "source": [
    "## Pooling Layer"
   ]
  },
  {
   "cell_type": "code",
   "execution_count": 593,
   "id": "adapted-mozambique",
   "metadata": {},
   "outputs": [],
   "source": [
    "pooling_layer = tf.keras.layers.MaxPool2D(pool_size=(2,2), strides=(2,2))"
   ]
  },
  {
   "cell_type": "code",
   "execution_count": 594,
   "id": "supported-consolidation",
   "metadata": {},
   "outputs": [
    {
     "name": "stdout",
     "output_type": "stream",
     "text": [
      "(1, 3, 3, 2) -> (1, 1, 1, 2)\n"
     ]
    }
   ],
   "source": [
    "yy = pooling_layer(feature_maps)\n",
    "print(f'{feature_maps.shape} -> {yy.shape}')"
   ]
  },
  {
   "cell_type": "code",
   "execution_count": 540,
   "id": "medical-diving",
   "metadata": {},
   "outputs": [
    {
     "data": {
      "text/plain": [
       "<tf.Tensor: shape=(1, 1, 1, 2), dtype=float32, numpy=array([[[[0.9654248, 1.2988867]]]], dtype=float32)>"
      ]
     },
     "execution_count": 540,
     "metadata": {},
     "output_type": "execute_result"
    }
   ],
   "source": [
    "yy"
   ]
  },
  {
   "cell_type": "code",
   "execution_count": 274,
   "id": "native-transportation",
   "metadata": {},
   "outputs": [
    {
     "name": "stdout",
     "output_type": "stream",
     "text": [
      "tf.Tensor(\n",
      "[[[[ 0.89900464 -1.0616233 ]\n",
      "   [-0.10247962  1.2988867 ]\n",
      "   [-0.8515937   0.6712394 ]]\n",
      "\n",
      "  [[ 0.9654248   0.23607667]\n",
      "   [-0.43404913  0.27193436]\n",
      "   [-0.5712364  -0.73882663]]\n",
      "\n",
      "  [[ 0.6847748  -0.8419535 ]\n",
      "   [ 0.46285468  0.7197448 ]\n",
      "   [-1.3353215   0.47066653]]]], shape=(1, 3, 3, 2), dtype=float32)\n"
     ]
    }
   ],
   "source": [
    "print(feature_maps)"
   ]
  },
  {
   "cell_type": "code",
   "execution_count": 275,
   "id": "mechanical-soundtrack",
   "metadata": {},
   "outputs": [
    {
     "name": "stdout",
     "output_type": "stream",
     "text": [
      "tf.Tensor(\n",
      "[[[[ 0.9654248   1.2988867 ]\n",
      "   [-0.10247962  1.2988867 ]]\n",
      "\n",
      "  [[ 0.9654248   0.7197448 ]\n",
      "   [ 0.46285468  0.7197448 ]]]], shape=(1, 2, 2, 2), dtype=float32)\n"
     ]
    }
   ],
   "source": [
    "print(yy)"
   ]
  },
  {
   "cell_type": "code",
   "execution_count": 279,
   "id": "reduced-liability",
   "metadata": {},
   "outputs": [
    {
     "name": "stdout",
     "output_type": "stream",
     "text": [
      "tf.Tensor(\n",
      "[[-1.0616233   1.2988867   0.6712394 ]\n",
      " [ 0.23607667  0.27193436 -0.73882663]\n",
      " [-0.8419535   0.7197448   0.47066653]], shape=(3, 3), dtype=float32)\n"
     ]
    }
   ],
   "source": [
    "print(feature_maps[0,:,:,1])"
   ]
  },
  {
   "cell_type": "code",
   "execution_count": 280,
   "id": "fewer-logan",
   "metadata": {},
   "outputs": [
    {
     "data": {
      "text/plain": [
       "<tf.Tensor: shape=(2, 2), dtype=float32, numpy=\n",
       "array([[1.2988867, 1.2988867],\n",
       "       [0.7197448, 0.7197448]], dtype=float32)>"
      ]
     },
     "execution_count": 280,
     "metadata": {},
     "output_type": "execute_result"
    }
   ],
   "source": [
    "yy[0,:,:,1]"
   ]
  },
  {
   "cell_type": "code",
   "execution_count": 304,
   "id": "closed-teacher",
   "metadata": {},
   "outputs": [
    {
     "data": {
      "text/plain": [
       "(1, 4, 4, 3)"
      ]
     },
     "execution_count": 304,
     "metadata": {},
     "output_type": "execute_result"
    }
   ],
   "source": [
    "input_batch.shape"
   ]
  },
  {
   "cell_type": "code",
   "execution_count": 365,
   "id": "clinical-marina",
   "metadata": {},
   "outputs": [
    {
     "data": {
      "text/plain": [
       "[0, 2, 4, 6, 8]"
      ]
     },
     "execution_count": 365,
     "metadata": {},
     "output_type": "execute_result"
    }
   ],
   "source": [
    "list(range(0,10,2))"
   ]
  },
  {
   "cell_type": "code",
   "execution_count": 684,
   "id": "cooked-graphics",
   "metadata": {},
   "outputs": [
    {
     "data": {
      "text/plain": [
       "array([0., 0., 0.])"
      ]
     },
     "execution_count": 684,
     "metadata": {},
     "output_type": "execute_result"
    }
   ],
   "source": [
    "v = np.zeros((3,3))\n",
    "v[0]"
   ]
  },
  {
   "cell_type": "code",
   "execution_count": 80,
   "id": "underlying-studio",
   "metadata": {},
   "outputs": [],
   "source": [
    "def pool2D(x, pool_size=(2,2), strides=(1,1), fn=np.max):\n",
    "    xm, xn = x.shape \n",
    "    pm, pn = pool_size \n",
    "    sm, sn = strides\n",
    "    \n",
    "    ym, yn = 1 + (xm-pm+1) // sm, 1 + (xn-pn+1) // sn\n",
    "\n",
    "    y = np.zeros((ym, yn))\n",
    "    \n",
    "    ii = 0\n",
    "    for i in range(0, xm-pm+1, sm):\n",
    "        jj = 0\n",
    "        for j in range(0, xn-pn+1, sn):\n",
    "            y[ii,jj] = fn(x[i:i+pm,j:j+pn])\n",
    "            jj += 1\n",
    "        ii += 1\n",
    "    return y"
   ]
  },
  {
   "cell_type": "code",
   "execution_count": 81,
   "id": "played-round",
   "metadata": {},
   "outputs": [
    {
     "ename": "NameError",
     "evalue": "name 'a' is not defined",
     "output_type": "error",
     "traceback": [
      "\u001b[0;31m---------------------------------------------------------------------------\u001b[0m",
      "\u001b[0;31mNameError\u001b[0m                                 Traceback (most recent call last)",
      "\u001b[0;32m/tmp/ipykernel_243202/2927589611.py\u001b[0m in \u001b[0;36m<module>\u001b[0;34m\u001b[0m\n\u001b[1;32m      1\u001b[0m \u001b[0mx\u001b[0m \u001b[0;34m=\u001b[0m \u001b[0mnp\u001b[0m\u001b[0;34m.\u001b[0m\u001b[0mrandom\u001b[0m\u001b[0;34m.\u001b[0m\u001b[0mrandn\u001b[0m\u001b[0;34m(\u001b[0m\u001b[0;36m3\u001b[0m\u001b[0;34m,\u001b[0m\u001b[0;36m3\u001b[0m\u001b[0;34m)\u001b[0m\u001b[0;34m\u001b[0m\u001b[0;34m\u001b[0m\u001b[0m\n\u001b[1;32m      2\u001b[0m \u001b[0mb\u001b[0m \u001b[0;34m=\u001b[0m \u001b[0mpool2D\u001b[0m\u001b[0;34m(\u001b[0m\u001b[0mx\u001b[0m\u001b[0;34m,\u001b[0m \u001b[0mstrides\u001b[0m\u001b[0;34m=\u001b[0m\u001b[0;34m(\u001b[0m\u001b[0;36m2\u001b[0m\u001b[0;34m,\u001b[0m\u001b[0;36m2\u001b[0m\u001b[0;34m)\u001b[0m\u001b[0;34m)\u001b[0m\u001b[0;34m\u001b[0m\u001b[0;34m\u001b[0m\u001b[0m\n\u001b[0;32m----> 3\u001b[0;31m \u001b[0mprint\u001b[0m\u001b[0;34m(\u001b[0m\u001b[0ma\u001b[0m\u001b[0;34m)\u001b[0m\u001b[0;34m\u001b[0m\u001b[0;34m\u001b[0m\u001b[0m\n\u001b[0m\u001b[1;32m      4\u001b[0m \u001b[0mprint\u001b[0m\u001b[0;34m(\u001b[0m\u001b[0mb\u001b[0m\u001b[0;34m)\u001b[0m\u001b[0;34m\u001b[0m\u001b[0;34m\u001b[0m\u001b[0m\n\u001b[1;32m      5\u001b[0m \u001b[0mprint\u001b[0m\u001b[0;34m(\u001b[0m\u001b[0mx\u001b[0m\u001b[0;34m)\u001b[0m\u001b[0;34m\u001b[0m\u001b[0;34m\u001b[0m\u001b[0m\n",
      "\u001b[0;31mNameError\u001b[0m: name 'a' is not defined"
     ]
    }
   ],
   "source": [
    "x = np.random.randn(3,3)\n",
    "b = pool2D(x, strides=(2,2))\n",
    "print(a)\n",
    "print(b)\n",
    "print(x)"
   ]
  },
  {
   "cell_type": "code",
   "execution_count": 82,
   "id": "confidential-blackjack",
   "metadata": {},
   "outputs": [],
   "source": [
    "def pooling(features, pool_size=(2,2), strides=(2,2)):\n",
    "    \n",
    "    px, py = pool_size\n",
    "    sm, sn = strides\n",
    "    width, height, chans = features.shape \n",
    "    \n",
    "    m, n = (width - px + 1) // sm, (height - py + 1) // sn\n",
    "    \n",
    "    features_ = np.zeros((m, n, chans))\n",
    "\n",
    "    # Note that we're not changing the number of features\n",
    "    for chan in range(chans):\n",
    "        features_[:,:,chan] = pool2D(features[:,:,chan], pool_size, strides)\n",
    "    \n",
    "    return features_"
   ]
  },
  {
   "cell_type": "code",
   "execution_count": 598,
   "id": "small-relaxation",
   "metadata": {},
   "outputs": [
    {
     "data": {
      "text/plain": [
       "array([[[ 1.3011235 , -0.24245605]]])"
      ]
     },
     "execution_count": 598,
     "metadata": {},
     "output_type": "execute_result"
    }
   ],
   "source": [
    "pooling(feature_maps[0,:,:,:])"
   ]
  },
  {
   "cell_type": "code",
   "execution_count": 249,
   "id": "informed-leadership",
   "metadata": {},
   "outputs": [
    {
     "data": {
      "text/plain": [
       "(10, 10, 2)"
      ]
     },
     "execution_count": 249,
     "metadata": {},
     "output_type": "execute_result"
    }
   ],
   "source": [
    "np.stack([np.random.randn(10,10), np.random.randn(10,10)], axis=-1).shape"
   ]
  },
  {
   "cell_type": "code",
   "execution_count": 271,
   "id": "humanitarian-kenya",
   "metadata": {},
   "outputs": [
    {
     "data": {
      "text/plain": [
       "DeviceArray([[[[ 2.2203097 ,  0.7514108 ,  0.6305484 ,  1.5815421 ],\n",
       "               [ 1.2177465 ,  0.9271074 ,  0.7391334 ,  0.9822045 ],\n",
       "               [ 0.29114679,  1.8811291 ,  0.5059719 ,  0.63093317],\n",
       "               [ 0.20470184,  1.3739707 ,  0.3607968 ,  1.2883999 ],\n",
       "               [ 0.59057814,  1.5924685 ,  1.1464765 ,  1.4917585 ],\n",
       "               [ 0.16934961,  0.64135337,  1.8001381 ,  0.16465424],\n",
       "               [ 0.3894469 ,  0.6464122 ,  1.6553746 ,  1.2135262 ]],\n",
       "\n",
       "              [[ 2.3377476 ,  0.51156694,  1.0020787 ,  1.3904204 ],\n",
       "               [ 0.652942  ,  2.2939618 ,  1.4073436 ,  2.0440257 ],\n",
       "               [ 0.7191202 ,  0.9767988 ,  0.668246  , -0.3064434 ],\n",
       "               [ 1.3608527 ,  0.58269393,  0.35336065,  1.8263001 ],\n",
       "               [ 0.78622943,  1.713314  ,  1.7906963 , -0.02068998],\n",
       "               [ 0.76750404,  0.81492865,  0.57862407,  0.7561941 ],\n",
       "               [ 0.25453514,  1.0671004 ,  1.1293529 ,  0.5066892 ]],\n",
       "\n",
       "              [[ 0.6206944 ,  0.09209802,  1.6532173 ,  2.0552828 ],\n",
       "               [-0.19561526,  1.420513  ,  0.79193133, -0.01803365],\n",
       "               [ 0.60639215,  0.9410309 ,  0.85261476,  1.8768661 ],\n",
       "               [ 0.9959571 ,  1.0616597 ,  0.49569178,  1.6762668 ],\n",
       "               [ 0.5363734 ,  2.3275473 ,  0.860301  ,  2.1453125 ],\n",
       "               [ 0.4169625 ,  1.3498336 ,  1.1611527 ,  0.3422146 ],\n",
       "               [ 1.232143  ,  0.44593516,  0.99878985,  1.8476663 ]],\n",
       "\n",
       "              [[ 0.23818316,  1.2849499 ,  1.0474979 ,  1.9913363 ],\n",
       "               [ 1.0661296 ,  0.7400683 ,  1.3541304 ,  1.4596949 ],\n",
       "               [ 1.0534953 , -0.39137706,  0.8292153 ,  2.2344463 ],\n",
       "               [ 0.31341434,  0.3538208 ,  0.75360155,  1.5393205 ],\n",
       "               [ 1.1760103 ,  1.1503168 , -0.53614587,  0.34708816],\n",
       "               [ 1.2728152 ,  1.9220823 ,  0.34449115,  1.1186888 ],\n",
       "               [ 0.8673139 ,  3.0202303 ,  1.841145  ,  2.6212692 ]],\n",
       "\n",
       "              [[ 1.7137306 ,  2.156742  ,  0.3107248 ,  1.0019364 ],\n",
       "               [ 0.20898026,  1.6234058 , -0.03484035,  1.4543954 ],\n",
       "               [ 0.5935692 ,  0.7080792 ,  0.41520426,  2.0714197 ],\n",
       "               [ 0.85228026,  0.23219332,  1.6141244 ,  1.7967864 ],\n",
       "               [ 1.8558447 ,  0.87956864,  1.2859178 ,  0.80573297],\n",
       "               [ 0.91368526,  2.0551527 ,  0.9135846 ,  1.4219866 ],\n",
       "               [ 0.36532915, -0.17756358,  1.8608574 ,  1.3197037 ]],\n",
       "\n",
       "              [[ 1.5187278 ,  1.3532174 ,  1.6581348 ,  0.7052273 ],\n",
       "               [ 1.3042551 ,  0.93232286, -0.1341016 ,  1.9366615 ],\n",
       "               [ 2.2302673 ,  2.0610542 ,  1.5959028 ,  1.2271551 ],\n",
       "               [ 1.263926  ,  2.6450248 ,  0.51793927,  0.9632713 ],\n",
       "               [ 0.43770027,  0.76882285, -0.00502868,  0.5271177 ],\n",
       "               [ 0.68766963,  2.8823228 ,  1.4841839 ,  2.370077  ],\n",
       "               [ 0.83201903,  0.7319301 ,  1.7240815 ,  0.58267146]],\n",
       "\n",
       "              [[ 1.3661338 ,  3.016301  ,  1.0895298 ,  2.2638898 ],\n",
       "               [ 2.002431  ,  2.6454563 ,  1.3474373 ,  0.59892905],\n",
       "               [ 0.74488753,  1.4606575 , -0.23053403,  0.7333537 ],\n",
       "               [ 1.2495472 ,  1.5782238 ,  1.9069676 ,  0.8592951 ],\n",
       "               [ 0.88328177,  1.5059935 ,  1.7482314 ,  0.5331368 ],\n",
       "               [ 1.794787  ,  1.0195991 , -0.04904599,  1.2577432 ],\n",
       "               [ 0.68487185,  1.9517245 ,  0.39640298,  1.2647802 ]]]],            dtype=float32)"
      ]
     },
     "execution_count": 271,
     "metadata": {},
     "output_type": "execute_result"
    }
   ],
   "source": [
    "jax.lax.reduce_window(\n",
    "    jnp.array(my_conv_features),\n",
    "    -jnp.inf,\n",
    "    jax.lax.max,\n",
    "    window_dimensions=(1,2,2,1),\n",
    "    window_strides=(1,2,2,1),\n",
    "    padding='valid')"
   ]
  },
  {
   "cell_type": "code",
   "execution_count": 272,
   "id": "designed-finance",
   "metadata": {},
   "outputs": [
    {
     "data": {
      "text/plain": [
       "<tf.Tensor: shape=(1, 7, 7, 4), dtype=float32, numpy=\n",
       "array([[[[ 2.2203097 ,  0.75141084,  0.6305484 ,  1.581542  ],\n",
       "         [ 1.2177465 ,  0.92710733,  0.7391335 ,  0.98220456],\n",
       "         [ 0.29114673,  1.881129  ,  0.5059719 ,  0.6309332 ],\n",
       "         [ 0.20470184,  1.3739707 ,  0.36079678,  1.2883998 ],\n",
       "         [ 0.59057814,  1.5924685 ,  1.1464764 ,  1.4917585 ],\n",
       "         [ 0.16934964,  0.64135337,  1.8001381 ,  0.16465425],\n",
       "         [ 0.3894469 ,  0.6464122 ,  1.6553746 ,  1.2135262 ]],\n",
       "\n",
       "        [[ 2.3377476 ,  0.511567  ,  1.0020788 ,  1.3904203 ],\n",
       "         [ 0.652942  ,  2.2939618 ,  1.4073437 ,  2.0440257 ],\n",
       "         [ 0.7191202 ,  0.97679865,  0.6682459 , -0.30644342],\n",
       "         [ 1.3608527 ,  0.58269376,  0.35336065,  1.8263003 ],\n",
       "         [ 0.7862294 ,  1.7133139 ,  1.7906963 , -0.02068999],\n",
       "         [ 0.7675041 ,  0.81492865,  0.57862407,  0.7561942 ],\n",
       "         [ 0.25453514,  1.0671003 ,  1.1293529 ,  0.5066892 ]],\n",
       "\n",
       "        [[ 0.6206945 ,  0.09209803,  1.6532174 ,  2.0552828 ],\n",
       "         [-0.19561526,  1.420513  ,  0.79193133, -0.01803365],\n",
       "         [ 0.6063922 ,  0.941031  ,  0.8526148 ,  1.8768661 ],\n",
       "         [ 0.995957  ,  1.0616597 ,  0.49569172,  1.6762668 ],\n",
       "         [ 0.5363733 ,  2.327547  ,  0.860301  ,  2.1453125 ],\n",
       "         [ 0.41696253,  1.3498337 ,  1.1611527 ,  0.34221467],\n",
       "         [ 1.2321432 ,  0.44593522,  0.99878985,  1.8476661 ]],\n",
       "\n",
       "        [[ 0.23818313,  1.2849498 ,  1.0474979 ,  1.9913363 ],\n",
       "         [ 1.0661296 ,  0.74006826,  1.3541304 ,  1.4596947 ],\n",
       "         [ 1.0534953 , -0.3913771 ,  0.8292153 ,  2.2344463 ],\n",
       "         [ 0.31341434,  0.3538208 ,  0.7536015 ,  1.5393205 ],\n",
       "         [ 1.1760103 ,  1.1503167 , -0.53614587,  0.34708816],\n",
       "         [ 1.2728152 ,  1.9220823 ,  0.34449115,  1.118689  ],\n",
       "         [ 0.8673139 ,  3.0202303 ,  1.8411452 ,  2.6212695 ]],\n",
       "\n",
       "        [[ 1.7137306 ,  2.156742  ,  0.3107248 ,  1.0019363 ],\n",
       "         [ 0.20898022,  1.6234056 , -0.03484029,  1.4543954 ],\n",
       "         [ 0.5935692 ,  0.7080792 ,  0.4152043 ,  2.07142   ],\n",
       "         [ 0.8522802 ,  0.23219334,  1.6141244 ,  1.7967865 ],\n",
       "         [ 1.8558447 ,  0.87956864,  1.2859178 ,  0.80573297],\n",
       "         [ 0.9136852 ,  2.0551527 ,  0.9135846 ,  1.4219866 ],\n",
       "         [ 0.36532912, -0.17756365,  1.8608574 ,  1.3197038 ]],\n",
       "\n",
       "        [[ 1.5187277 ,  1.3532174 ,  1.6581347 ,  0.70522726],\n",
       "         [ 1.3042551 ,  0.9323228 , -0.13410155,  1.9366614 ],\n",
       "         [ 2.2302673 ,  2.0610542 ,  1.5959027 ,  1.2271551 ],\n",
       "         [ 1.2639259 ,  2.6450248 ,  0.51793927,  0.9632714 ],\n",
       "         [ 0.43770033,  0.7688228 , -0.00502868,  0.5271177 ],\n",
       "         [ 0.6876696 ,  2.8823228 ,  1.4841839 ,  2.370077  ],\n",
       "         [ 0.83201903,  0.7319301 ,  1.7240815 ,  0.58267146]],\n",
       "\n",
       "        [[ 1.3661338 ,  3.016301  ,  1.0895299 ,  2.2638898 ],\n",
       "         [ 2.002431  ,  2.6454566 ,  1.3474373 ,  0.5989289 ],\n",
       "         [ 0.74488753,  1.4606575 , -0.23053402,  0.73335373],\n",
       "         [ 1.2495472 ,  1.5782238 ,  1.9069676 ,  0.859295  ],\n",
       "         [ 0.8832818 ,  1.5059935 ,  1.7482313 ,  0.5331367 ],\n",
       "         [ 1.7947869 ,  1.0195991 , -0.04904603,  1.2577432 ],\n",
       "         [ 0.68487185,  1.9517245 ,  0.396403  ,  1.2647802 ]]]],\n",
       "      dtype=float32)>"
      ]
     },
     "execution_count": 272,
     "metadata": {},
     "output_type": "execute_result"
    }
   ],
   "source": [
    "outputs"
   ]
  },
  {
   "cell_type": "code",
   "execution_count": 228,
   "id": "manufactured-auction",
   "metadata": {},
   "outputs": [
    {
     "data": {
      "text/plain": [
       "\u001b[0;31mSignature:\u001b[0m\n",
       "\u001b[0mjax\u001b[0m\u001b[0;34m.\u001b[0m\u001b[0mlax\u001b[0m\u001b[0;34m.\u001b[0m\u001b[0mreduce_window\u001b[0m\u001b[0;34m(\u001b[0m\u001b[0;34m\u001b[0m\n",
       "\u001b[0;34m\u001b[0m    \u001b[0moperand\u001b[0m\u001b[0;34m,\u001b[0m\u001b[0;34m\u001b[0m\n",
       "\u001b[0;34m\u001b[0m    \u001b[0minit_value\u001b[0m\u001b[0;34m,\u001b[0m\u001b[0;34m\u001b[0m\n",
       "\u001b[0;34m\u001b[0m    \u001b[0mcomputation\u001b[0m\u001b[0;34m:\u001b[0m \u001b[0mCallable\u001b[0m\u001b[0;34m,\u001b[0m\u001b[0;34m\u001b[0m\n",
       "\u001b[0;34m\u001b[0m    \u001b[0mwindow_dimensions\u001b[0m\u001b[0;34m:\u001b[0m \u001b[0mSequence\u001b[0m\u001b[0;34m[\u001b[0m\u001b[0mUnion\u001b[0m\u001b[0;34m[\u001b[0m\u001b[0mint\u001b[0m\u001b[0;34m,\u001b[0m \u001b[0mAny\u001b[0m\u001b[0;34m]\u001b[0m\u001b[0;34m]\u001b[0m\u001b[0;34m,\u001b[0m\u001b[0;34m\u001b[0m\n",
       "\u001b[0;34m\u001b[0m    \u001b[0mwindow_strides\u001b[0m\u001b[0;34m:\u001b[0m \u001b[0mSequence\u001b[0m\u001b[0;34m[\u001b[0m\u001b[0mint\u001b[0m\u001b[0;34m]\u001b[0m\u001b[0;34m,\u001b[0m\u001b[0;34m\u001b[0m\n",
       "\u001b[0;34m\u001b[0m    \u001b[0mpadding\u001b[0m\u001b[0;34m:\u001b[0m \u001b[0mUnion\u001b[0m\u001b[0;34m[\u001b[0m\u001b[0mstr\u001b[0m\u001b[0;34m,\u001b[0m \u001b[0mSequence\u001b[0m\u001b[0;34m[\u001b[0m\u001b[0mTuple\u001b[0m\u001b[0;34m[\u001b[0m\u001b[0mint\u001b[0m\u001b[0;34m,\u001b[0m \u001b[0mint\u001b[0m\u001b[0;34m]\u001b[0m\u001b[0;34m]\u001b[0m\u001b[0;34m]\u001b[0m\u001b[0;34m,\u001b[0m\u001b[0;34m\u001b[0m\n",
       "\u001b[0;34m\u001b[0m    \u001b[0mbase_dilation\u001b[0m\u001b[0;34m:\u001b[0m \u001b[0mUnion\u001b[0m\u001b[0;34m[\u001b[0m\u001b[0mSequence\u001b[0m\u001b[0;34m[\u001b[0m\u001b[0mint\u001b[0m\u001b[0;34m]\u001b[0m\u001b[0;34m,\u001b[0m \u001b[0mNoneType\u001b[0m\u001b[0;34m]\u001b[0m \u001b[0;34m=\u001b[0m \u001b[0;32mNone\u001b[0m\u001b[0;34m,\u001b[0m\u001b[0;34m\u001b[0m\n",
       "\u001b[0;34m\u001b[0m    \u001b[0mwindow_dilation\u001b[0m\u001b[0;34m:\u001b[0m \u001b[0mUnion\u001b[0m\u001b[0;34m[\u001b[0m\u001b[0mSequence\u001b[0m\u001b[0;34m[\u001b[0m\u001b[0mint\u001b[0m\u001b[0;34m]\u001b[0m\u001b[0;34m,\u001b[0m \u001b[0mNoneType\u001b[0m\u001b[0;34m]\u001b[0m \u001b[0;34m=\u001b[0m \u001b[0;32mNone\u001b[0m\u001b[0;34m,\u001b[0m\u001b[0;34m\u001b[0m\n",
       "\u001b[0;34m\u001b[0m\u001b[0;34m)\u001b[0m \u001b[0;34m->\u001b[0m \u001b[0mAny\u001b[0m\u001b[0;34m\u001b[0m\u001b[0;34m\u001b[0m\u001b[0m\n",
       "\u001b[0;31mSource:\u001b[0m   \n",
       "\u001b[0;32mdef\u001b[0m \u001b[0mreduce_window\u001b[0m\u001b[0;34m(\u001b[0m\u001b[0moperand\u001b[0m\u001b[0;34m,\u001b[0m \u001b[0minit_value\u001b[0m\u001b[0;34m,\u001b[0m \u001b[0mcomputation\u001b[0m\u001b[0;34m:\u001b[0m \u001b[0mCallable\u001b[0m\u001b[0;34m,\u001b[0m\u001b[0;34m\u001b[0m\n",
       "\u001b[0;34m\u001b[0m                  \u001b[0mwindow_dimensions\u001b[0m\u001b[0;34m:\u001b[0m \u001b[0mcore\u001b[0m\u001b[0;34m.\u001b[0m\u001b[0mShape\u001b[0m\u001b[0;34m,\u001b[0m \u001b[0mwindow_strides\u001b[0m\u001b[0;34m:\u001b[0m \u001b[0mSequence\u001b[0m\u001b[0;34m[\u001b[0m\u001b[0mint\u001b[0m\u001b[0;34m]\u001b[0m\u001b[0;34m,\u001b[0m\u001b[0;34m\u001b[0m\n",
       "\u001b[0;34m\u001b[0m                  \u001b[0mpadding\u001b[0m\u001b[0;34m:\u001b[0m \u001b[0mUnion\u001b[0m\u001b[0;34m[\u001b[0m\u001b[0mstr\u001b[0m\u001b[0;34m,\u001b[0m \u001b[0mSequence\u001b[0m\u001b[0;34m[\u001b[0m\u001b[0mTuple\u001b[0m\u001b[0;34m[\u001b[0m\u001b[0mint\u001b[0m\u001b[0;34m,\u001b[0m \u001b[0mint\u001b[0m\u001b[0;34m]\u001b[0m\u001b[0;34m]\u001b[0m\u001b[0;34m]\u001b[0m\u001b[0;34m,\u001b[0m\u001b[0;34m\u001b[0m\n",
       "\u001b[0;34m\u001b[0m                  \u001b[0mbase_dilation\u001b[0m\u001b[0;34m:\u001b[0m \u001b[0mOptional\u001b[0m\u001b[0;34m[\u001b[0m\u001b[0mSequence\u001b[0m\u001b[0;34m[\u001b[0m\u001b[0mint\u001b[0m\u001b[0;34m]\u001b[0m\u001b[0;34m]\u001b[0m \u001b[0;34m=\u001b[0m \u001b[0;32mNone\u001b[0m\u001b[0;34m,\u001b[0m\u001b[0;34m\u001b[0m\n",
       "\u001b[0;34m\u001b[0m                  \u001b[0mwindow_dilation\u001b[0m\u001b[0;34m:\u001b[0m \u001b[0mOptional\u001b[0m\u001b[0;34m[\u001b[0m\u001b[0mSequence\u001b[0m\u001b[0;34m[\u001b[0m\u001b[0mint\u001b[0m\u001b[0;34m]\u001b[0m\u001b[0;34m]\u001b[0m \u001b[0;34m=\u001b[0m \u001b[0;32mNone\u001b[0m\u001b[0;34m)\u001b[0m \u001b[0;34m->\u001b[0m \u001b[0mArray\u001b[0m\u001b[0;34m:\u001b[0m\u001b[0;34m\u001b[0m\n",
       "\u001b[0;34m\u001b[0m  \u001b[0;34m\"\"\"Wraps XLA's `ReduceWindowWithGeneralPadding\u001b[0m\n",
       "\u001b[0;34m  <https://www.tensorflow.org/xla/operation_semantics#reducewindow>`_\u001b[0m\n",
       "\u001b[0;34m  operator.\u001b[0m\n",
       "\u001b[0;34m  \"\"\"\u001b[0m\u001b[0;34m\u001b[0m\n",
       "\u001b[0;34m\u001b[0m  \u001b[0mflat_operands\u001b[0m\u001b[0;34m,\u001b[0m \u001b[0moperand_tree\u001b[0m \u001b[0;34m=\u001b[0m \u001b[0mtree_util\u001b[0m\u001b[0;34m.\u001b[0m\u001b[0mtree_flatten\u001b[0m\u001b[0;34m(\u001b[0m\u001b[0moperand\u001b[0m\u001b[0;34m)\u001b[0m\u001b[0;34m\u001b[0m\n",
       "\u001b[0;34m\u001b[0m  \u001b[0mflat_init_values\u001b[0m\u001b[0;34m,\u001b[0m \u001b[0minit_value_tree\u001b[0m \u001b[0;34m=\u001b[0m \u001b[0mtree_util\u001b[0m\u001b[0;34m.\u001b[0m\u001b[0mtree_flatten\u001b[0m\u001b[0;34m(\u001b[0m\u001b[0minit_value\u001b[0m\u001b[0;34m)\u001b[0m\u001b[0;34m\u001b[0m\n",
       "\u001b[0;34m\u001b[0m  \u001b[0;32mif\u001b[0m \u001b[0moperand_tree\u001b[0m \u001b[0;34m!=\u001b[0m \u001b[0minit_value_tree\u001b[0m\u001b[0;34m:\u001b[0m\u001b[0;34m\u001b[0m\n",
       "\u001b[0;34m\u001b[0m    \u001b[0;32mraise\u001b[0m \u001b[0mValueError\u001b[0m\u001b[0;34m(\u001b[0m\u001b[0;34m'Operands must have the same tree structure as '\u001b[0m\u001b[0;34m\u001b[0m\n",
       "\u001b[0;34m\u001b[0m                     \u001b[0;34mf'init_values: {operand_tree} vs. {init_value_tree}'\u001b[0m\u001b[0;34m)\u001b[0m\u001b[0;34m\u001b[0m\n",
       "\u001b[0;34m\u001b[0m  \u001b[0;32mif\u001b[0m \u001b[0mlen\u001b[0m\u001b[0;34m(\u001b[0m\u001b[0mflat_operands\u001b[0m\u001b[0;34m)\u001b[0m \u001b[0;34m==\u001b[0m \u001b[0;36m0\u001b[0m\u001b[0;34m:\u001b[0m\u001b[0;34m\u001b[0m\n",
       "\u001b[0;34m\u001b[0m    \u001b[0;32mraise\u001b[0m \u001b[0mValueError\u001b[0m\u001b[0;34m(\u001b[0m\u001b[0;34m'reduce_window must have at least one operand.'\u001b[0m\u001b[0;34m)\u001b[0m\u001b[0;34m\u001b[0m\n",
       "\u001b[0;34m\u001b[0m  \u001b[0;32mif\u001b[0m \u001b[0mlen\u001b[0m\u001b[0;34m(\u001b[0m\u001b[0mflat_operands\u001b[0m\u001b[0;34m)\u001b[0m \u001b[0;34m!=\u001b[0m \u001b[0mlen\u001b[0m\u001b[0;34m(\u001b[0m\u001b[0mflat_init_values\u001b[0m\u001b[0;34m)\u001b[0m\u001b[0;34m:\u001b[0m\u001b[0;34m\u001b[0m\n",
       "\u001b[0;34m\u001b[0m    \u001b[0;32mraise\u001b[0m \u001b[0mValueError\u001b[0m\u001b[0;34m(\u001b[0m\u001b[0;34m'Must have same total number of operands as init_values: '\u001b[0m\u001b[0;34m\u001b[0m\n",
       "\u001b[0;34m\u001b[0m                     \u001b[0;34mf' {len(flat_operands)} vs. {len(flat_init_values)}'\u001b[0m\u001b[0;34m)\u001b[0m\u001b[0;34m\u001b[0m\n",
       "\u001b[0;34m\u001b[0m  \u001b[0;32mif\u001b[0m \u001b[0misinstance\u001b[0m\u001b[0;34m(\u001b[0m\u001b[0mpadding\u001b[0m\u001b[0;34m,\u001b[0m \u001b[0mstr\u001b[0m\u001b[0;34m)\u001b[0m\u001b[0;34m:\u001b[0m\u001b[0;34m\u001b[0m\n",
       "\u001b[0;34m\u001b[0m    \u001b[0mdilated_window_dims\u001b[0m \u001b[0;34m=\u001b[0m \u001b[0;34m(\u001b[0m\u001b[0;34m\u001b[0m\n",
       "\u001b[0;34m\u001b[0m        \u001b[0mwindow_dimensions\u001b[0m \u001b[0;32mif\u001b[0m \u001b[0mwindow_dilation\u001b[0m \u001b[0;32mis\u001b[0m \u001b[0;32mNone\u001b[0m \u001b[0;32melse\u001b[0m\u001b[0;34m\u001b[0m\n",
       "\u001b[0;34m\u001b[0m        \u001b[0mlax\u001b[0m\u001b[0;34m.\u001b[0m\u001b[0m_dilate_shape\u001b[0m\u001b[0;34m(\u001b[0m\u001b[0mwindow_dimensions\u001b[0m\u001b[0;34m,\u001b[0m \u001b[0mwindow_dilation\u001b[0m\u001b[0;34m)\u001b[0m\u001b[0;34m)\u001b[0m\u001b[0;34m\u001b[0m\n",
       "\u001b[0;34m\u001b[0m    \u001b[0mpadding\u001b[0m \u001b[0;34m=\u001b[0m \u001b[0mtuple\u001b[0m\u001b[0;34m(\u001b[0m\u001b[0mlax\u001b[0m\u001b[0;34m.\u001b[0m\u001b[0mpadtype_to_pads\u001b[0m\u001b[0;34m(\u001b[0m\u001b[0;34m\u001b[0m\n",
       "\u001b[0;34m\u001b[0m        \u001b[0mflat_operands\u001b[0m\u001b[0;34m[\u001b[0m\u001b[0;36m0\u001b[0m\u001b[0;34m]\u001b[0m\u001b[0;34m.\u001b[0m\u001b[0mshape\u001b[0m\u001b[0;34m,\u001b[0m \u001b[0mdilated_window_dims\u001b[0m\u001b[0;34m,\u001b[0m \u001b[0mwindow_strides\u001b[0m\u001b[0;34m,\u001b[0m \u001b[0mpadding\u001b[0m\u001b[0;34m)\u001b[0m\u001b[0;34m)\u001b[0m\u001b[0;34m\u001b[0m\n",
       "\u001b[0;34m\u001b[0m  \u001b[0;32melse\u001b[0m\u001b[0;34m:\u001b[0m\u001b[0;34m\u001b[0m\n",
       "\u001b[0;34m\u001b[0m    \u001b[0mpadding\u001b[0m \u001b[0;34m=\u001b[0m \u001b[0mtuple\u001b[0m\u001b[0;34m(\u001b[0m\u001b[0mpadding\u001b[0m\u001b[0;34m)\u001b[0m\u001b[0;34m\u001b[0m\n",
       "\u001b[0;34m\u001b[0m  \u001b[0;32mif\u001b[0m \u001b[0mbase_dilation\u001b[0m \u001b[0;32mis\u001b[0m \u001b[0;32mNone\u001b[0m\u001b[0;34m:\u001b[0m\u001b[0;34m\u001b[0m\n",
       "\u001b[0;34m\u001b[0m    \u001b[0mbase_dilation\u001b[0m \u001b[0;34m=\u001b[0m \u001b[0;34m(\u001b[0m\u001b[0;36m1\u001b[0m\u001b[0;34m,\u001b[0m\u001b[0;34m)\u001b[0m \u001b[0;34m*\u001b[0m \u001b[0mlen\u001b[0m\u001b[0;34m(\u001b[0m\u001b[0mwindow_dimensions\u001b[0m\u001b[0;34m)\u001b[0m\u001b[0;34m\u001b[0m\n",
       "\u001b[0;34m\u001b[0m  \u001b[0;32mif\u001b[0m \u001b[0mwindow_dilation\u001b[0m \u001b[0;32mis\u001b[0m \u001b[0;32mNone\u001b[0m\u001b[0;34m:\u001b[0m\u001b[0;34m\u001b[0m\n",
       "\u001b[0;34m\u001b[0m    \u001b[0mwindow_dilation\u001b[0m \u001b[0;34m=\u001b[0m \u001b[0;34m(\u001b[0m\u001b[0;36m1\u001b[0m\u001b[0;34m,\u001b[0m\u001b[0;34m)\u001b[0m \u001b[0;34m*\u001b[0m \u001b[0mlen\u001b[0m\u001b[0;34m(\u001b[0m\u001b[0mwindow_dimensions\u001b[0m\u001b[0;34m)\u001b[0m\u001b[0;34m\u001b[0m\n",
       "\u001b[0;34m\u001b[0m  \u001b[0mmonoid_reducer\u001b[0m \u001b[0;34m=\u001b[0m \u001b[0m_get_monoid_window_reducer\u001b[0m\u001b[0;34m(\u001b[0m\u001b[0mcomputation\u001b[0m\u001b[0;34m,\u001b[0m \u001b[0mflat_init_values\u001b[0m\u001b[0;34m)\u001b[0m\u001b[0;34m\u001b[0m\n",
       "\u001b[0;34m\u001b[0m  \u001b[0;32mif\u001b[0m \u001b[0mmonoid_reducer\u001b[0m\u001b[0;34m:\u001b[0m\u001b[0;34m\u001b[0m\n",
       "\u001b[0;34m\u001b[0m    \u001b[0;32mreturn\u001b[0m \u001b[0mmonoid_reducer\u001b[0m\u001b[0;34m(\u001b[0m\u001b[0moperand\u001b[0m\u001b[0;34m,\u001b[0m \u001b[0mwindow_dimensions\u001b[0m\u001b[0;34m,\u001b[0m \u001b[0mwindow_strides\u001b[0m\u001b[0;34m,\u001b[0m \u001b[0mpadding\u001b[0m\u001b[0;34m,\u001b[0m\u001b[0;34m\u001b[0m\n",
       "\u001b[0;34m\u001b[0m                          \u001b[0mbase_dilation\u001b[0m\u001b[0;34m,\u001b[0m \u001b[0mwindow_dilation\u001b[0m\u001b[0;34m)\u001b[0m\u001b[0;34m\u001b[0m\n",
       "\u001b[0;34m\u001b[0m  \u001b[0;32melse\u001b[0m\u001b[0;34m:\u001b[0m\u001b[0;34m\u001b[0m\n",
       "\u001b[0;34m\u001b[0m    \u001b[0mflat_init_avals\u001b[0m \u001b[0;34m=\u001b[0m \u001b[0mmap\u001b[0m\u001b[0;34m(\u001b[0m\u001b[0mlax\u001b[0m\u001b[0;34m.\u001b[0m\u001b[0m_abstractify\u001b[0m\u001b[0;34m,\u001b[0m \u001b[0mflat_init_values\u001b[0m\u001b[0;34m)\u001b[0m\u001b[0;34m\u001b[0m\n",
       "\u001b[0;34m\u001b[0m    \u001b[0mjaxpr\u001b[0m\u001b[0;34m,\u001b[0m \u001b[0mconsts\u001b[0m\u001b[0;34m,\u001b[0m \u001b[0mout_tree\u001b[0m \u001b[0;34m=\u001b[0m \u001b[0mlax\u001b[0m\u001b[0;34m.\u001b[0m\u001b[0m_variadic_reduction_jaxpr\u001b[0m\u001b[0;34m(\u001b[0m\u001b[0;34m\u001b[0m\n",
       "\u001b[0;34m\u001b[0m        \u001b[0mcomputation\u001b[0m\u001b[0;34m,\u001b[0m \u001b[0mtuple\u001b[0m\u001b[0;34m(\u001b[0m\u001b[0mflat_init_avals\u001b[0m\u001b[0;34m)\u001b[0m\u001b[0;34m,\u001b[0m \u001b[0minit_value_tree\u001b[0m\u001b[0;34m)\u001b[0m\u001b[0;34m\u001b[0m\n",
       "\u001b[0;34m\u001b[0m    \u001b[0;32mif\u001b[0m \u001b[0moperand_tree\u001b[0m \u001b[0;34m!=\u001b[0m \u001b[0mout_tree\u001b[0m\u001b[0;34m:\u001b[0m\u001b[0;34m\u001b[0m\n",
       "\u001b[0;34m\u001b[0m      \u001b[0;32mraise\u001b[0m \u001b[0mValueError\u001b[0m\u001b[0;34m(\u001b[0m\u001b[0;34m\u001b[0m\n",
       "\u001b[0;34m\u001b[0m        \u001b[0;34m'reduce_window output must have the same tree structure as the operands'\u001b[0m\u001b[0;34m\u001b[0m\n",
       "\u001b[0;34m\u001b[0m        \u001b[0;34mf' {operand_tree} vs. {out_tree}'\u001b[0m\u001b[0;34m)\u001b[0m\u001b[0;34m\u001b[0m\n",
       "\u001b[0;34m\u001b[0m    \u001b[0mout_flat\u001b[0m \u001b[0;34m=\u001b[0m \u001b[0mreduce_window_p\u001b[0m\u001b[0;34m.\u001b[0m\u001b[0mbind\u001b[0m\u001b[0;34m(\u001b[0m\u001b[0;34m\u001b[0m\n",
       "\u001b[0;34m\u001b[0m        \u001b[0;34m*\u001b[0m\u001b[0;34m(\u001b[0m\u001b[0mflat_operands\u001b[0m \u001b[0;34m+\u001b[0m \u001b[0mflat_init_values\u001b[0m\u001b[0;34m)\u001b[0m\u001b[0;34m,\u001b[0m \u001b[0mjaxpr\u001b[0m\u001b[0;34m=\u001b[0m\u001b[0mjaxpr\u001b[0m\u001b[0;34m,\u001b[0m \u001b[0mconsts\u001b[0m\u001b[0;34m=\u001b[0m\u001b[0mconsts\u001b[0m\u001b[0;34m,\u001b[0m\u001b[0;34m\u001b[0m\n",
       "\u001b[0;34m\u001b[0m        \u001b[0mwindow_dimensions\u001b[0m\u001b[0;34m=\u001b[0m\u001b[0mtuple\u001b[0m\u001b[0;34m(\u001b[0m\u001b[0mwindow_dimensions\u001b[0m\u001b[0;34m)\u001b[0m\u001b[0;34m,\u001b[0m\u001b[0;34m\u001b[0m\n",
       "\u001b[0;34m\u001b[0m        \u001b[0mwindow_strides\u001b[0m\u001b[0;34m=\u001b[0m\u001b[0mtuple\u001b[0m\u001b[0;34m(\u001b[0m\u001b[0mwindow_strides\u001b[0m\u001b[0;34m)\u001b[0m\u001b[0;34m,\u001b[0m \u001b[0mpadding\u001b[0m\u001b[0;34m=\u001b[0m\u001b[0mpadding\u001b[0m\u001b[0;34m,\u001b[0m\u001b[0;34m\u001b[0m\n",
       "\u001b[0;34m\u001b[0m        \u001b[0mbase_dilation\u001b[0m\u001b[0;34m=\u001b[0m\u001b[0mtuple\u001b[0m\u001b[0;34m(\u001b[0m\u001b[0mbase_dilation\u001b[0m\u001b[0;34m)\u001b[0m\u001b[0;34m,\u001b[0m\u001b[0;34m\u001b[0m\n",
       "\u001b[0;34m\u001b[0m        \u001b[0mwindow_dilation\u001b[0m\u001b[0;34m=\u001b[0m\u001b[0mtuple\u001b[0m\u001b[0;34m(\u001b[0m\u001b[0mwindow_dilation\u001b[0m\u001b[0;34m)\u001b[0m\u001b[0;34m)\u001b[0m\u001b[0;34m\u001b[0m\n",
       "\u001b[0;34m\u001b[0m    \u001b[0;32mreturn\u001b[0m \u001b[0mtree_util\u001b[0m\u001b[0;34m.\u001b[0m\u001b[0mtree_unflatten\u001b[0m\u001b[0;34m(\u001b[0m\u001b[0mout_tree\u001b[0m\u001b[0;34m,\u001b[0m \u001b[0mout_flat\u001b[0m\u001b[0;34m)\u001b[0m\u001b[0;34m\u001b[0m\u001b[0;34m\u001b[0m\u001b[0m\n",
       "\u001b[0;31mFile:\u001b[0m      ~/anaconda3/lib/python3.8/site-packages/jax/_src/lax/windowed_reductions.py\n",
       "\u001b[0;31mType:\u001b[0m      function\n"
      ]
     },
     "metadata": {},
     "output_type": "display_data"
    }
   ],
   "source": [
    "??jax.lax.reduce_window"
   ]
  },
  {
   "cell_type": "code",
   "execution_count": 238,
   "id": "played-violation",
   "metadata": {},
   "outputs": [
    {
     "data": {
      "text/plain": [
       "\u001b[0;31mSignature:\u001b[0m \u001b[0mjax\u001b[0m\u001b[0;34m.\u001b[0m\u001b[0mlax\u001b[0m\u001b[0;34m.\u001b[0m\u001b[0mmax\u001b[0m\u001b[0;34m(\u001b[0m\u001b[0mx\u001b[0m\u001b[0;34m:\u001b[0m \u001b[0mAny\u001b[0m\u001b[0;34m,\u001b[0m \u001b[0my\u001b[0m\u001b[0;34m:\u001b[0m \u001b[0mAny\u001b[0m\u001b[0;34m)\u001b[0m \u001b[0;34m->\u001b[0m \u001b[0mAny\u001b[0m\u001b[0;34m\u001b[0m\u001b[0;34m\u001b[0m\u001b[0m\n",
       "\u001b[0;31mSource:\u001b[0m   \n",
       "\u001b[0;32mdef\u001b[0m \u001b[0mmax\u001b[0m\u001b[0;34m(\u001b[0m\u001b[0mx\u001b[0m\u001b[0;34m:\u001b[0m \u001b[0mArray\u001b[0m\u001b[0;34m,\u001b[0m \u001b[0my\u001b[0m\u001b[0;34m:\u001b[0m \u001b[0mArray\u001b[0m\u001b[0;34m)\u001b[0m \u001b[0;34m->\u001b[0m \u001b[0mArray\u001b[0m\u001b[0;34m:\u001b[0m\u001b[0;34m\u001b[0m\n",
       "\u001b[0;34m\u001b[0m  \u001b[0;34mr\"\"\"Elementwise maximum: :math:`\\mathrm{max}(x, y)`\u001b[0m\n",
       "\u001b[0;34m\u001b[0m\n",
       "\u001b[0;34m  For complex numbers, uses a lexicographic comparison on the\u001b[0m\n",
       "\u001b[0;34m  `(real, imaginary)` pairs.\"\"\"\u001b[0m\u001b[0;34m\u001b[0m\n",
       "\u001b[0;34m\u001b[0m  \u001b[0;32mreturn\u001b[0m \u001b[0mmax_p\u001b[0m\u001b[0;34m.\u001b[0m\u001b[0mbind\u001b[0m\u001b[0;34m(\u001b[0m\u001b[0mx\u001b[0m\u001b[0;34m,\u001b[0m \u001b[0my\u001b[0m\u001b[0;34m)\u001b[0m\u001b[0;34m\u001b[0m\u001b[0;34m\u001b[0m\u001b[0m\n",
       "\u001b[0;31mFile:\u001b[0m      ~/anaconda3/lib/python3.8/site-packages/jax/_src/lax/lax.py\n",
       "\u001b[0;31mType:\u001b[0m      function\n"
      ]
     },
     "metadata": {},
     "output_type": "display_data"
    }
   ],
   "source": [
    "??jax.lax.max"
   ]
  },
  {
   "cell_type": "code",
   "execution_count": null,
   "id": "returning-humanitarian",
   "metadata": {},
   "outputs": [],
   "source": []
  }
 ],
 "metadata": {
  "kernelspec": {
   "display_name": "Python 3 (ipykernel)",
   "language": "python",
   "name": "python3"
  },
  "language_info": {
   "codemirror_mode": {
    "name": "ipython",
    "version": 3
   },
   "file_extension": ".py",
   "mimetype": "text/x-python",
   "name": "python",
   "nbconvert_exporter": "python",
   "pygments_lexer": "ipython3",
   "version": "3.8.5"
  },
  "vscode": {
   "interpreter": {
    "hash": "a9eb3d55570fa83a5d0e75ab0fc9e29d7692aa2022c5c86ae3b4c36003072d28"
   }
  }
 },
 "nbformat": 4,
 "nbformat_minor": 5
}
